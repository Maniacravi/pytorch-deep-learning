{
  "nbformat": 4,
  "nbformat_minor": 0,
  "metadata": {
    "colab": {
      "provenance": [],
      "authorship_tag": "ABX9TyPaQhmZS9EqPUS1/iLdiSD8",
      "include_colab_link": true
    },
    "kernelspec": {
      "name": "python3",
      "display_name": "Python 3"
    },
    "language_info": {
      "name": "python"
    }
  },
  "cells": [
    {
      "cell_type": "markdown",
      "metadata": {
        "id": "view-in-github",
        "colab_type": "text"
      },
      "source": [
        "<a href=\"https://colab.research.google.com/github/Maniacravi/pytorch-deep-learning/blob/main/01_pytorch_workflow_mani.ipynb\" target=\"_parent\"><img src=\"https://colab.research.google.com/assets/colab-badge.svg\" alt=\"Open In Colab\"/></a>"
      ]
    },
    {
      "cell_type": "markdown",
      "source": [
        "# Pytorch Workflow fundamentals"
      ],
      "metadata": {
        "id": "Ksdtx6fxGXH_"
      }
    },
    {
      "cell_type": "markdown",
      "source": [
        "<img src=\"https://raw.githubusercontent.com/mrdbourke/pytorch-deep-learning/main/images/01_a_pytorch_workflow.png\" width=900 alt=\"a pytorch workflow flowchat\"/>"
      ],
      "metadata": {
        "id": "t6r-GU4sG06t"
      }
    },
    {
      "cell_type": "markdown",
      "source": [
        "Specifically, we're going to cover:\n",
        "\n",
        "| **Topic** | **Contents** |\n",
        "| ----- | ----- |\n",
        "| **1. Getting data ready** | Data can be almost anything but to get started we're going to create a simple straight line |\n",
        "| **2. Building a model** | Here we'll create a model to learn patterns in the data, we'll also choose a **loss function**, **optimizer** and build a **training loop**. |\n",
        "| **3. Fitting the model to data (training)** | We've got data and a model, now let's let the model (try to) find patterns in the (**training**) data. |\n",
        "| **4. Making predictions and evaluating a model (inference)** | Our model's found patterns in the data, let's compare its findings to the actual (**testing**) data. |\n",
        "| **5. Saving and loading a model** | You may want to use your model elsewhere, or come back to it later, here we'll cover that. |\n",
        "| **6. Putting it all together** | Let's take all of the above and combine it. |"
      ],
      "metadata": {
        "id": "A7bX3RUiG92g"
      }
    },
    {
      "cell_type": "code",
      "execution_count": 1,
      "metadata": {
        "id": "fcxAGRbiGMYg",
        "colab": {
          "base_uri": "https://localhost:8080/"
        },
        "outputId": "38534ac0-4945-4497-e4fa-c2738d19177e"
      },
      "outputs": [
        {
          "output_type": "execute_result",
          "data": {
            "text/plain": [
              "{1: 'data (prepare and load)',\n",
              " 2: 'build model',\n",
              " 3: 'fitting the model to data (training)',\n",
              " 4: 'making predictions and evaluating a model (inference)',\n",
              " 5: 'saving and loading a model',\n",
              " 6: 'putting it all together'}"
            ]
          },
          "metadata": {},
          "execution_count": 1
        }
      ],
      "source": [
        "what_were_covering = {1: \"data (prepare and load)\",\n",
        "    2: \"build model\",\n",
        "    3: \"fitting the model to data (training)\",\n",
        "    4: \"making predictions and evaluating a model (inference)\",\n",
        "    5: \"saving and loading a model\",\n",
        "    6: \"putting it all together\"\n",
        "}\n",
        "what_were_covering"
      ]
    },
    {
      "cell_type": "code",
      "source": [
        "import torch\n",
        "from torch import nn\n",
        "import matplotlib.pyplot as plt\n",
        "\n",
        "# Check version\n",
        "torch.__version__"
      ],
      "metadata": {
        "colab": {
          "base_uri": "https://localhost:8080/",
          "height": 35
        },
        "id": "s2Yo6Qm9HNr9",
        "outputId": "196591be-afe8-4012-9ff7-4f924e9a70ce"
      },
      "execution_count": 2,
      "outputs": [
        {
          "output_type": "execute_result",
          "data": {
            "text/plain": [
              "'2.6.0+cu124'"
            ],
            "application/vnd.google.colaboratory.intrinsic+json": {
              "type": "string"
            }
          },
          "metadata": {},
          "execution_count": 2
        }
      ]
    },
    {
      "cell_type": "markdown",
      "source": [
        "## Data preparing and loading"
      ],
      "metadata": {
        "id": "5h_ULVhQI-9b"
      }
    },
    {
      "cell_type": "markdown",
      "source": [
        "![ML Data](https://raw.githubusercontent.com/mrdbourke/pytorch-deep-learning/main/images/01-machine-learning-a-game-of-two-parts.png)\n"
      ],
      "metadata": {
        "id": "hLbn1QQhJvN-"
      }
    },
    {
      "cell_type": "code",
      "source": [
        "# Use linear regression to make a straight line\n",
        "\n",
        "# Create known params\n",
        "weight = 0.7\n",
        "bias = 0.3\n",
        "\n",
        "# Create data\n",
        "start = 0\n",
        "end = 1\n",
        "step = 0.02\n",
        "X = torch.arange(start, end, step).unsqueeze(dim=1)\n",
        "y = weight * X + bias\n",
        "\n",
        "X[:10], y[:10]"
      ],
      "metadata": {
        "colab": {
          "base_uri": "https://localhost:8080/"
        },
        "id": "bXoHc2B_IxbK",
        "outputId": "1bc2592f-43f0-4fe9-917f-a301f1d20226"
      },
      "execution_count": 3,
      "outputs": [
        {
          "output_type": "execute_result",
          "data": {
            "text/plain": [
              "(tensor([[0.0000],\n",
              "         [0.0200],\n",
              "         [0.0400],\n",
              "         [0.0600],\n",
              "         [0.0800],\n",
              "         [0.1000],\n",
              "         [0.1200],\n",
              "         [0.1400],\n",
              "         [0.1600],\n",
              "         [0.1800]]),\n",
              " tensor([[0.3000],\n",
              "         [0.3140],\n",
              "         [0.3280],\n",
              "         [0.3420],\n",
              "         [0.3560],\n",
              "         [0.3700],\n",
              "         [0.3840],\n",
              "         [0.3980],\n",
              "         [0.4120],\n",
              "         [0.4260]]))"
            ]
          },
          "metadata": {},
          "execution_count": 3
        }
      ]
    },
    {
      "cell_type": "code",
      "source": [
        "len(X), len(y)"
      ],
      "metadata": {
        "colab": {
          "base_uri": "https://localhost:8080/"
        },
        "id": "iAmF48_bQsgA",
        "outputId": "55c739d4-b802-4aa9-ef8b-b3413ab75175"
      },
      "execution_count": 4,
      "outputs": [
        {
          "output_type": "execute_result",
          "data": {
            "text/plain": [
              "(50, 50)"
            ]
          },
          "metadata": {},
          "execution_count": 4
        }
      ]
    },
    {
      "cell_type": "code",
      "source": [
        "# Visualize our data\n",
        "\n",
        "fig, ax = plt.subplots(figsize=(5, 5))\n",
        "ax.scatter(X, y)\n",
        "ax.set_xlabel(\"X\")\n",
        "ax.set_ylabel(\"y\")"
      ],
      "metadata": {
        "colab": {
          "base_uri": "https://localhost:8080/",
          "height": 482
        },
        "id": "17SyoOazQxJN",
        "outputId": "9d744cd7-003f-43c5-f0c8-ecbaf9b070fb"
      },
      "execution_count": 5,
      "outputs": [
        {
          "output_type": "execute_result",
          "data": {
            "text/plain": [
              "Text(0, 0.5, 'y')"
            ]
          },
          "metadata": {},
          "execution_count": 5
        },
        {
          "output_type": "display_data",
          "data": {
            "text/plain": [
              "<Figure size 500x500 with 1 Axes>"
            ],
            "image/png": "[encoded data removed]"
          },
          "metadata": {}
        }
      ]
    },
    {
      "cell_type": "code",
      "source": [
        "# Splitting into training and test set\n",
        "\n",
        "train_split = int(0.8 * len(X))\n",
        "X_train, y_train = X[:train_split], y[:train_split]\n",
        "X_test, y_test = X[train_split:], y[train_split:]\n",
        "\n",
        "len(X_train), len(y_train), len(X_test), len(y_test)"
      ],
      "metadata": {
        "colab": {
          "base_uri": "https://localhost:8080/"
        },
        "id": "Rn2c5muSRKba",
        "outputId": "aa103066-e1c7-43a4-fbd6-9bbc362f5a8f"
      },
      "execution_count": 6,
      "outputs": [
        {
          "output_type": "execute_result",
          "data": {
            "text/plain": [
              "(40, 40, 10, 10)"
            ]
          },
          "metadata": {},
          "execution_count": 6
        }
      ]
    },
    {
      "cell_type": "code",
      "source": [
        "# create a function to plot origina data and predictions\n",
        "\n",
        "def plot_predictions(train_data = X_train,\n",
        "                     train_labels = y_train,\n",
        "                     test_data = X_test,\n",
        "                     test_labels = y_test,\n",
        "                     predictions=None):\n",
        "\n",
        "  '''\n",
        "  Plots training data, test data and compares predictions\n",
        "  '''\n",
        "\n",
        "  plt.figure(figsize=(14, 6))\n",
        "\n",
        "  # Plt training data in blue\n",
        "  plt.scatter(train_data, train_labels, c=\"b\", s=4, label=\"Training data\")\n",
        "\n",
        "  # Plot test data in green\n",
        "  plt.scatter(test_data, test_labels, c=\"g\", s=4, label=\"Testing data\")\n",
        "\n",
        "  if predictions is not None:\n",
        "    # Plot the predictions in red (predictions were made on the test data)\n",
        "    plt.scatter(test_data, predictions, c=\"r\", s=4, label=\"Predictions\")\n",
        "\n",
        "  plt.legend()\n",
        "  plt.show()\n",
        "\n"
      ],
      "metadata": {
        "id": "Tlph4icDRxkq"
      },
      "execution_count": 7,
      "outputs": []
    },
    {
      "cell_type": "code",
      "source": [
        "plot_predictions()"
      ],
      "metadata": {
        "colab": {
          "base_uri": "https://localhost:8080/",
          "height": 522
        },
        "id": "HVFfh_W8S4Wl",
        "outputId": "c890930b-5b22-47eb-f457-83c169f3b17c"
      },
      "execution_count": 8,
      "outputs": [
        {
          "output_type": "display_data",
          "data": {
            "text/plain": [
              "<Figure size 1400x600 with 1 Axes>"
            ],
            "image/png": "[encoded data removed]"
          },
          "metadata": {}
        }
      ]
    },
    {
      "cell_type": "markdown",
      "source": [
        "## Build model"
      ],
      "metadata": {
        "id": "URUqApAvTcg_"
      }
    },
    {
      "cell_type": "code",
      "source": [
        "class LinearRegressionModel(nn.Module): # almost eveerything in PyTorch is a nn.Module\n",
        "\n",
        "  def __init__(self):\n",
        "    super().__init__()\n",
        "\n",
        "    self.weights = nn.Parameter(torch.randn(1,\n",
        "                                            requires_grad=True,\n",
        "                                            dtype=torch.float))\n",
        "    self.bias = nn.Parameter(torch.randn(1,\n",
        "                                         requires_grad=True,\n",
        "                                         dtype=torch.float))\n",
        "\n",
        "  # Forward method to define computation in the model\n",
        "  def forward(self, x: torch.Tensor) -> torch.Tensor:\n",
        "    return self.weights * x + self.bias # This is the linear regression model\n",
        "\n"
      ],
      "metadata": {
        "id": "Tnj2vSlPTi__"
      },
      "execution_count": 9,
      "outputs": []
    },
    {
      "cell_type": "markdown",
      "source": [
        "![a pytorch linear model with annotations](https://raw.githubusercontent.com/mrdbourke/pytorch-deep-learning/main/images/01-pytorch-linear-model-annotated.png)"
      ],
      "metadata": {
        "id": "LP1a5E7qXtOM"
      }
    },
    {
      "cell_type": "markdown",
      "source": [
        "### PyTorch model building essentials"
      ],
      "metadata": {
        "id": "QBG0_qO0XuQC"
      }
    },
    {
      "cell_type": "markdown",
      "source": [
        "\n",
        "| PyTorch module | What does it do? |\n",
        "| ----- | ----- |\n",
        "| [`torch.nn`](https://pytorch.org/docs/stable/nn.html) | Contains all of the building blocks for computational graphs (essentially a series of computations executed in a particular way). |\n",
        "| [`torch.nn.Parameter`](https://pytorch.org/docs/stable/generated/torch.nn.parameter.Parameter.html#parameter) | Stores tensors that can be used with `nn.Module`. If `requires_grad=True` gradients (used for updating model parameters via [**gradient descent**](https://ml-cheatsheet.readthedocs.io/en/latest/gradient_descent.html))  are calculated automatically, this is often referred to as \"autograd\".  |\n",
        "| [`torch.nn.Module`](https://pytorch.org/docs/stable/generated/torch.nn.Module.html#torch.nn.Module) | The base class for all neural network modules, all the building blocks for neural networks are subclasses. If you're building a neural network in PyTorch, your models should subclass `nn.Module`. Requires a `forward()` method be implemented. |\n",
        "| [`torch.optim`](https://pytorch.org/docs/stable/optim.html) | Contains various optimization algorithms (these tell the model parameters stored in `nn.Parameter` how to best change to improve gradient descent and in turn reduce the loss). |\n",
        "| `def forward()` | All `nn.Module` subclasses require a `forward()` method, this defines the computation that will take place on the data passed to the particular `nn.Module` (e.g. the linear regression formula above). |\n",
        "\n",
        "> **Resource:** See more of these essential modules and their use cases in the [PyTorch Cheat Sheet](https://pytorch.org/tutorials/beginner/ptcheat.html)."
      ],
      "metadata": {
        "id": "VJV-GM4dX4lm"
      }
    },
    {
      "cell_type": "code",
      "source": [
        "# Checking the contents of our model\n",
        "\n",
        "# create a random seed\n",
        "torch.manual_seed(42)\n",
        "\n",
        "# Create an instance of the module\n",
        "model_0 = LinearRegressionModel()\n",
        "\n",
        "model_0.parameters()"
      ],
      "metadata": {
        "colab": {
          "base_uri": "https://localhost:8080/"
        },
        "id": "QWeUn94OYciQ",
        "outputId": "4ea3f951-052c-4fbc-dd75-b0294dd38e81"
      },
      "execution_count": 10,
      "outputs": [
        {
          "output_type": "execute_result",
          "data": {
            "text/plain": [
              "<generator object Module.parameters at 0x78472bf72420>"
            ]
          },
          "metadata": {},
          "execution_count": 10
        }
      ]
    },
    {
      "cell_type": "code",
      "source": [
        "list(model_0.parameters())"
      ],
      "metadata": {
        "colab": {
          "base_uri": "https://localhost:8080/"
        },
        "id": "4vK9zdQ9Z4D6",
        "outputId": "f985fc0b-3091-4a5f-ed56-4c4ddc5c41f3"
      },
      "execution_count": 11,
      "outputs": [
        {
          "output_type": "execute_result",
          "data": {
            "text/plain": [
              "[Parameter containing:\n",
              " tensor([0.3367], requires_grad=True),\n",
              " Parameter containing:\n",
              " tensor([0.1288], requires_grad=True)]"
            ]
          },
          "metadata": {},
          "execution_count": 11
        }
      ]
    },
    {
      "cell_type": "code",
      "source": [
        "# List named parameters\n",
        "model_0.state_dict()"
      ],
      "metadata": {
        "colab": {
          "base_uri": "https://localhost:8080/"
        },
        "id": "bDTFvRbQaE4d",
        "outputId": "6e727558-6472-49a5-e397-a9c696e38c1e"
      },
      "execution_count": 12,
      "outputs": [
        {
          "output_type": "execute_result",
          "data": {
            "text/plain": [
              "OrderedDict([('weights', tensor([0.3367])), ('bias', tensor([0.1288]))])"
            ]
          },
          "metadata": {},
          "execution_count": 12
        }
      ]
    },
    {
      "cell_type": "markdown",
      "source": [
        "### Make predictions as is with the model without training"
      ],
      "metadata": {
        "id": "5DMtsnafab52"
      }
    },
    {
      "cell_type": "code",
      "source": [
        "with torch.inference_mode():\n",
        "  y_preds = model_0(X_test)\n",
        "\n",
        "y_preds"
      ],
      "metadata": {
        "colab": {
          "base_uri": "https://localhost:8080/"
        },
        "id": "VcN3jErgatIU",
        "outputId": "ed34ed12-3d10-470b-e8a1-20e74c41e3be"
      },
      "execution_count": 13,
      "outputs": [
        {
          "output_type": "execute_result",
          "data": {
            "text/plain": [
              "tensor([[0.3982],\n",
              "        [0.4049],\n",
              "        [0.4116],\n",
              "        [0.4184],\n",
              "        [0.4251],\n",
              "        [0.4318],\n",
              "        [0.4386],\n",
              "        [0.4453],\n",
              "        [0.4520],\n",
              "        [0.4588]])"
            ]
          },
          "metadata": {},
          "execution_count": 13
        }
      ]
    },
    {
      "cell_type": "markdown",
      "source": [
        "You probably noticed we used torch.inference_mode() as a context manager (that's what the with torch.inference_mode(): is) to make the predictions.\n",
        "\n",
        "As the name suggests, torch.inference_mode() is used when using a model for inference (making predictions).\n",
        "\n",
        "torch.inference_mode() turns off a bunch of things (like gradient tracking, which is necessary for training but not for inference) to make forward-passes (data going through the forward() method) faster.\n",
        "\n",
        "> **Note:** In older PyTorch code, you may also see `torch.no_grad()` being used for inference. While `torch.inference_mode()` and `torch.no_grad()` do similar things,\n",
        "`torch.inference_mode()` is newer, potentially faster and preferred. See this [Tweet from PyTorch](https://twitter.com/PyTorch/status/1437838231505096708?s=20) for more.\n",
        "\n",
        "We've made some predictions, let's see what they look like."
      ],
      "metadata": {
        "id": "n44LP3YecGZk"
      }
    },
    {
      "cell_type": "code",
      "source": [
        "plot_predictions(predictions=y_preds)"
      ],
      "metadata": {
        "colab": {
          "base_uri": "https://localhost:8080/",
          "height": 522
        },
        "id": "MnA64ivJbDam",
        "outputId": "ad2e1fe6-8ce3-4afc-ed9a-a5dd7aa980d3"
      },
      "execution_count": 14,
      "outputs": [
        {
          "output_type": "display_data",
          "data": {
            "text/plain": [
              "<Figure size 1400x600 with 1 Axes>"
            ],
            "image/png": "[encoded data removed]"
          },
          "metadata": {}
        }
      ]
    },
    {
      "cell_type": "code",
      "source": [
        "(y_test - y_preds).mean() # Mean error"
      ],
      "metadata": {
        "colab": {
          "base_uri": "https://localhost:8080/"
        },
        "id": "xWN4HwNCchJf",
        "outputId": "be665a06-fd0d-4e09-d00c-aab5232b333e"
      },
      "execution_count": 15,
      "outputs": [
        {
          "output_type": "execute_result",
          "data": {
            "text/plain": [
              "tensor(0.4945)"
            ]
          },
          "metadata": {},
          "execution_count": 15
        }
      ]
    },
    {
      "cell_type": "markdown",
      "source": [
        "## Train model"
      ],
      "metadata": {
        "id": "0ZJNfRmfbnYq"
      }
    },
    {
      "cell_type": "markdown",
      "source": [
        "For our model to update its parameters on its own, we'll need to add a few more things to our recipe.\n",
        "\n",
        "And that's a **loss function** as well as an **optimizer**.\n",
        "\n",
        "The rolls of these are:\n",
        "\n",
        "| Function | What does it do? | Where does it live in PyTorch? | Common values |\n",
        "| ----- | ----- | ----- | ----- |\n",
        "| **Loss function** | Measures how wrong your model's predictions (e.g. `y_preds`) are compared to the truth labels (e.g. `y_test`). Lower the better. | PyTorch has plenty of built-in loss functions in [`torch.nn`](https://pytorch.org/docs/stable/nn.html#loss-functions). | Mean absolute error (MAE) for regression problems ([`torch.nn.L1Loss()`](https://pytorch.org/docs/stable/generated/torch.nn.L1Loss.html)). Binary cross entropy for binary classification problems ([`torch.nn.BCELoss()`](https://pytorch.org/docs/stable/generated/torch.nn.BCELoss.html)).  |\n",
        "| **Optimizer** | Tells your model how to update its internal parameters to best lower the loss. | You can find various optimization function implementations in [`torch.optim`](https://pytorch.org/docs/stable/optim.html). | Stochastic gradient descent ([`torch.optim.SGD()`](https://pytorch.org/docs/stable/generated/torch.optim.SGD.html#torch.optim.SGD)). Adam optimizer ([`torch.optim.Adam()`](https://pytorch.org/docs/stable/generated/torch.optim.Adam.html#torch.optim.Adam)). |\n",
        "\n",
        "Let's create a loss function and an optimizer we can use to help improve our model."
      ],
      "metadata": {
        "id": "qvlNdjuVdURG"
      }
    },
    {
      "cell_type": "code",
      "source": [
        "# We need to create a loss function\n",
        "loss_fn = nn.L1Loss() # Mean absolute error is same as L1Loss\n",
        "\n",
        "# Create the optimizer\n",
        "optimizer = torch.optim.SGD(params=model_0.parameters(), # Stochastic Gradient Descent\n",
        "                           lr=0.01) # Learning Rate"
      ],
      "metadata": {
        "id": "XGvkOXfrb69Y"
      },
      "execution_count": 16,
      "outputs": []
    },
    {
      "cell_type": "markdown",
      "source": [
        "### Building a training loop"
      ],
      "metadata": {
        "id": "Bz2UkW7ed49V"
      }
    },
    {
      "cell_type": "markdown",
      "source": [
        "\n",
        "\n",
        "### PyTorch training loop\n",
        "For the training loop, we'll build the following steps:\n",
        "\n",
        "| Number | Step name | What does it do? | Code example |\n",
        "| ----- | ----- | ----- | ----- |\n",
        "| 1 | Forward pass | The model goes through all of the training data once, performing its `forward()` function calculations. | `model(x_train)` |\n",
        "| 2 | Calculate the loss | The model's outputs (predictions) are compared to the ground truth and evaluated to see how wrong they are. | `loss = loss_fn(y_pred, y_train)` |\n",
        "| 3 | Zero gradients | The optimizers gradients are set to zero (they are accumulated by default) so they can be recalculated for the specific training step. | `optimizer.zero_grad()` |\n",
        "| 4 | Perform backpropagation on the loss | Computes the gradient of the loss with respect for every model parameter to be updated  (each parameter with `requires_grad=True`). This is known as **backpropagation**, hence \"backwards\".  | `loss.backward()` |\n",
        "| 5 | Update the optimizer (**gradient descent**) | Update the parameters with `requires_grad=True` with respect to the loss gradients in order to improve them. | `optimizer.step()` |\n",
        "\n",
        "![pytorch training loop annotated](https://raw.githubusercontent.com/mrdbourke/pytorch-deep-learning/main/images/01-pytorch-training-loop-annotated.png)\n",
        "\n",
        "> **Note:** The above is just one example of how the steps could be ordered or described. With experience you'll find making PyTorch training loops can be quite flexible.\n",
        ">\n",
        "> And on the ordering of things, the above is a good default order but you may see slightly different orders. Some rules of thumb:\n",
        "> * Calculate the loss (`loss = ...`) *before* performing backpropagation on it (`loss.backward()`).\n",
        "> * Zero gradients (`optimizer.zero_grad()`) *before* computing the gradients of the loss with respect to every model parameter (`loss.backward()`).\n",
        "> * Step the optimizer (`optimizer.step()`) *after* performing backpropagation on the loss (`loss.backward()`).\n",
        "\n",
        "For resources to help understand what's happening behind the scenes with backpropagation and gradient descent, see the extra-curriculum section."
      ],
      "metadata": {
        "id": "BPELXltXeaSl"
      }
    },
    {
      "cell_type": "code",
      "source": [
        "# Pass the data through a function in epochs\n",
        "epochs = 200\n",
        "\n",
        "# create empty loss lists to track values\n",
        "train_losses = []\n",
        "test_losses = []\n",
        "epoch_count = []\n",
        "\n",
        "for epoch in range(epochs):\n",
        "\n",
        "  # Put model in training mode\n",
        "  model_0.train()\n",
        "\n",
        "  # Forward prop\n",
        "  y_pred = model_0(X_train)\n",
        "\n",
        "  # Calculate loss\n",
        "  loss = loss_fn(y_pred, y_train)\n",
        "\n",
        "  # zero the gradients\n",
        "  optimizer.zero_grad()\n",
        "\n",
        "  # Backprop\n",
        "  loss.backward()\n",
        "\n",
        "  # Step the optimizer\n",
        "  optimizer.step()\n",
        "\n",
        "  # Test data\n",
        "  model_0.eval() # Turn on eval mode - turns off things not needed in testing mode\n",
        "\n",
        "  with torch.inference_mode(): # turns off gradient tracking\n",
        "    # Forward prop on test data\n",
        "    test_pred = model_0(X_test)\n",
        "\n",
        "    # Calculate loss\n",
        "    test_loss = loss_fn(test_pred, y_test.type(torch.float)) # predictions come in torch.float datatype, so comparisons need to be done with tensors of the same type\n",
        "\n",
        "  # Print what's happening\n",
        "  if epoch % 10 == 0:\n",
        "    epoch_count.append(epoch)\n",
        "    train_losses.append(loss.detach().numpy())\n",
        "    test_losses.append(test_loss.detach().numpy())\n",
        "    print(f\"Epoch: {epoch} | Train Loss: {loss} | Test Loss: {test_loss}\")\n"
      ],
      "metadata": {
        "colab": {
          "base_uri": "https://localhost:8080/"
        },
        "id": "AYw5gDU6eG8Y",
        "outputId": "f5bef47a-e7f2-4fbb-c028-62e1b4a435dc"
      },
      "execution_count": 17,
      "outputs": [
        {
          "output_type": "stream",
          "name": "stdout",
          "text": [
            "Epoch: 0 | Train Loss: 0.31288138031959534 | Test Loss: 0.48106518387794495\n",
            "Epoch: 10 | Train Loss: 0.1976713240146637 | Test Loss: 0.3463551998138428\n",
            "Epoch: 20 | Train Loss: 0.08908725529909134 | Test Loss: 0.21729660034179688\n",
            "Epoch: 30 | Train Loss: 0.053148526698350906 | Test Loss: 0.14464017748832703\n",
            "Epoch: 40 | Train Loss: 0.04543796554207802 | Test Loss: 0.11360953003168106\n",
            "Epoch: 50 | Train Loss: 0.04167863354086876 | Test Loss: 0.09919948130846024\n",
            "Epoch: 60 | Train Loss: 0.03818932920694351 | Test Loss: 0.08886633068323135\n",
            "Epoch: 70 | Train Loss: 0.03476089984178543 | Test Loss: 0.0805937647819519\n",
            "Epoch: 80 | Train Loss: 0.03132382780313492 | Test Loss: 0.07232122868299484\n",
            "Epoch: 90 | Train Loss: 0.02788739837706089 | Test Loss: 0.06473556160926819\n",
            "Epoch: 100 | Train Loss: 0.024458957836031914 | Test Loss: 0.05646304413676262\n",
            "Epoch: 110 | Train Loss: 0.021020207554101944 | Test Loss: 0.04819049686193466\n",
            "Epoch: 120 | Train Loss: 0.01758546568453312 | Test Loss: 0.04060482233762741\n",
            "Epoch: 130 | Train Loss: 0.014155393466353416 | Test Loss: 0.03233227878808975\n",
            "Epoch: 140 | Train Loss: 0.010716589167714119 | Test Loss: 0.024059748277068138\n",
            "Epoch: 150 | Train Loss: 0.0072835334576666355 | Test Loss: 0.016474086791276932\n",
            "Epoch: 160 | Train Loss: 0.0038517764769494534 | Test Loss: 0.008201557211577892\n",
            "Epoch: 170 | Train Loss: 0.008932482451200485 | Test Loss: 0.005023092031478882\n",
            "Epoch: 180 | Train Loss: 0.008932482451200485 | Test Loss: 0.005023092031478882\n",
            "Epoch: 190 | Train Loss: 0.008932482451200485 | Test Loss: 0.005023092031478882\n"
          ]
        }
      ]
    },
    {
      "cell_type": "code",
      "source": [
        "with torch.inference_mode():\n",
        "    # 3. Make sure the calculations are done with the model and data on the same device\n",
        "  # in our case, we haven't setup device-agnostic code yet so our data and model are\n",
        "  # on the CPU by default.\n",
        "  # model_0.to(device)\n",
        "  # X_test = X_test.to(device)\n",
        "  y_preds = model_0(X_test)\n",
        "\n",
        "plot_predictions(predictions=y_preds)"
      ],
      "metadata": {
        "colab": {
          "base_uri": "https://localhost:8080/",
          "height": 522
        },
        "id": "0RPYZ6RHfuFY",
        "outputId": "f236eaf9-c211-4fa2-ea09-ec3bd659198f"
      },
      "execution_count": 21,
      "outputs": [
        {
          "output_type": "display_data",
          "data": {
            "text/plain": [
              "<Figure size 1400x600 with 1 Axes>"
            ],
            "image/png": "[encoded data removed]"
          },
          "metadata": {}
        }
      ]
    },
    {
      "cell_type": "code",
      "source": [
        "# Plot the loss curves\n",
        "\n",
        "plt.plot(epoch_count, train_losses, label='Training Loss')\n",
        "plt.plot(epoch_count, test_losses, label='Test Loss')\n",
        "plt.title('Training and Test Loss Curves')\n",
        "plt.xlabel('Epochs')\n",
        "plt.ylabel('Loss')\n",
        "plt.legend()"
      ],
      "metadata": {
        "id": "2JODS-Jnf2rM",
        "outputId": "3e98c6f1-1767-4e1b-e8c0-aec9fa8cd9fb",
        "colab": {
          "base_uri": "https://localhost:8080/",
          "height": 489
        }
      },
      "execution_count": 19,
      "outputs": [
        {
          "output_type": "execute_result",
          "data": {
            "text/plain": [
              "<matplotlib.legend.Legend at 0x784721b85c90>"
            ]
          },
          "metadata": {},
          "execution_count": 19
        },
        {
          "output_type": "display_data",
          "data": {
            "text/plain": [
              "<Figure size 640x480 with 1 Axes>"
            ],
            "image/png": "[encoded data removed]"
          },
          "metadata": {}
        }
      ]
    },
    {
      "cell_type": "code",
      "source": [
        "model_0.state_dict()"
      ],
      "metadata": {
        "id": "0K5cOb9Pup0q",
        "outputId": "6e1f7f5f-dfc1-4305-cf08-9570c56ae071",
        "colab": {
          "base_uri": "https://localhost:8080/"
        }
      },
      "execution_count": 20,
      "outputs": [
        {
          "output_type": "execute_result",
          "data": {
            "text/plain": [
              "OrderedDict([('weights', tensor([0.6990])), ('bias', tensor([0.3093]))])"
            ]
          },
          "metadata": {},
          "execution_count": 20
        }
      ]
    },
    {
      "cell_type": "markdown",
      "source": [
        "As we can see, pretty pretty close to actual weight and bias!"
      ],
      "metadata": {
        "id": "BMdnh4yI1Z6o"
      }
    },
    {
      "cell_type": "markdown",
      "source": [
        "## Saving and Loading a Model"
      ],
      "metadata": {
        "id": "wvrtRWjsyK06"
      }
    },
    {
      "cell_type": "markdown",
      "source": [
        "The [recommended way](https://pytorch.org/tutorials/beginner/saving_loading_models.html#saving-loading-model-for-inference) for saving and loading a model for inference (making predictions) is by saving and loading a model's `state_dict()`.\n",
        "\n",
        "Let's see how we can do that in a few steps:\n",
        "\n",
        "1. We'll create a directory for saving models to called `models` using Python's `pathlib` module.\n",
        "2. We'll create a file path to save the model to.\n",
        "3. We'll call `torch.save(obj, f)` where `obj` is the target model's `state_dict()` and `f` is the filename of where to save the model.\n",
        "\n",
        "> **Note:** It's common convention for PyTorch saved models or objects to end with `.pt` or `.pth`, like `saved_model_01.pth`."
      ],
      "metadata": {
        "id": "ZYPfZjOpCrHP"
      }
    },
    {
      "cell_type": "code",
      "source": [
        "# Saving our model\n",
        "from pathlib import Path\n",
        "\n",
        "# Create a models directory\n",
        "MODEL_PATH = Path(\"models\")\n",
        "MODEL_PATH.mkdir(parents=True, exist_ok=True)\n",
        "\n",
        "# Create model save path\n",
        "MODEL_NAME = \"01_pytorch_workflow_model.pth\"\n",
        "MODEL_SAVE_PATH = MODEL_PATH / MODEL_NAME # Because MODEL_PATH is a pathlib Path object, this syntax works\n",
        "\n",
        "# Save the model state dict\n",
        "print(f\"Saving model to: {MODEL_SAVE_PATH}\")\n",
        "torch.save(obj = model_0.state_dict(),\n",
        "           f = MODEL_SAVE_PATH)"
      ],
      "metadata": {
        "id": "6Ejw6H1sCCYe",
        "outputId": "ced97880-2da7-4c32-b41d-bf336f64e779",
        "colab": {
          "base_uri": "https://localhost:8080/"
        }
      },
      "execution_count": 24,
      "outputs": [
        {
          "output_type": "stream",
          "name": "stdout",
          "text": [
            "Saving model to: models/01_pytorch_workflow_model.pth\n"
          ]
        }
      ]
    },
    {
      "cell_type": "code",
      "source": [
        "# Loading our saved model\n",
        "\n",
        "loaded_model = LinearRegressionModel()\n",
        "loaded_model.load_state_dict(torch.load(f = MODEL_SAVE_PATH))"
      ],
      "metadata": {
        "id": "OYNOdnkLD9ro",
        "outputId": "6a513566-b21d-4be5-91a9-45e4ebeb10b1",
        "colab": {
          "base_uri": "https://localhost:8080/"
        }
      },
      "execution_count": 25,
      "outputs": [
        {
          "output_type": "execute_result",
          "data": {
            "text/plain": [
              "<All keys matched successfully>"
            ]
          },
          "metadata": {},
          "execution_count": 25
        }
      ]
    },
    {
      "cell_type": "code",
      "source": [
        "# Let's do inference with the model\n",
        "loaded_model.eval()\n",
        "with torch.inference_mode():\n",
        "  loaded_model_preds = loaded_model(X_test)\n",
        "\n",
        "loaded_model_preds"
      ],
      "metadata": {
        "id": "_m_HPJzBE3pa",
        "outputId": "ee293ea0-f164-4943-ddc5-03f2d13d78df",
        "colab": {
          "base_uri": "https://localhost:8080/"
        }
      },
      "execution_count": 26,
      "outputs": [
        {
          "output_type": "execute_result",
          "data": {
            "text/plain": [
              "tensor([[0.8685],\n",
              "        [0.8825],\n",
              "        [0.8965],\n",
              "        [0.9105],\n",
              "        [0.9245],\n",
              "        [0.9384],\n",
              "        [0.9524],\n",
              "        [0.9664],\n",
              "        [0.9804],\n",
              "        [0.9944]])"
            ]
          },
          "metadata": {},
          "execution_count": 26
        }
      ]
    },
    {
      "cell_type": "code",
      "source": [
        "plot_predictions(predictions=loaded_model_preds)"
      ],
      "metadata": {
        "id": "JZwbrzLLFCgs",
        "outputId": "edba8362-016d-4b23-8b98-118aba2bc3df",
        "colab": {
          "base_uri": "https://localhost:8080/",
          "height": 522
        }
      },
      "execution_count": 27,
      "outputs": [
        {
          "output_type": "display_data",
          "data": {
            "text/plain": [
              "<Figure size 1400x600 with 1 Axes>"
            ],
            "image/png": "[encoded data removed]"
          },
          "metadata": {}
        }
      ]
    },
    {
      "cell_type": "code",
      "source": [
        "loaded_model_preds == y_preds # Same as our previous predictions before we saved the model"
      ],
      "metadata": {
        "id": "VfaIf4qzFEvL",
        "outputId": "535f6013-73f0-403a-b4a6-517719ed1d29",
        "colab": {
          "base_uri": "https://localhost:8080/"
        }
      },
      "execution_count": 28,
      "outputs": [
        {
          "output_type": "execute_result",
          "data": {
            "text/plain": [
              "tensor([[True],\n",
              "        [True],\n",
              "        [True],\n",
              "        [True],\n",
              "        [True],\n",
              "        [True],\n",
              "        [True],\n",
              "        [True],\n",
              "        [True],\n",
              "        [True]])"
            ]
          },
          "metadata": {},
          "execution_count": 28
        }
      ]
    },
    {
      "cell_type": "markdown",
      "source": [
        "Nice!\n",
        "\n",
        "It looks like the loaded model predictions are the same as the previous model predictions (predictions made prior to saving). This indicates our model is saving and loading as expected.\n",
        "\n",
        "> **Note:** There are more methods to save and load PyTorch models but I'll leave these for extra-curriculum and further reading. See the [PyTorch guide for saving and loading models](https://pytorch.org/tutorials/beginner/saving_loading_models.html#saving-and-loading-models) for more."
      ],
      "metadata": {
        "id": "4oTySuAgFVSe"
      }
    },
    {
      "cell_type": "markdown",
      "source": [
        "## Putting everything together"
      ],
      "metadata": {
        "id": "hMSVaMCYFMe3"
      }
    },
    {
      "cell_type": "markdown",
      "source": [
        "Now let's put everything together"
      ],
      "metadata": {
        "id": "E3ODV5b0F8tr"
      }
    },
    {
      "cell_type": "code",
      "source": [
        "# import statements\n",
        "\n",
        "import torch\n",
        "import torch.nn as nn\n",
        "from pathlib import Path\n",
        "import matplotlib.pyplot as plt\n",
        "import numpy as np\n",
        "# check PyTorch version\n",
        "torch.__version__"
      ],
      "metadata": {
        "id": "eVnPnF_hF2Jy",
        "outputId": "ee8bb499-fe15-44ac-e08c-b050b5638737",
        "colab": {
          "base_uri": "https://localhost:8080/",
          "height": 35
        }
      },
      "execution_count": 19,
      "outputs": [
        {
          "output_type": "execute_result",
          "data": {
            "text/plain": [
              "'2.6.0+cu124'"
            ],
            "application/vnd.google.colaboratory.intrinsic+json": {
              "type": "string"
            }
          },
          "metadata": {},
          "execution_count": 19
        }
      ]
    },
    {
      "cell_type": "code",
      "source": [
        "# Device agnostic code\n",
        "\n",
        "if torch.cuda.is_available():\n",
        "  device = \"cuda\"\n",
        "else:\n",
        "  device = \"cpu\"\n",
        "\n",
        "device"
      ],
      "metadata": {
        "id": "k-vBmWHEGbiE",
        "outputId": "c4aee023-bd6d-47c0-9bb5-c31d45141c86",
        "colab": {
          "base_uri": "https://localhost:8080/",
          "height": 35
        }
      },
      "execution_count": 20,
      "outputs": [
        {
          "output_type": "execute_result",
          "data": {
            "text/plain": [
              "'cpu'"
            ],
            "application/vnd.google.colaboratory.intrinsic+json": {
              "type": "string"
            }
          },
          "metadata": {},
          "execution_count": 20
        }
      ]
    },
    {
      "cell_type": "markdown",
      "source": [
        "### Data"
      ],
      "metadata": {
        "id": "Xo35Qs4pJDO0"
      }
    },
    {
      "cell_type": "code",
      "source": [
        "# Create dataset\n",
        "\n",
        "weight = 0.3\n",
        "bias = 0.9\n",
        "\n",
        "# range values\n",
        "start = 0\n",
        "stop = 10\n",
        "step = 0.02\n",
        "\n",
        "X = torch.arange(start, stop, step).unsqueeze(dim=1) # without unsqueeze, errors will happen later on (shapes within linear layers)\n",
        "y = weight * X + bias\n"
      ],
      "metadata": {
        "id": "FSiykuq-Gqii"
      },
      "execution_count": 21,
      "outputs": []
    },
    {
      "cell_type": "code",
      "source": [
        "# Split the dataset into training and testing\n",
        "\n",
        "train_split = int(0.8 * len(X))\n",
        "X_train, y_train = X[:train_split], y[:train_split]\n",
        "X_test, y_test = X[train_split:], y[train_split:]\n",
        "\n",
        "len(X_train), len(y_train), len(X_test), len(y_test)"
      ],
      "metadata": {
        "id": "o28V8_LDHwJV",
        "outputId": "77522736-eb23-4375-ecae-6d35d870c32b",
        "colab": {
          "base_uri": "https://localhost:8080/"
        }
      },
      "execution_count": 22,
      "outputs": [
        {
          "output_type": "execute_result",
          "data": {
            "text/plain": [
              "(400, 400, 100, 100)"
            ]
          },
          "metadata": {},
          "execution_count": 22
        }
      ]
    },
    {
      "cell_type": "code",
      "source": [
        "# Create a function to plot training, testing and preds\n",
        "\n",
        "def plot_predictions(train_data = X_train,\n",
        "                     train_labels = y_train,\n",
        "                     test_data = X_test,\n",
        "                     test_labels = y_test,\n",
        "                     predictions=None):\n",
        "\n",
        "  '''\n",
        "  Plots training data, test data and compares predictions\n",
        "  '''\n",
        "\n",
        "  plt.figure(figsize=(14, 6))\n",
        "  plt.scatter(train_data, train_labels, c=\"b\", s=2, label=\"Training data\")\n",
        "  plt.scatter(test_data, test_labels, c=\"g\", s=2, label=\"Testing data\")\n",
        "\n",
        "  if predictions is not None:\n",
        "    # Plot the predictions in red (predictions were made on the test data)\n",
        "    plt.scatter(test_data, predictions, c=\"r\", s=4, label=\"Predictions\")\n",
        "\n",
        "  plt.legend()\n",
        "  plt.show()"
      ],
      "metadata": {
        "id": "OXT7uPbiIecp"
      },
      "execution_count": 23,
      "outputs": []
    },
    {
      "cell_type": "code",
      "source": [
        "plot_predictions()"
      ],
      "metadata": {
        "id": "u4FdK8ScIvwZ",
        "outputId": "f50fd127-516c-411e-a3b6-e649dc6c388b",
        "colab": {
          "base_uri": "https://localhost:8080/",
          "height": 522
        }
      },
      "execution_count": 24,
      "outputs": [
        {
          "output_type": "display_data",
          "data": {
            "text/plain": [
              "<Figure size 1400x600 with 1 Axes>"
            ],
            "image/png": "[encoded data removed]"
          },
          "metadata": {}
        }
      ]
    },
    {
      "cell_type": "markdown",
      "source": [
        "### Building a model"
      ],
      "metadata": {
        "id": "nbN-N2pmIx94"
      }
    },
    {
      "cell_type": "code",
      "source": [
        "# subclass nn.Module\n",
        "\n",
        "class LinearRegressionModel(nn.Module):\n",
        "\n",
        "  def __init__(self, *args, **kwargs) -> None:\n",
        "    super().__init__(*args, **kwargs)\n",
        "\n",
        "    # Parameters\n",
        "    self.weights = nn.Parameter(torch.randn(1, dtype=torch.float), requires_grad=True)\n",
        "    self.bias = nn.Parameter(torch.randn(1, dtype=torch.float), requires_grad=True)\n",
        "\n",
        "  def forward(self, X: torch.Tensor) -> torch.Tensor:\n",
        "    return self.weights * X + self.bias"
      ],
      "metadata": {
        "id": "2D69PGvEJIXN"
      },
      "execution_count": 25,
      "outputs": []
    },
    {
      "cell_type": "code",
      "source": [
        "# Instantiate the model cand check state\n",
        "\n",
        "model_1 = LinearRegressionModel()\n",
        "model_1.state_dict()"
      ],
      "metadata": {
        "id": "VK6pXiACKCQr",
        "outputId": "60812415-9ea3-4fe8-b35e-c8c9d500ed6d",
        "colab": {
          "base_uri": "https://localhost:8080/"
        }
      },
      "execution_count": 26,
      "outputs": [
        {
          "output_type": "execute_result",
          "data": {
            "text/plain": [
              "OrderedDict([('weights', tensor([0.4740])), ('bias', tensor([0.1978]))])"
            ]
          },
          "metadata": {},
          "execution_count": 26
        }
      ]
    },
    {
      "cell_type": "markdown",
      "source": [
        "#### Different way to build the model - nn.Linear"
      ],
      "metadata": {
        "id": "uAT6oH_OKHmg"
      }
    },
    {
      "cell_type": "code",
      "source": [
        "class LinearRegresseionModelV2(nn.Module):\n",
        "\n",
        "  def __init__(self):\n",
        "    super().__init__()\n",
        "    # Use nn.Linear()\n",
        "    self.linear_layer = nn.Linear(in_features=1,\n",
        "                                  out_features=1)\n",
        "\n",
        "  # Define forward prop\n",
        "  def forward(self, X: torch.Tensor) -> torch.Tensor:\n",
        "    return self.linear_layer(X)\n",
        "\n",
        "# Set manual seed\n",
        "torch.manual_seed(42)\n",
        "\n",
        "# Create an instance of the model\n",
        "model_2 = LinearRegresseionModelV2()\n",
        "model_2.state_dict()"
      ],
      "metadata": {
        "id": "0hHF63fPLORq",
        "outputId": "f670f5e0-e078-4899-98b1-8f380596cd26",
        "colab": {
          "base_uri": "https://localhost:8080/"
        }
      },
      "execution_count": 27,
      "outputs": [
        {
          "output_type": "execute_result",
          "data": {
            "text/plain": [
              "OrderedDict([('linear_layer.weight', tensor([[0.7645]])),\n",
              "             ('linear_layer.bias', tensor([0.8300]))])"
            ]
          },
          "metadata": {},
          "execution_count": 27
        }
      ]
    },
    {
      "cell_type": "markdown",
      "source": [
        "### Loss function and optimizer"
      ],
      "metadata": {
        "id": "2736vAj1LjGV"
      }
    },
    {
      "cell_type": "code",
      "source": [
        "# Create a loss function and optimizer\n",
        "\n",
        "loss = nn.L1Loss()\n",
        "optimizer_1 = torch.optim.SGD(params=model_1.parameters(), lr=0.01)\n",
        "optimizer_2 = torch.optim.SGD(params=model_2.parameters(), lr=0.01)"
      ],
      "metadata": {
        "id": "AtasdePvNoKH"
      },
      "execution_count": 28,
      "outputs": []
    },
    {
      "cell_type": "markdown",
      "source": [
        "### Training and Testing loop"
      ],
      "metadata": {
        "id": "v4qmKx59N8mz"
      }
    },
    {
      "cell_type": "code",
      "source": [
        "# Create a training loop\n",
        "\n",
        "epochs = 300\n",
        "\n",
        "# Create empty lists to store losses\n",
        "epoch_list = []\n",
        "training_loss = []\n",
        "testing_loss = []\n",
        "\n",
        "for epoch in range(epochs):\n",
        "  # Put the model in train mode\n",
        "  model_1.train()\n",
        "\n",
        "  # Forward pass\n",
        "  y_pred = model_1(X_train)\n",
        "\n",
        "  # Calculate loss\n",
        "  train_loss = loss(y_pred, y_train)\n",
        "\n",
        "  # Zero the gradients\n",
        "  optimizer_1.zero_grad()\n",
        "\n",
        "  # Backprop\n",
        "  train_loss.backward()\n",
        "\n",
        "  # Step the optimizer\n",
        "  optimizer_1.step()\n",
        "\n",
        "  # Put the model in eval mode\n",
        "  model_1.eval()\n",
        "\n",
        "  with torch.inference_mode():\n",
        "    # Forward pass\n",
        "    test_pred = model_1(X_test)\n",
        "\n",
        "    # Calculate loss\n",
        "    test_loss = loss(test_pred, y_test)\n",
        "\n",
        "  if epoch % 10 == 0:\n",
        "    epoch_list.append(epoch)\n",
        "    training_loss.append(train_loss.detach().numpy())\n",
        "    testing_loss.append(test_loss.detach().numpy())\n",
        "    print(f\"Epoch: {epoch} | Train Loss: {train_loss} | Test Loss: {test_loss}\")"
      ],
      "metadata": {
        "id": "jX2W9fv2OGOU",
        "outputId": "dcdd23c0-bad3-42d1-cfe8-4960dd1cbae5",
        "colab": {
          "base_uri": "https://localhost:8080/"
        }
      },
      "execution_count": 29,
      "outputs": [
        {
          "output_type": "stream",
          "name": "stdout",
          "text": [
            "Epoch: 0 | Train Loss: 0.3481232523918152 | Test Loss: 0.6863119602203369\n",
            "Epoch: 10 | Train Loss: 0.27858641743659973 | Test Loss: 0.4041023552417755\n",
            "Epoch: 20 | Train Loss: 0.26189491152763367 | Test Loss: 0.37885525822639465\n",
            "Epoch: 30 | Train Loss: 0.24520504474639893 | Test Loss: 0.3561754524707794\n",
            "Epoch: 40 | Train Loss: 0.2285154163837433 | Test Loss: 0.33092835545539856\n",
            "Epoch: 50 | Train Loss: 0.21182389557361603 | Test Loss: 0.3056812584400177\n",
            "Epoch: 60 | Train Loss: 0.19513444602489471 | Test Loss: 0.28300145268440247\n",
            "Epoch: 70 | Train Loss: 0.17844438552856445 | Test Loss: 0.25775426626205444\n",
            "Epoch: 80 | Train Loss: 0.161752849817276 | Test Loss: 0.23250718414783478\n",
            "Epoch: 90 | Train Loss: 0.14506381750106812 | Test Loss: 0.20982764661312103\n",
            "Epoch: 100 | Train Loss: 0.12837326526641846 | Test Loss: 0.18458057940006256\n",
            "Epoch: 110 | Train Loss: 0.11168177425861359 | Test Loss: 0.16190098226070404\n",
            "Epoch: 120 | Train Loss: 0.09499304741621017 | Test Loss: 0.13665395975112915\n",
            "Epoch: 130 | Train Loss: 0.07843366265296936 | Test Loss: 0.12493517994880676\n",
            "Epoch: 140 | Train Loss: 0.07975335419178009 | Test Loss: 0.38175421953201294\n",
            "Epoch: 150 | Train Loss: 0.05823015794157982 | Test Loss: 0.3171481788158417\n",
            "Epoch: 160 | Train Loss: 0.041490498930215836 | Test Loss: 0.14093178510665894\n",
            "Epoch: 170 | Train Loss: 0.08889257162809372 | Test Loss: 0.2632301449775696\n",
            "Epoch: 180 | Train Loss: 0.02503332309424877 | Test Loss: 0.1460040807723999\n",
            "Epoch: 190 | Train Loss: 0.054292239248752594 | Test Loss: 0.3007758855819702\n",
            "Epoch: 200 | Train Loss: 0.0303622055798769 | Test Loss: 0.3427260220050812\n",
            "Epoch: 210 | Train Loss: 0.017298536375164986 | Test Loss: 0.3640148639678955\n",
            "Epoch: 220 | Train Loss: 0.014152828603982925 | Test Loss: 0.36540085077285767\n",
            "Epoch: 230 | Train Loss: 0.026460202410817146 | Test Loss: 0.33384865522384644\n",
            "Epoch: 240 | Train Loss: 0.022323286160826683 | Test Loss: 0.3395357131958008\n",
            "Epoch: 250 | Train Loss: 0.019678562879562378 | Test Loss: 0.34292563796043396\n",
            "Epoch: 260 | Train Loss: 0.01794501207768917 | Test Loss: 0.3450145721435547\n",
            "Epoch: 270 | Train Loss: 0.016693152487277985 | Test Loss: 0.3464568853378296\n",
            "Epoch: 280 | Train Loss: 0.015883278101682663 | Test Loss: 0.3473420739173889\n",
            "Epoch: 290 | Train Loss: 0.015362998470664024 | Test Loss: 0.34788763523101807\n"
          ]
        }
      ]
    },
    {
      "cell_type": "code",
      "source": [
        "with torch.inference_mode():\n",
        "  y_preds = model_1(X_test)\n",
        "\n",
        "plot_predictions(predictions=y_preds)"
      ],
      "metadata": {
        "id": "_8rs6JvBO7jU",
        "outputId": "d0a19af4-eeff-41b3-996d-421b9a7d4c76",
        "colab": {
          "base_uri": "https://localhost:8080/",
          "height": 522
        }
      },
      "execution_count": 30,
      "outputs": [
        {
          "output_type": "display_data",
          "data": {
            "text/plain": [
              "<Figure size 1400x600 with 1 Axes>"
            ],
            "image/png": "[encoded data removed]"
          },
          "metadata": {}
        }
      ]
    },
    {
      "cell_type": "code",
      "source": [
        "# What about for the nn.Linear model\n",
        "\n",
        "epochs = 300\n",
        "\n",
        "# Create empty lists to store losses\n",
        "epoch_list = []\n",
        "training_loss = []\n",
        "testing_loss = []\n",
        "\n",
        "for epoch in range(epochs):\n",
        "  # Put the model in train mode\n",
        "  model_2.train()\n",
        "\n",
        "  # Forward pass\n",
        "  y_pred = model_2(X_train)\n",
        "\n",
        "  # Calculate loss\n",
        "  train_loss = loss(y_pred, y_train)\n",
        "\n",
        "  # Zero the gradients\n",
        "  optimizer_2.zero_grad()\n",
        "\n",
        "  # Backprop\n",
        "  train_loss.backward()\n",
        "\n",
        "  # Step the optimizer\n",
        "  optimizer_2.step()\n",
        "\n",
        "  # Put the model in eval mode\n",
        "  model_2.eval()\n",
        "\n",
        "  with torch.inference_mode():\n",
        "    # Forward pass\n",
        "    test_pred = model_2(X_test)\n",
        "\n",
        "    # Calculate loss\n",
        "    test_loss = loss(test_pred, y_test)\n",
        "\n",
        "  if epoch % 10 == 0:\n",
        "    epoch_list.append(epoch)\n",
        "    training_loss.append(train_loss.detach().numpy())\n",
        "    testing_loss.append(test_loss.detach().numpy())\n",
        "    print(f\"Epoch: {epoch} | Train Loss: {train_loss} | Test Loss: {test_loss}\")"
      ],
      "metadata": {
        "id": "gVkTWml2P3Of",
        "outputId": "c7ad2825-ccdd-4d2d-8ae7-7ea5ecae0c3d",
        "colab": {
          "base_uri": "https://localhost:8080/"
        }
      },
      "execution_count": 33,
      "outputs": [
        {
          "output_type": "stream",
          "name": "stdout",
          "text": [
            "Epoch: 0 | Train Loss: 0.03430567681789398 | Test Loss: 0.30392780900001526\n",
            "Epoch: 10 | Train Loss: 0.03430567681789398 | Test Loss: 0.30392780900001526\n",
            "Epoch: 20 | Train Loss: 0.03430567681789398 | Test Loss: 0.30392780900001526\n",
            "Epoch: 30 | Train Loss: 0.03430567681789398 | Test Loss: 0.30392780900001526\n",
            "Epoch: 40 | Train Loss: 0.03430567681789398 | Test Loss: 0.30392780900001526\n",
            "Epoch: 50 | Train Loss: 0.03430567681789398 | Test Loss: 0.30392780900001526\n",
            "Epoch: 60 | Train Loss: 0.03430567681789398 | Test Loss: 0.30392780900001526\n",
            "Epoch: 70 | Train Loss: 0.03430567681789398 | Test Loss: 0.30392780900001526\n",
            "Epoch: 80 | Train Loss: 0.03430567681789398 | Test Loss: 0.30392780900001526\n",
            "Epoch: 90 | Train Loss: 0.03430567681789398 | Test Loss: 0.30392780900001526\n",
            "Epoch: 100 | Train Loss: 0.03430567681789398 | Test Loss: 0.30392780900001526\n",
            "Epoch: 110 | Train Loss: 0.03430567681789398 | Test Loss: 0.30392780900001526\n",
            "Epoch: 120 | Train Loss: 0.03430567681789398 | Test Loss: 0.30392780900001526\n",
            "Epoch: 130 | Train Loss: 0.03430567681789398 | Test Loss: 0.30392780900001526\n",
            "Epoch: 140 | Train Loss: 0.03430567681789398 | Test Loss: 0.30392780900001526\n",
            "Epoch: 150 | Train Loss: 0.03430567681789398 | Test Loss: 0.30392780900001526\n",
            "Epoch: 160 | Train Loss: 0.03430567681789398 | Test Loss: 0.30392780900001526\n",
            "Epoch: 170 | Train Loss: 0.03430567681789398 | Test Loss: 0.30392780900001526\n",
            "Epoch: 180 | Train Loss: 0.03430567681789398 | Test Loss: 0.30392780900001526\n",
            "Epoch: 190 | Train Loss: 0.03430567681789398 | Test Loss: 0.30392780900001526\n",
            "Epoch: 200 | Train Loss: 0.03430567681789398 | Test Loss: 0.30392780900001526\n",
            "Epoch: 210 | Train Loss: 0.03430567681789398 | Test Loss: 0.30392780900001526\n",
            "Epoch: 220 | Train Loss: 0.03430567681789398 | Test Loss: 0.30392780900001526\n",
            "Epoch: 230 | Train Loss: 0.03430567681789398 | Test Loss: 0.30392780900001526\n",
            "Epoch: 240 | Train Loss: 0.03430567681789398 | Test Loss: 0.30392780900001526\n",
            "Epoch: 250 | Train Loss: 0.03430567681789398 | Test Loss: 0.30392780900001526\n",
            "Epoch: 260 | Train Loss: 0.03430567681789398 | Test Loss: 0.30392780900001526\n",
            "Epoch: 270 | Train Loss: 0.03430567681789398 | Test Loss: 0.30392780900001526\n",
            "Epoch: 280 | Train Loss: 0.03430567681789398 | Test Loss: 0.30392780900001526\n",
            "Epoch: 290 | Train Loss: 0.03430567681789398 | Test Loss: 0.30392780900001526\n"
          ]
        }
      ]
    },
    {
      "cell_type": "code",
      "source": [
        "with torch.inference_mode():\n",
        "  y_preds = model_2(X_test)\n",
        "\n",
        "plot_predictions(predictions=y_preds)"
      ],
      "metadata": {
        "id": "n3OdrA5BhmRn",
        "outputId": "c1287cec-8dd6-4991-8854-8d296d75ad89",
        "colab": {
          "base_uri": "https://localhost:8080/",
          "height": 522
        }
      },
      "execution_count": 34,
      "outputs": [
        {
          "output_type": "display_data",
          "data": {
            "text/plain": [
              "<Figure size 1400x600 with 1 Axes>"
            ],
            "image/png": "[encoded data removed]"
          },
          "metadata": {}
        }
      ]
    },
    {
      "cell_type": "code",
      "source": [
        "### Save and load the models\n",
        "\n",
        "MODEL_PATH = Path(\"models\")\n",
        "MODEL_PATH.mkdir(parents=True, exist_ok=True)\n",
        "\n",
        "# Create save path\n",
        "MODEL_NAME = '01_pytorch_workflow_model_2.pth'\n",
        "MODEL_SAVE_PATH = MODEL_PATH / MODEL_NAME\n",
        "\n",
        "# Save the model\n",
        "print(f\"Saving model to: {MODEL_SAVE_PATH}\")\n",
        "torch.save(obj=model_2.state_dict(),\n",
        "           f=MODEL_SAVE_PATH)"
      ],
      "metadata": {
        "id": "BYusgFvZisuw",
        "outputId": "eff943e7-7040-41ed-ceda-04ab0c5efc7d",
        "colab": {
          "base_uri": "https://localhost:8080/"
        }
      },
      "execution_count": 37,
      "outputs": [
        {
          "output_type": "stream",
          "name": "stdout",
          "text": [
            "Saving model to: models/01_pytorch_workflow_model_2.pth\n"
          ]
        }
      ]
    },
    {
      "cell_type": "code",
      "source": [
        "# Load and evluate the model\n",
        "\n",
        "loaded_model = LinearRegresseionModelV2()\n",
        "loaded_model.load_state_dict(torch.load(f=MODEL_SAVE_PATH))\n",
        "\n",
        "with torch.inference_mode():\n",
        "  loaded_model_preds = loaded_model(X_test)\n",
        "\n",
        "plot_predictions(predictions=loaded_model_preds)"
      ],
      "metadata": {
        "id": "GV-Cjebtjb92",
        "outputId": "02f25ab2-389f-4122-ee64-fb846f3961c9",
        "colab": {
          "base_uri": "https://localhost:8080/",
          "height": 522
        }
      },
      "execution_count": 38,
      "outputs": [
        {
          "output_type": "display_data",
          "data": {
            "text/plain": [
              "<Figure size 1400x600 with 1 Axes>"
            ],
            "image/png": "[encoded data removed]"
          },
          "metadata": {}
        }
      ]
    },
    {
      "cell_type": "code",
      "source": [
        "loaded_model_preds == y_preds"
      ],
      "metadata": {
        "id": "97jk-NFjjz-J",
        "outputId": "7f6a11ea-3ee6-4c72-d1c9-e341b589c52b",
        "colab": {
          "base_uri": "https://localhost:8080/"
        }
      },
      "execution_count": 39,
      "outputs": [
        {
          "output_type": "execute_result",
          "data": {
            "text/plain": [
              "tensor([[True],\n",
              "        [True],\n",
              "        [True],\n",
              "        [True],\n",
              "        [True],\n",
              "        [True],\n",
              "        [True],\n",
              "        [True],\n",
              "        [True],\n",
              "        [True],\n",
              "        [True],\n",
              "        [True],\n",
              "        [True],\n",
              "        [True],\n",
              "        [True],\n",
              "        [True],\n",
              "        [True],\n",
              "        [True],\n",
              "        [True],\n",
              "        [True],\n",
              "        [True],\n",
              "        [True],\n",
              "        [True],\n",
              "        [True],\n",
              "        [True],\n",
              "        [True],\n",
              "        [True],\n",
              "        [True],\n",
              "        [True],\n",
              "        [True],\n",
              "        [True],\n",
              "        [True],\n",
              "        [True],\n",
              "        [True],\n",
              "        [True],\n",
              "        [True],\n",
              "        [True],\n",
              "        [True],\n",
              "        [True],\n",
              "        [True],\n",
              "        [True],\n",
              "        [True],\n",
              "        [True],\n",
              "        [True],\n",
              "        [True],\n",
              "        [True],\n",
              "        [True],\n",
              "        [True],\n",
              "        [True],\n",
              "        [True],\n",
              "        [True],\n",
              "        [True],\n",
              "        [True],\n",
              "        [True],\n",
              "        [True],\n",
              "        [True],\n",
              "        [True],\n",
              "        [True],\n",
              "        [True],\n",
              "        [True],\n",
              "        [True],\n",
              "        [True],\n",
              "        [True],\n",
              "        [True],\n",
              "        [True],\n",
              "        [True],\n",
              "        [True],\n",
              "        [True],\n",
              "        [True],\n",
              "        [True],\n",
              "        [True],\n",
              "        [True],\n",
              "        [True],\n",
              "        [True],\n",
              "        [True],\n",
              "        [True],\n",
              "        [True],\n",
              "        [True],\n",
              "        [True],\n",
              "        [True],\n",
              "        [True],\n",
              "        [True],\n",
              "        [True],\n",
              "        [True],\n",
              "        [True],\n",
              "        [True],\n",
              "        [True],\n",
              "        [True],\n",
              "        [True],\n",
              "        [True],\n",
              "        [True],\n",
              "        [True],\n",
              "        [True],\n",
              "        [True],\n",
              "        [True],\n",
              "        [True],\n",
              "        [True],\n",
              "        [True],\n",
              "        [True],\n",
              "        [True]])"
            ]
          },
          "metadata": {},
          "execution_count": 39
        }
      ]
    },
    {
      "cell_type": "markdown",
      "source": [
        "Everything's the same! Noice!!"
      ],
      "metadata": {
        "id": "DkjRuBqGj5HP"
      }
    },
    {
      "cell_type": "code",
      "source": [],
      "metadata": {
        "id": "m_DBm59Pj2tQ"
      },
      "execution_count": null,
      "outputs": []
    }
  ]
}