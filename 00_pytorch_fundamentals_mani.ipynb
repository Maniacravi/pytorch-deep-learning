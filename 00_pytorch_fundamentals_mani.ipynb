{
  "nbformat": 4,
  "nbformat_minor": 0,
  "metadata": {
    "colab": {
      "provenance": [],
      "toc_visible": true,
      "gpuType": "T4",
      "authorship_tag": "ABX9TyNvnu5A2UjtGI+HWRtJRuPc",
      "include_colab_link": true
    },
    "kernelspec": {
      "name": "python3",
      "display_name": "Python 3"
    },
    "language_info": {
      "name": "python"
    },
    "accelerator": "GPU"
  },
  "cells": [
    {
      "cell_type": "markdown",
      "metadata": {
        "id": "view-in-github",
        "colab_type": "text"
      },
      "source": [
        "<a href=\"https://colab.research.google.com/github/Maniacravi/pytorch-deep-learning/blob/main/00_pytorch_fundamentals_mani.ipynb\" target=\"_parent\"><img src=\"https://colab.research.google.com/assets/colab-badge.svg\" alt=\"Open In Colab\"/></a>"
      ]
    },
    {
      "cell_type": "markdown",
      "source": [
        "# PyTorch Fundamentals"
      ],
      "metadata": {
        "id": "Wqlo7wdRd4kn"
      }
    },
    {
      "cell_type": "markdown",
      "source": [
        "My code along for the first section"
      ],
      "metadata": {
        "id": "EjFX3laWd3Ud"
      }
    },
    {
      "cell_type": "markdown",
      "source": [
        "## Import statements\n"
      ],
      "metadata": {
        "id": "QyiajRx-dkHa"
      }
    },
    {
      "cell_type": "code",
      "source": [
        "import torch\n",
        "import pandas as pd\n",
        "import numpy as np\n",
        "import matplotlib.pyplot as plt\n",
        "print(torch.__version__)"
      ],
      "metadata": {
        "id": "nOBhQlgndVUD",
        "outputId": "061464d6-f538-418a-ac6f-1a1bdd9d9b57",
        "colab": {
          "base_uri": "https://localhost:8080/"
        }
      },
      "execution_count": 1,
      "outputs": [
        {
          "output_type": "stream",
          "name": "stdout",
          "text": [
            "2.6.0+cu124\n"
          ]
        }
      ]
    },
    {
      "cell_type": "markdown",
      "source": [
        "## Tensors"
      ],
      "metadata": {
        "id": "y2tT39wfdytZ"
      }
    },
    {
      "cell_type": "markdown",
      "source": [
        "### Intro"
      ],
      "metadata": {
        "id": "Hj50hJdzeyM9"
      }
    },
    {
      "cell_type": "markdown",
      "source": [
        "#### Scalars"
      ],
      "metadata": {
        "id": "HYrBEqIogK0O"
      }
    },
    {
      "cell_type": "code",
      "source": [
        "scalar = torch.tensor(9)\n",
        "scalar"
      ],
      "metadata": {
        "id": "gxizI1qQfCRV",
        "outputId": "59914bb7-6b7e-4ca3-cb73-d05a7124418c",
        "colab": {
          "base_uri": "https://localhost:8080/"
        }
      },
      "execution_count": 2,
      "outputs": [
        {
          "output_type": "execute_result",
          "data": {
            "text/plain": [
              "tensor(9)"
            ]
          },
          "metadata": {},
          "execution_count": 2
        }
      ]
    },
    {
      "cell_type": "code",
      "source": [
        "scalar.ndim"
      ],
      "metadata": {
        "id": "-4s2HtHdfJt0",
        "outputId": "8f9edc68-f387-4284-8409-317a3850ac3f",
        "colab": {
          "base_uri": "https://localhost:8080/"
        }
      },
      "execution_count": 3,
      "outputs": [
        {
          "output_type": "execute_result",
          "data": {
            "text/plain": [
              "0"
            ]
          },
          "metadata": {},
          "execution_count": 3
        }
      ]
    },
    {
      "cell_type": "code",
      "source": [
        "# Get tensor back as Python int\n",
        "scalar.item()"
      ],
      "metadata": {
        "id": "9lQSi43Hf2VZ",
        "outputId": "4eb58358-6e66-4ef2-a12b-fe3f118c2cc1",
        "colab": {
          "base_uri": "https://localhost:8080/"
        }
      },
      "execution_count": 4,
      "outputs": [
        {
          "output_type": "execute_result",
          "data": {
            "text/plain": [
              "9"
            ]
          },
          "metadata": {},
          "execution_count": 4
        }
      ]
    },
    {
      "cell_type": "code",
      "source": [
        "scalar.shape"
      ],
      "metadata": {
        "id": "eeUwxbLjgsAF",
        "outputId": "217de5e4-3bb1-4fba-89bb-17439febdcf8",
        "colab": {
          "base_uri": "https://localhost:8080/"
        }
      },
      "execution_count": 5,
      "outputs": [
        {
          "output_type": "execute_result",
          "data": {
            "text/plain": [
              "torch.Size([])"
            ]
          },
          "metadata": {},
          "execution_count": 5
        }
      ]
    },
    {
      "cell_type": "markdown",
      "source": [
        "#### Vectors"
      ],
      "metadata": {
        "id": "Rlt11ZMXgAFL"
      }
    },
    {
      "cell_type": "code",
      "source": [
        "vector = torch.tensor([9, 9, 9])\n",
        "vector"
      ],
      "metadata": {
        "id": "hfcgWYnWgPVN",
        "outputId": "091a9ee7-c2fa-44b6-db82-9b958ffc6530",
        "colab": {
          "base_uri": "https://localhost:8080/"
        }
      },
      "execution_count": 6,
      "outputs": [
        {
          "output_type": "execute_result",
          "data": {
            "text/plain": [
              "tensor([9, 9, 9])"
            ]
          },
          "metadata": {},
          "execution_count": 6
        }
      ]
    },
    {
      "cell_type": "code",
      "source": [
        "vector.ndim"
      ],
      "metadata": {
        "id": "-dLLdmptgUdT",
        "outputId": "231fa9c9-5a6d-4939-db92-54989df24add",
        "colab": {
          "base_uri": "https://localhost:8080/"
        }
      },
      "execution_count": 7,
      "outputs": [
        {
          "output_type": "execute_result",
          "data": {
            "text/plain": [
              "1"
            ]
          },
          "metadata": {},
          "execution_count": 7
        }
      ]
    },
    {
      "cell_type": "code",
      "source": [
        "vector.shape"
      ],
      "metadata": {
        "id": "ogJEhICTgZBY",
        "outputId": "a70347f1-7a25-46ff-bef2-2a3e289222b0",
        "colab": {
          "base_uri": "https://localhost:8080/"
        }
      },
      "execution_count": 8,
      "outputs": [
        {
          "output_type": "execute_result",
          "data": {
            "text/plain": [
              "torch.Size([3])"
            ]
          },
          "metadata": {},
          "execution_count": 8
        }
      ]
    },
    {
      "cell_type": "markdown",
      "source": [
        "#### MATRIX"
      ],
      "metadata": {
        "id": "iAcInYBAgxTs"
      }
    },
    {
      "cell_type": "code",
      "source": [
        "MATRIX = torch.tensor([[9, 9],\n",
        "                       [10, 11]])\n",
        "MATRIX"
      ],
      "metadata": {
        "id": "FYeWcpN8gmai",
        "outputId": "4866af8a-f6d8-4299-91f6-0271d94cc3ac",
        "colab": {
          "base_uri": "https://localhost:8080/"
        }
      },
      "execution_count": 9,
      "outputs": [
        {
          "output_type": "execute_result",
          "data": {
            "text/plain": [
              "tensor([[ 9,  9],\n",
              "        [10, 11]])"
            ]
          },
          "metadata": {},
          "execution_count": 9
        }
      ]
    },
    {
      "cell_type": "code",
      "source": [
        "MATRIX.ndim"
      ],
      "metadata": {
        "id": "QPX2qKzxg_53",
        "outputId": "ea52f51d-d2b5-4e65-8e8f-4c78d314f6f0",
        "colab": {
          "base_uri": "https://localhost:8080/"
        }
      },
      "execution_count": 10,
      "outputs": [
        {
          "output_type": "execute_result",
          "data": {
            "text/plain": [
              "2"
            ]
          },
          "metadata": {},
          "execution_count": 10
        }
      ]
    },
    {
      "cell_type": "code",
      "source": [
        "MATRIX.shape"
      ],
      "metadata": {
        "id": "f533td7AhC9d",
        "outputId": "db6ace03-0dbe-4d4b-a33e-c1f633c0288f",
        "colab": {
          "base_uri": "https://localhost:8080/"
        }
      },
      "execution_count": 11,
      "outputs": [
        {
          "output_type": "execute_result",
          "data": {
            "text/plain": [
              "torch.Size([2, 2])"
            ]
          },
          "metadata": {},
          "execution_count": 11
        }
      ]
    },
    {
      "cell_type": "code",
      "source": [
        "# slicing\n",
        "\n",
        "MATRIX[0]"
      ],
      "metadata": {
        "id": "BXFQtlJqhGIb",
        "outputId": "57305a49-3029-4f5c-f8b6-a77144b72583",
        "colab": {
          "base_uri": "https://localhost:8080/"
        }
      },
      "execution_count": 12,
      "outputs": [
        {
          "output_type": "execute_result",
          "data": {
            "text/plain": [
              "tensor([9, 9])"
            ]
          },
          "metadata": {},
          "execution_count": 12
        }
      ]
    },
    {
      "cell_type": "code",
      "source": [
        "MATRIX[1, 0]"
      ],
      "metadata": {
        "id": "iALVl0AqhQSn",
        "outputId": "33f8f9a6-93a6-4bcc-8210-0a6975a26650",
        "colab": {
          "base_uri": "https://localhost:8080/"
        }
      },
      "execution_count": 13,
      "outputs": [
        {
          "output_type": "execute_result",
          "data": {
            "text/plain": [
              "tensor(10)"
            ]
          },
          "metadata": {},
          "execution_count": 13
        }
      ]
    },
    {
      "cell_type": "markdown",
      "source": [
        "#### TENSOR"
      ],
      "metadata": {
        "id": "JQ3LL5UKh8_T"
      }
    },
    {
      "cell_type": "code",
      "source": [
        "TENSOR = torch.tensor([[[1, 2, 3],\n",
        "                        [4, 5, 6],\n",
        "                        [7, 8, 9]]])\n",
        "TENSOR"
      ],
      "metadata": {
        "id": "qejCL3Qshaeq",
        "outputId": "067452ef-3f9a-4503-81f9-1402e85a798f",
        "colab": {
          "base_uri": "https://localhost:8080/"
        }
      },
      "execution_count": 14,
      "outputs": [
        {
          "output_type": "execute_result",
          "data": {
            "text/plain": [
              "tensor([[[1, 2, 3],\n",
              "         [4, 5, 6],\n",
              "         [7, 8, 9]]])"
            ]
          },
          "metadata": {},
          "execution_count": 14
        }
      ]
    },
    {
      "cell_type": "code",
      "source": [
        "TENSOR.ndim"
      ],
      "metadata": {
        "id": "L8MKWBv9iEz3",
        "outputId": "84ae073e-e1c2-44c3-8329-f3a40bf9cf37",
        "colab": {
          "base_uri": "https://localhost:8080/"
        }
      },
      "execution_count": 15,
      "outputs": [
        {
          "output_type": "execute_result",
          "data": {
            "text/plain": [
              "3"
            ]
          },
          "metadata": {},
          "execution_count": 15
        }
      ]
    },
    {
      "cell_type": "code",
      "source": [
        "TENSOR.shape"
      ],
      "metadata": {
        "id": "cyXTZ7D5iNKi",
        "outputId": "3978c793-8173-4de9-fc6c-23d99ed8121e",
        "colab": {
          "base_uri": "https://localhost:8080/"
        }
      },
      "execution_count": 16,
      "outputs": [
        {
          "output_type": "execute_result",
          "data": {
            "text/plain": [
              "torch.Size([1, 3, 3])"
            ]
          },
          "metadata": {},
          "execution_count": 16
        }
      ]
    },
    {
      "cell_type": "code",
      "source": [
        "TENSOR[0]"
      ],
      "metadata": {
        "id": "vXk1k5PoiOaB",
        "outputId": "2766896e-9b39-4c94-e1cc-13ab6046a025",
        "colab": {
          "base_uri": "https://localhost:8080/"
        }
      },
      "execution_count": 17,
      "outputs": [
        {
          "output_type": "execute_result",
          "data": {
            "text/plain": [
              "tensor([[1, 2, 3],\n",
              "        [4, 5, 6],\n",
              "        [7, 8, 9]])"
            ]
          },
          "metadata": {},
          "execution_count": 17
        }
      ]
    },
    {
      "cell_type": "code",
      "source": [],
      "metadata": {
        "id": "9F2XK58Ai0j4"
      },
      "execution_count": 17,
      "outputs": []
    },
    {
      "cell_type": "markdown",
      "source": [
        "### Creating Tensors"
      ],
      "metadata": {
        "id": "h3zANG6wjkW7"
      }
    },
    {
      "cell_type": "markdown",
      "source": [
        "#### Random Tensors"
      ],
      "metadata": {
        "id": "HRnnoaTqjoPW"
      }
    },
    {
      "cell_type": "markdown",
      "source": [
        "Creating random tensors because they are the most usual way to create tensors in code"
      ],
      "metadata": {
        "id": "6eihPSzkkK0O"
      }
    },
    {
      "cell_type": "code",
      "source": [
        "# Create a random tensor\n",
        "\n",
        "random_tensor = torch.rand(3, 4)\n",
        "random_tensor\n"
      ],
      "metadata": {
        "id": "l600AFE6kTeB",
        "outputId": "a8207234-73c8-4eec-9543-595072c770d8",
        "colab": {
          "base_uri": "https://localhost:8080/"
        }
      },
      "execution_count": 18,
      "outputs": [
        {
          "output_type": "execute_result",
          "data": {
            "text/plain": [
              "tensor([[0.7077, 0.7781, 0.1902, 0.4257],\n",
              "        [0.7641, 0.5849, 0.4739, 0.7800],\n",
              "        [0.1288, 0.7124, 0.7527, 0.1230]])"
            ]
          },
          "metadata": {},
          "execution_count": 18
        }
      ]
    },
    {
      "cell_type": "code",
      "source": [
        "random_tensor.shape"
      ],
      "metadata": {
        "id": "wQDoilLHkh_C",
        "outputId": "886e3893-5782-4b17-ee45-d4133eb8128f",
        "colab": {
          "base_uri": "https://localhost:8080/"
        }
      },
      "execution_count": 19,
      "outputs": [
        {
          "output_type": "execute_result",
          "data": {
            "text/plain": [
              "torch.Size([3, 4])"
            ]
          },
          "metadata": {},
          "execution_count": 19
        }
      ]
    },
    {
      "cell_type": "code",
      "source": [
        "random_tensor.ndim"
      ],
      "metadata": {
        "id": "_VuoqhrIkqS_",
        "outputId": "7be7353c-2023-4152-ba1f-f87add928da3",
        "colab": {
          "base_uri": "https://localhost:8080/"
        }
      },
      "execution_count": 20,
      "outputs": [
        {
          "output_type": "execute_result",
          "data": {
            "text/plain": [
              "2"
            ]
          },
          "metadata": {},
          "execution_count": 20
        }
      ]
    },
    {
      "cell_type": "code",
      "source": [
        "# Create a random tensor with similar shape to an image tensor\n",
        "random_image_size_tensor = torch.rand(size=(3, 224, 224))\n",
        "random_image_size_tensor, random_image_size_tensor.ndim, random_image_size_tensor.shape"
      ],
      "metadata": {
        "id": "AtYaLoHmkuI8",
        "outputId": "ffd0c915-c628-4f9a-c561-834006a216f9",
        "colab": {
          "base_uri": "https://localhost:8080/"
        }
      },
      "execution_count": 21,
      "outputs": [
        {
          "output_type": "execute_result",
          "data": {
            "text/plain": [
              "(tensor([[[7.6697e-01, 4.9085e-01, 1.3167e-01,  ..., 3.8243e-01,\n",
              "           7.3360e-01, 8.9668e-01],\n",
              "          [7.2546e-02, 2.3710e-01, 6.8070e-02,  ..., 4.9063e-01,\n",
              "           2.9886e-02, 4.8407e-01],\n",
              "          [3.9080e-01, 2.8397e-01, 3.1618e-01,  ..., 1.7805e-01,\n",
              "           1.7132e-01, 7.9116e-01],\n",
              "          ...,\n",
              "          [8.4896e-01, 5.4430e-01, 9.7353e-01,  ..., 5.2671e-01,\n",
              "           3.0679e-01, 6.9587e-01],\n",
              "          [2.3110e-01, 4.7140e-01, 7.4766e-01,  ..., 5.7430e-01,\n",
              "           4.0462e-01, 7.4210e-01],\n",
              "          [2.7185e-01, 5.1077e-01, 3.2483e-01,  ..., 3.4720e-01,\n",
              "           1.9655e-01, 5.9354e-01]],\n",
              " \n",
              "         [[5.7052e-01, 2.1252e-01, 8.9314e-01,  ..., 8.7786e-04,\n",
              "           5.5438e-01, 7.1175e-01],\n",
              "          [8.9351e-02, 9.8299e-01, 1.7210e-01,  ..., 8.5291e-01,\n",
              "           6.3982e-01, 1.6953e-01],\n",
              "          [3.5551e-01, 8.6629e-02, 1.2510e-03,  ..., 4.5128e-01,\n",
              "           9.1655e-01, 4.4797e-01],\n",
              "          ...,\n",
              "          [1.6090e-02, 3.3731e-02, 8.4775e-01,  ..., 5.2608e-02,\n",
              "           6.4163e-01, 6.7282e-01],\n",
              "          [1.9485e-01, 9.6676e-01, 3.0486e-01,  ..., 1.4878e-01,\n",
              "           2.2662e-01, 1.2428e-02],\n",
              "          [7.6296e-01, 8.9631e-01, 5.0584e-02,  ..., 1.4748e-01,\n",
              "           2.2624e-01, 6.4739e-01]],\n",
              " \n",
              "         [[6.1544e-01, 7.6198e-01, 4.7208e-01,  ..., 6.1145e-01,\n",
              "           8.6269e-01, 6.1622e-01],\n",
              "          [4.2560e-01, 6.1932e-01, 1.3496e-01,  ..., 8.2625e-01,\n",
              "           2.8119e-01, 3.7630e-01],\n",
              "          [3.5702e-01, 7.3977e-01, 1.4807e-01,  ..., 8.5435e-01,\n",
              "           9.4419e-01, 1.1254e-01],\n",
              "          ...,\n",
              "          [4.6153e-01, 9.7355e-02, 6.3161e-01,  ..., 9.6710e-01,\n",
              "           9.9167e-02, 9.9105e-01],\n",
              "          [9.2867e-01, 9.0665e-01, 8.8991e-01,  ..., 5.8471e-01,\n",
              "           1.5112e-01, 7.9515e-01],\n",
              "          [7.6650e-01, 1.4357e-01, 1.2540e-01,  ..., 6.8940e-01,\n",
              "           4.1171e-01, 2.7252e-01]]]),\n",
              " 3,\n",
              " torch.Size([3, 224, 224]))"
            ]
          },
          "metadata": {},
          "execution_count": 21
        }
      ]
    },
    {
      "cell_type": "code",
      "source": [
        "# Create a random tensor again\n",
        "random_tensor_2 = torch.rand(size=(3, 1920, 1080))\n",
        "random_tensor_2.shape"
      ],
      "metadata": {
        "id": "v9rAa4G5lNx8",
        "colab": {
          "base_uri": "https://localhost:8080/"
        },
        "outputId": "831555d9-9dba-4d6b-bbb7-95c9156ef570"
      },
      "execution_count": 22,
      "outputs": [
        {
          "output_type": "execute_result",
          "data": {
            "text/plain": [
              "torch.Size([3, 1920, 1080])"
            ]
          },
          "metadata": {},
          "execution_count": 22
        }
      ]
    },
    {
      "cell_type": "markdown",
      "source": [
        "#### Zeros and Ones"
      ],
      "metadata": {
        "id": "n0C0HUUW87gV"
      }
    },
    {
      "cell_type": "code",
      "source": [
        "# Create a tensor of all zeros\n",
        "zeros = torch.zeros(size=(3, 4))\n",
        "zeros"
      ],
      "metadata": {
        "colab": {
          "base_uri": "https://localhost:8080/"
        },
        "id": "qMxwWSmE8u6W",
        "outputId": "891ebec9-d807-4695-f393-971f252bbdb6"
      },
      "execution_count": 23,
      "outputs": [
        {
          "output_type": "execute_result",
          "data": {
            "text/plain": [
              "tensor([[0., 0., 0., 0.],\n",
              "        [0., 0., 0., 0.],\n",
              "        [0., 0., 0., 0.]])"
            ]
          },
          "metadata": {},
          "execution_count": 23
        }
      ]
    },
    {
      "cell_type": "code",
      "source": [
        "# All ones\n",
        "ones = torch.ones(size=(3, 4))\n",
        "ones"
      ],
      "metadata": {
        "colab": {
          "base_uri": "https://localhost:8080/"
        },
        "id": "mIPBEep99GXZ",
        "outputId": "0542c727-82fb-428e-cd70-56affc0971cd"
      },
      "execution_count": 24,
      "outputs": [
        {
          "output_type": "execute_result",
          "data": {
            "text/plain": [
              "tensor([[1., 1., 1., 1.],\n",
              "        [1., 1., 1., 1.],\n",
              "        [1., 1., 1., 1.]])"
            ]
          },
          "metadata": {},
          "execution_count": 24
        }
      ]
    },
    {
      "cell_type": "code",
      "source": [
        "ones.dtype # Explore the datatype of the tensor"
      ],
      "metadata": {
        "colab": {
          "base_uri": "https://localhost:8080/"
        },
        "id": "sbHdPjAU9Jjo",
        "outputId": "d90ebbfe-2737-43a4-f9e8-8d23e9c051ab"
      },
      "execution_count": 25,
      "outputs": [
        {
          "output_type": "execute_result",
          "data": {
            "text/plain": [
              "torch.float32"
            ]
          },
          "metadata": {},
          "execution_count": 25
        }
      ]
    },
    {
      "cell_type": "markdown",
      "source": [
        "#### Creating a Range of tensors and tensors-like"
      ],
      "metadata": {
        "id": "hS9W4ChU9vNq"
      }
    },
    {
      "cell_type": "code",
      "source": [
        "# torch.range\n",
        "torch.range(0,10) # Deprecated"
      ],
      "metadata": {
        "colab": {
          "base_uri": "https://localhost:8080/"
        },
        "id": "7at3C1bh9hzd",
        "outputId": "19092668-9283-4e9f-a8b4-2cfb14190d72"
      },
      "execution_count": 26,
      "outputs": [
        {
          "output_type": "stream",
          "name": "stderr",
          "text": [
            "<ipython-input-26-1432052044>:2: UserWarning: torch.range is deprecated and will be removed in a future release because its behavior is inconsistent with Python's range builtin. Instead, use torch.arange, which produces values in [start, end).\n",
            "  torch.range(0,10) # Deprecated\n"
          ]
        },
        {
          "output_type": "execute_result",
          "data": {
            "text/plain": [
              "tensor([ 0.,  1.,  2.,  3.,  4.,  5.,  6.,  7.,  8.,  9., 10.])"
            ]
          },
          "metadata": {},
          "execution_count": 26
        }
      ]
    },
    {
      "cell_type": "code",
      "source": [
        "one_to_ten = torch.arange(1, 11)\n",
        "one_to_ten"
      ],
      "metadata": {
        "colab": {
          "base_uri": "https://localhost:8080/"
        },
        "id": "napR2wmi93ES",
        "outputId": "ba474945-f7d5-47f2-e600-968553177381"
      },
      "execution_count": 27,
      "outputs": [
        {
          "output_type": "execute_result",
          "data": {
            "text/plain": [
              "tensor([ 1,  2,  3,  4,  5,  6,  7,  8,  9, 10])"
            ]
          },
          "metadata": {},
          "execution_count": 27
        }
      ]
    },
    {
      "cell_type": "code",
      "source": [
        "# also can use step\n",
        "torch.arange(start=0, end=1000, step=77)"
      ],
      "metadata": {
        "colab": {
          "base_uri": "https://localhost:8080/"
        },
        "id": "hGKGYpke-Jse",
        "outputId": "2b8d2c15-8cd4-49a7-d8f3-ff1f58d467bb"
      },
      "execution_count": 28,
      "outputs": [
        {
          "output_type": "execute_result",
          "data": {
            "text/plain": [
              "tensor([  0,  77, 154, 231, 308, 385, 462, 539, 616, 693, 770, 847, 924])"
            ]
          },
          "metadata": {},
          "execution_count": 28
        }
      ]
    },
    {
      "cell_type": "code",
      "source": [
        "# Create tensors like\n",
        "ten_zeros = torch.zeros_like(input = one_to_ten) # Returns a tensor filled with the scalar value 0, with the same size as input\n",
        "ten_zeros"
      ],
      "metadata": {
        "colab": {
          "base_uri": "https://localhost:8080/"
        },
        "id": "3bxQIhpl-iCo",
        "outputId": "2e893371-8614-41b1-8dc6-752ec928eb1b"
      },
      "execution_count": 29,
      "outputs": [
        {
          "output_type": "execute_result",
          "data": {
            "text/plain": [
              "tensor([0, 0, 0, 0, 0, 0, 0, 0, 0, 0])"
            ]
          },
          "metadata": {},
          "execution_count": 29
        }
      ]
    },
    {
      "cell_type": "code",
      "source": [],
      "metadata": {
        "id": "Hm8lfNE3-ubE"
      },
      "execution_count": 29,
      "outputs": []
    },
    {
      "cell_type": "markdown",
      "source": [
        "### Tensor datatypes"
      ],
      "metadata": {
        "id": "K03u1_7A_Xjh"
      }
    },
    {
      "cell_type": "code",
      "source": [
        "# Float_32 tensor\n",
        "float_32_tensor = torch.tensor([3.0, 6.0, 9.0],\n",
        "                               dtype=None) # What datatype is the tensor\n"
      ],
      "metadata": {
        "id": "0s6fK6hb_aOG"
      },
      "execution_count": 30,
      "outputs": []
    },
    {
      "cell_type": "code",
      "source": [
        "float_32_tensor.dtype"
      ],
      "metadata": {
        "colab": {
          "base_uri": "https://localhost:8080/"
        },
        "id": "4-NBZNQN_wHo",
        "outputId": "320e7cb5-b919-48ff-c5ef-25e9842d5199"
      },
      "execution_count": 31,
      "outputs": [
        {
          "output_type": "execute_result",
          "data": {
            "text/plain": [
              "torch.float32"
            ]
          },
          "metadata": {},
          "execution_count": 31
        }
      ]
    },
    {
      "cell_type": "markdown",
      "source": [
        "Even when dtype is specified as None - still produces a float32 tensor"
      ],
      "metadata": {
        "id": "lezpbSqN_z6r"
      }
    },
    {
      "cell_type": "code",
      "source": [
        "float_32_tensor = torch.tensor([3.0, 6.0, 9.0],\n",
        "                               dtype=None, # What datatype is the tensor\n",
        "                               device=None, # What device is your tensor on ('cpu', 'gpu' etc)\n",
        "                               requires_grad=False)\n",
        "float_32_tensor"
      ],
      "metadata": {
        "colab": {
          "base_uri": "https://localhost:8080/"
        },
        "id": "7XejTncS_x2n",
        "outputId": "f99d2512-424b-4451-b3a6-6cb72a57199c"
      },
      "execution_count": 32,
      "outputs": [
        {
          "output_type": "execute_result",
          "data": {
            "text/plain": [
              "tensor([3., 6., 9.])"
            ]
          },
          "metadata": {},
          "execution_count": 32
        }
      ]
    },
    {
      "cell_type": "markdown",
      "source": [
        "** Note ** : Learn about tensor datatypes and their differences. May run into errors with this often"
      ],
      "metadata": {
        "id": "gJtKuK4iAwbv"
      }
    },
    {
      "cell_type": "code",
      "source": [
        "float_16_tensor = float_32_tensor.type(torch.float16) # Crearting a float16 tensor from the float32 tensor\n",
        "float_16_tensor"
      ],
      "metadata": {
        "colab": {
          "base_uri": "https://localhost:8080/"
        },
        "id": "MYlfJcvOAACC",
        "outputId": "8e1921cb-0c32-48bb-cd72-f9c9e63f05bd"
      },
      "execution_count": 33,
      "outputs": [
        {
          "output_type": "execute_result",
          "data": {
            "text/plain": [
              "tensor([3., 6., 9.], dtype=torch.float16)"
            ]
          },
          "metadata": {},
          "execution_count": 33
        }
      ]
    },
    {
      "cell_type": "code",
      "source": [
        "float_16_tensor * float_32_tensor"
      ],
      "metadata": {
        "colab": {
          "base_uri": "https://localhost:8080/"
        },
        "id": "v9DIZ4jMBnLp",
        "outputId": "a929b03d-7a54-4d29-bce2-7df10b18dad4"
      },
      "execution_count": 34,
      "outputs": [
        {
          "output_type": "execute_result",
          "data": {
            "text/plain": [
              "tensor([ 9., 36., 81.])"
            ]
          },
          "metadata": {},
          "execution_count": 34
        }
      ]
    },
    {
      "cell_type": "markdown",
      "source": [
        "This works surprisignly but beware of mixing multiple types of tensors. Sometimes will raise errors"
      ],
      "metadata": {
        "id": "9rJbDGGrB_Oc"
      }
    },
    {
      "cell_type": "code",
      "source": [
        "int_32_tensor = float_32_tensor.type(dtype = torch.int32)\n",
        "int_32_tensor"
      ],
      "metadata": {
        "colab": {
          "base_uri": "https://localhost:8080/"
        },
        "id": "TYV5TBO7B5rW",
        "outputId": "48090908-3db3-4b66-87b1-2ac7a92b05ad"
      },
      "execution_count": 35,
      "outputs": [
        {
          "output_type": "execute_result",
          "data": {
            "text/plain": [
              "tensor([3, 6, 9], dtype=torch.int32)"
            ]
          },
          "metadata": {},
          "execution_count": 35
        }
      ]
    },
    {
      "cell_type": "code",
      "source": [
        "int_32_tensor * float_32_tensor"
      ],
      "metadata": {
        "colab": {
          "base_uri": "https://localhost:8080/"
        },
        "id": "5dnJqtOMCbg6",
        "outputId": "0e7e1a06-2a5d-49f4-b32f-b239a79643f7"
      },
      "execution_count": 36,
      "outputs": [
        {
          "output_type": "execute_result",
          "data": {
            "text/plain": [
              "tensor([ 9., 36., 81.])"
            ]
          },
          "metadata": {},
          "execution_count": 36
        }
      ]
    },
    {
      "cell_type": "markdown",
      "source": [
        "Still works"
      ],
      "metadata": {
        "id": "RpnhwdK6Cr3E"
      }
    },
    {
      "cell_type": "markdown",
      "source": [
        "#### Getting info from Tensors"
      ],
      "metadata": {
        "id": "zqwrXPIfDGEw"
      }
    },
    {
      "cell_type": "code",
      "source": [
        "# Get dtype\n",
        "int_32_tensor.dtype"
      ],
      "metadata": {
        "colab": {
          "base_uri": "https://localhost:8080/"
        },
        "id": "vh9-_QkiCjr3",
        "outputId": "d2bae91d-4cf0-4fc3-cda2-4940d3809ce0"
      },
      "execution_count": 37,
      "outputs": [
        {
          "output_type": "execute_result",
          "data": {
            "text/plain": [
              "torch.int32"
            ]
          },
          "metadata": {},
          "execution_count": 37
        }
      ]
    },
    {
      "cell_type": "code",
      "source": [
        "# Get shape\n",
        "float_32_tensor.shape"
      ],
      "metadata": {
        "colab": {
          "base_uri": "https://localhost:8080/"
        },
        "id": "-oiYzjR_DNXL",
        "outputId": "7cc544fc-b0fc-41ef-8aa5-0b2d99052af2"
      },
      "execution_count": 38,
      "outputs": [
        {
          "output_type": "execute_result",
          "data": {
            "text/plain": [
              "torch.Size([3])"
            ]
          },
          "metadata": {},
          "execution_count": 38
        }
      ]
    },
    {
      "cell_type": "code",
      "source": [
        "# Get device\n",
        "float_16_tensor.device"
      ],
      "metadata": {
        "colab": {
          "base_uri": "https://localhost:8080/"
        },
        "id": "s8mbteP-DPrB",
        "outputId": "b5fd8289-a07f-4733-90ca-0e11c0c6d207"
      },
      "execution_count": 39,
      "outputs": [
        {
          "output_type": "execute_result",
          "data": {
            "text/plain": [
              "device(type='cpu')"
            ]
          },
          "metadata": {},
          "execution_count": 39
        }
      ]
    },
    {
      "cell_type": "code",
      "source": [
        "# Get ndim\n",
        "int_32_tensor.ndim"
      ],
      "metadata": {
        "colab": {
          "base_uri": "https://localhost:8080/"
        },
        "id": "eDu8jM7WDSl3",
        "outputId": "a556e288-e495-429a-86ba-ea4c81c99985"
      },
      "execution_count": 40,
      "outputs": [
        {
          "output_type": "execute_result",
          "data": {
            "text/plain": [
              "1"
            ]
          },
          "metadata": {},
          "execution_count": 40
        }
      ]
    },
    {
      "cell_type": "markdown",
      "source": [
        "#### Manipulating Tensors (tensor operations)"
      ],
      "metadata": {
        "id": "kZ-UGnBaD2TG"
      }
    },
    {
      "cell_type": "markdown",
      "source": [
        "Includes:\n",
        "* Addition\n",
        "* Subtraction\n",
        "* Multiplication (element-wise)\n",
        "* Division\n",
        "* Mat Mult"
      ],
      "metadata": {
        "id": "yePcw1O9EGgw"
      }
    },
    {
      "cell_type": "code",
      "source": [
        "# Addition\n",
        "tensor = torch.tensor([1, 2, 3])\n",
        "tensor + 10\n"
      ],
      "metadata": {
        "colab": {
          "base_uri": "https://localhost:8080/"
        },
        "id": "AmEo9eElDahc",
        "outputId": "b619280e-746b-41b7-8372-c5e1465a6c22"
      },
      "execution_count": 41,
      "outputs": [
        {
          "output_type": "execute_result",
          "data": {
            "text/plain": [
              "tensor([11, 12, 13])"
            ]
          },
          "metadata": {},
          "execution_count": 41
        }
      ]
    },
    {
      "cell_type": "code",
      "source": [
        "# Add two tensors\n",
        "int_32_tensor + float_32_tensor"
      ],
      "metadata": {
        "colab": {
          "base_uri": "https://localhost:8080/"
        },
        "id": "pSkM2Ox0ET26",
        "outputId": "d4ebd22b-28c0-4f5f-bd86-b876d603fbb0"
      },
      "execution_count": 42,
      "outputs": [
        {
          "output_type": "execute_result",
          "data": {
            "text/plain": [
              "tensor([ 6., 12., 18.])"
            ]
          },
          "metadata": {},
          "execution_count": 42
        }
      ]
    },
    {
      "cell_type": "code",
      "source": [
        "# Multiply tensor by 10\n",
        "tensor * 10"
      ],
      "metadata": {
        "colab": {
          "base_uri": "https://localhost:8080/"
        },
        "id": "PX719xp4EYQX",
        "outputId": "3fb2d6fe-d661-4586-da68-91c7c494f6e7"
      },
      "execution_count": 43,
      "outputs": [
        {
          "output_type": "execute_result",
          "data": {
            "text/plain": [
              "tensor([10, 20, 30])"
            ]
          },
          "metadata": {},
          "execution_count": 43
        }
      ]
    },
    {
      "cell_type": "code",
      "source": [
        "# Subtract by 10\n",
        "tensor - 10"
      ],
      "metadata": {
        "colab": {
          "base_uri": "https://localhost:8080/"
        },
        "id": "ahfCBWIMEiYy",
        "outputId": "d187232d-8b80-4cbb-be69-a29f262cf4d2"
      },
      "execution_count": 44,
      "outputs": [
        {
          "output_type": "execute_result",
          "data": {
            "text/plain": [
              "tensor([-9, -8, -7])"
            ]
          },
          "metadata": {},
          "execution_count": 44
        }
      ]
    },
    {
      "cell_type": "code",
      "source": [
        "# Torch inbuilt functions\n",
        "torch.mul(tensor, 10), torch.add(tensor, 10), torch.sub(tensor, 10)"
      ],
      "metadata": {
        "colab": {
          "base_uri": "https://localhost:8080/"
        },
        "id": "7Lr5KOEREsk9",
        "outputId": "fc59796c-5466-4030-e4f2-e6c63a70ef34"
      },
      "execution_count": 45,
      "outputs": [
        {
          "output_type": "execute_result",
          "data": {
            "text/plain": [
              "(tensor([10, 20, 30]), tensor([11, 12, 13]), tensor([-9, -8, -7]))"
            ]
          },
          "metadata": {},
          "execution_count": 45
        }
      ]
    },
    {
      "cell_type": "markdown",
      "source": [
        "#### Matrix multiplication"
      ],
      "metadata": {
        "id": "wIYEO7k2Nbu5"
      }
    },
    {
      "cell_type": "code",
      "source": [
        "# Mat mult\n",
        "torch.matmul(float_32_tensor, tensor.type(torch.float32))"
      ],
      "metadata": {
        "colab": {
          "base_uri": "https://localhost:8080/"
        },
        "id": "e8lmFjWSEz9r",
        "outputId": "f1336f42-e3f0-4202-c1d0-6961340e0227"
      },
      "execution_count": 46,
      "outputs": [
        {
          "output_type": "execute_result",
          "data": {
            "text/plain": [
              "tensor(42.)"
            ]
          },
          "metadata": {},
          "execution_count": 46
        }
      ]
    },
    {
      "cell_type": "code",
      "source": [
        "# Another one\n",
        "torch.matmul(torch.rand(size=(4,4)), torch.rand(size=(4,1)))"
      ],
      "metadata": {
        "colab": {
          "base_uri": "https://localhost:8080/"
        },
        "id": "3irYu7NmFE2J",
        "outputId": "d86863e7-581a-4f5c-b5c5-2c7541b1723c"
      },
      "execution_count": 47,
      "outputs": [
        {
          "output_type": "execute_result",
          "data": {
            "text/plain": [
              "tensor([[1.1382],\n",
              "        [0.8275],\n",
              "        [0.6420],\n",
              "        [1.0834]])"
            ]
          },
          "metadata": {},
          "execution_count": 47
        }
      ]
    },
    {
      "cell_type": "code",
      "source": [
        "# Do the matmul by forloop and see how long the time difference is\n",
        "%%time\n",
        "value = 0\n",
        "for i in range(len(tensor)):\n",
        "  value += tensor[i] * tensor[i]\n",
        "value\n"
      ],
      "metadata": {
        "colab": {
          "base_uri": "https://localhost:8080/"
        },
        "id": "3K7Ege1OGKK9",
        "outputId": "f16dfa1f-408a-4b8a-c7e1-e645458f0b2c"
      },
      "execution_count": 48,
      "outputs": [
        {
          "output_type": "stream",
          "name": "stdout",
          "text": [
            "CPU times: user 512 µs, sys: 77 µs, total: 589 µs\n",
            "Wall time: 3.79 ms\n"
          ]
        },
        {
          "output_type": "execute_result",
          "data": {
            "text/plain": [
              "tensor(14)"
            ]
          },
          "metadata": {},
          "execution_count": 48
        }
      ]
    },
    {
      "cell_type": "code",
      "source": [
        "# same using matmul\n",
        "%%time\n",
        "torch.matmul(tensor, tensor) # Vectorized version - therefore much faster\n"
      ],
      "metadata": {
        "colab": {
          "base_uri": "https://localhost:8080/"
        },
        "id": "F7uLkKnLLaam",
        "outputId": "782e377a-efd4-483d-fb66-ae071538fade"
      },
      "execution_count": 49,
      "outputs": [
        {
          "output_type": "stream",
          "name": "stdout",
          "text": [
            "CPU times: user 71 µs, sys: 11 µs, total: 82 µs\n",
            "Wall time: 87.3 µs\n"
          ]
        },
        {
          "output_type": "execute_result",
          "data": {
            "text/plain": [
              "tensor(14)"
            ]
          },
          "metadata": {},
          "execution_count": 49
        }
      ]
    },
    {
      "cell_type": "code",
      "source": [
        "# One of the common errors is a size mismacth error\n",
        "\n",
        "tensor_A = torch.rand(size=(5,4))\n",
        "torch.mm(tensor_A, tensor_A) # torch.mm is an alias for torch.matmul"
      ],
      "metadata": {
        "colab": {
          "base_uri": "https://localhost:8080/",
          "height": 176
        },
        "id": "IPgl0x22LqY3",
        "outputId": "f9ea83f4-6dd1-44d2-efed-6bbc3245f1b5"
      },
      "execution_count": 50,
      "outputs": [
        {
          "output_type": "error",
          "ename": "RuntimeError",
          "evalue": "mat1 and mat2 shapes cannot be multiplied (5x4 and 5x4)",
          "traceback": [
            "\u001b[0;31m---------------------------------------------------------------------------\u001b[0m",
            "\u001b[0;31mRuntimeError\u001b[0m                              Traceback (most recent call last)",
            "\u001b[0;32m<ipython-input-50-653518259>\u001b[0m in \u001b[0;36m<cell line: 0>\u001b[0;34m()\u001b[0m\n\u001b[1;32m      2\u001b[0m \u001b[0;34m\u001b[0m\u001b[0m\n\u001b[1;32m      3\u001b[0m \u001b[0mtensor_A\u001b[0m \u001b[0;34m=\u001b[0m \u001b[0mtorch\u001b[0m\u001b[0;34m.\u001b[0m\u001b[0mrand\u001b[0m\u001b[0;34m(\u001b[0m\u001b[0msize\u001b[0m\u001b[0;34m=\u001b[0m\u001b[0;34m(\u001b[0m\u001b[0;36m5\u001b[0m\u001b[0;34m,\u001b[0m\u001b[0;36m4\u001b[0m\u001b[0;34m)\u001b[0m\u001b[0;34m)\u001b[0m\u001b[0;34m\u001b[0m\u001b[0;34m\u001b[0m\u001b[0m\n\u001b[0;32m----> 4\u001b[0;31m \u001b[0mtorch\u001b[0m\u001b[0;34m.\u001b[0m\u001b[0mmm\u001b[0m\u001b[0;34m(\u001b[0m\u001b[0mtensor_A\u001b[0m\u001b[0;34m,\u001b[0m \u001b[0mtensor_A\u001b[0m\u001b[0;34m)\u001b[0m \u001b[0;31m# torch.mm is an alias for torch.matmul\u001b[0m\u001b[0;34m\u001b[0m\u001b[0;34m\u001b[0m\u001b[0m\n\u001b[0m",
            "\u001b[0;31mRuntimeError\u001b[0m: mat1 and mat2 shapes cannot be multiplied (5x4 and 5x4)"
          ]
        }
      ]
    },
    {
      "cell_type": "code",
      "source": [
        "# Transpose - we need to transpose the matrix for this to work\n",
        "torch.mm(tensor_A, tensor_A.T)"
      ],
      "metadata": {
        "id": "bwIXOb_ANwwS",
        "outputId": "acdb7d85-7490-4788-842c-a4337a3983e7",
        "colab": {
          "base_uri": "https://localhost:8080/"
        }
      },
      "execution_count": 51,
      "outputs": [
        {
          "output_type": "execute_result",
          "data": {
            "text/plain": [
              "tensor([[1.1420, 1.2759, 1.2612, 0.9708, 0.6273],\n",
              "        [1.2759, 2.1022, 1.5108, 1.6761, 1.4791],\n",
              "        [1.2612, 1.5108, 1.4957, 1.0834, 0.9736],\n",
              "        [0.9708, 1.6761, 1.0834, 1.6663, 1.1759],\n",
              "        [0.6273, 1.4791, 0.9736, 1.1759, 1.5908]])"
            ]
          },
          "metadata": {},
          "execution_count": 51
        }
      ]
    },
    {
      "cell_type": "code",
      "source": [
        "tensor_B = torch.rand(size=(5, 4))\n",
        "tensor_B"
      ],
      "metadata": {
        "id": "x-aSxDl5N7Gg",
        "outputId": "4104e61f-578e-4c21-e680-f2571f115c63",
        "colab": {
          "base_uri": "https://localhost:8080/"
        }
      },
      "execution_count": 52,
      "outputs": [
        {
          "output_type": "execute_result",
          "data": {
            "text/plain": [
              "tensor([[0.8837, 0.3086, 0.3947, 0.5855],\n",
              "        [0.2076, 0.0512, 0.3011, 0.9263],\n",
              "        [0.8458, 0.6507, 0.3776, 0.8853],\n",
              "        [0.7118, 0.2840, 0.0764, 0.6923],\n",
              "        [0.1752, 0.4710, 0.0115, 0.6621]])"
            ]
          },
          "metadata": {},
          "execution_count": 52
        }
      ]
    },
    {
      "cell_type": "code",
      "source": [
        "print(f\"Original shapes: tensor_A = {tensor_A.shape}, tensor_B = {tensor_B.shape}\\n\")\n",
        "print(f\"New shapes: tensor_A = {tensor_A.shape} (same as above), tensor_B.T = {tensor_B.T.shape}\\n\")\n",
        "print(f\"Multiplying: {tensor_A.shape} * {tensor_B.T.shape} <- inner dimensions match\\n\")\n",
        "print(\"Output:\\n\")\n",
        "output = torch.matmul(tensor_A, tensor_B.T)\n",
        "print(output)\n",
        "print(f\"\\nOutput shape: {output.shape}\")"
      ],
      "metadata": {
        "id": "LpYGmU_jOHy4",
        "outputId": "69730fee-ff3d-46ab-c8a7-4d9783c62426",
        "colab": {
          "base_uri": "https://localhost:8080/"
        }
      },
      "execution_count": 53,
      "outputs": [
        {
          "output_type": "stream",
          "name": "stdout",
          "text": [
            "Original shapes: tensor_A = torch.Size([5, 4]), tensor_B = torch.Size([5, 4])\n",
            "\n",
            "New shapes: tensor_A = torch.Size([5, 4]) (same as above), tensor_B.T = torch.Size([4, 5])\n",
            "\n",
            "Multiplying: torch.Size([5, 4]) * torch.Size([4, 5]) <- inner dimensions match\n",
            "\n",
            "Output:\n",
            "\n",
            "tensor([[1.2254, 0.7172, 1.3659, 1.0282, 0.5283],\n",
            "        [1.5207, 1.0022, 2.0195, 1.4161, 1.0871],\n",
            "        [1.4124, 1.0084, 1.6585, 1.1968, 0.7303],\n",
            "        [1.1947, 0.4694, 1.5637, 0.9932, 0.7436],\n",
            "        [0.9375, 0.9091, 1.4757, 0.8713, 0.9645]])\n",
            "\n",
            "Output shape: torch.Size([5, 5])\n"
          ]
        }
      ]
    },
    {
      "cell_type": "markdown",
      "source": [
        "#### Aggregation (min, max, mean, sum)"
      ],
      "metadata": {
        "id": "ogPzSmLwPmZv"
      }
    },
    {
      "cell_type": "code",
      "source": [
        "# Create a tensor\n",
        "x = torch.arange(-50, 64, step=0.1)\n",
        "x.shape"
      ],
      "metadata": {
        "id": "_wT2D0x9OMg3",
        "outputId": "cf58b550-b92e-4ab5-e53f-4f2572455ddf",
        "colab": {
          "base_uri": "https://localhost:8080/"
        }
      },
      "execution_count": 54,
      "outputs": [
        {
          "output_type": "execute_result",
          "data": {
            "text/plain": [
              "torch.Size([1140])"
            ]
          },
          "metadata": {},
          "execution_count": 54
        }
      ]
    },
    {
      "cell_type": "code",
      "source": [
        "# min\n",
        "torch.min(x), x.min() # Same"
      ],
      "metadata": {
        "id": "kS1fVI1jP7JI",
        "outputId": "c5fcdf8c-01a5-443b-8e1d-8ebad7bf8371",
        "colab": {
          "base_uri": "https://localhost:8080/"
        }
      },
      "execution_count": 55,
      "outputs": [
        {
          "output_type": "execute_result",
          "data": {
            "text/plain": [
              "(tensor(-50.), tensor(-50.))"
            ]
          },
          "metadata": {},
          "execution_count": 55
        }
      ]
    },
    {
      "cell_type": "code",
      "source": [
        "# max\n",
        "x.max()"
      ],
      "metadata": {
        "id": "p_EN4ZSjQCn4",
        "outputId": "51cf0514-0f33-4c03-d94c-2e27d9ae634a",
        "colab": {
          "base_uri": "https://localhost:8080/"
        }
      },
      "execution_count": 56,
      "outputs": [
        {
          "output_type": "execute_result",
          "data": {
            "text/plain": [
              "tensor(63.9000)"
            ]
          },
          "metadata": {},
          "execution_count": 56
        }
      ]
    },
    {
      "cell_type": "code",
      "source": [
        "# mean\n",
        "x.mean()"
      ],
      "metadata": {
        "id": "jBqVzSRIQKYl",
        "outputId": "13dab939-e463-4df6-f1f1-7dd76a27ef6c",
        "colab": {
          "base_uri": "https://localhost:8080/"
        }
      },
      "execution_count": 57,
      "outputs": [
        {
          "output_type": "execute_result",
          "data": {
            "text/plain": [
              "tensor(6.9500)"
            ]
          },
          "metadata": {},
          "execution_count": 57
        }
      ]
    },
    {
      "cell_type": "code",
      "source": [
        "# median\n",
        "x.median()"
      ],
      "metadata": {
        "id": "IYOS_fcAQO2Q",
        "outputId": "862ff297-f5c7-4acd-f79a-53dbdde9265c",
        "colab": {
          "base_uri": "https://localhost:8080/"
        }
      },
      "execution_count": 58,
      "outputs": [
        {
          "output_type": "execute_result",
          "data": {
            "text/plain": [
              "tensor(6.9000)"
            ]
          },
          "metadata": {},
          "execution_count": 58
        }
      ]
    },
    {
      "cell_type": "code",
      "source": [
        "# sum\n",
        "torch.sum(x)"
      ],
      "metadata": {
        "id": "nX48PphUQUMG",
        "outputId": "cf89aced-80f5-415a-a083-7a14ffc108bf",
        "colab": {
          "base_uri": "https://localhost:8080/"
        }
      },
      "execution_count": 59,
      "outputs": [
        {
          "output_type": "execute_result",
          "data": {
            "text/plain": [
              "tensor(7923.)"
            ]
          },
          "metadata": {},
          "execution_count": 59
        }
      ]
    },
    {
      "cell_type": "code",
      "source": [
        "# argmax and argmin\n",
        "print(f'argmax: {x.argmax()} | x[argmax]: {x[x.argmax()]}')\n",
        "print(f'argmin: {x.argmin()} | x[argmin]: {x[x.argmin()]}')"
      ],
      "metadata": {
        "id": "B1ZiI8M-Qayi",
        "outputId": "5cf82826-52d6-439b-f139-c319f2c9c81d",
        "colab": {
          "base_uri": "https://localhost:8080/"
        }
      },
      "execution_count": 60,
      "outputs": [
        {
          "output_type": "stream",
          "name": "stdout",
          "text": [
            "argmax: 1139 | x[argmax]: 63.900001525878906\n",
            "argmin: 0 | x[argmin]: -50.0\n"
          ]
        }
      ]
    },
    {
      "cell_type": "markdown",
      "source": [
        "#### Reshaping, stacking, squeezing and unsqueezing"
      ],
      "metadata": {
        "id": "yWJpttaMROXT"
      }
    },
    {
      "cell_type": "markdown",
      "source": [
        "Often times you'll want to reshape or change the dimensions of your tensors without actually changing the values inside them.\n",
        "\n",
        "To do so, some popular methods are:\n",
        "\n",
        "| Method | One-line description |\n",
        "| ----- | ----- |\n",
        "| [`torch.reshape(input, shape)`](https://pytorch.org/docs/stable/generated/torch.reshape.html#torch.reshape) | Reshapes `input` to `shape` (if compatible), can also use `torch.Tensor.reshape()`. |\n",
        "| [`Tensor.view(shape)`](https://pytorch.org/docs/stable/generated/torch.Tensor.view.html) | Returns a view of the original tensor in a different `shape` but shares the same data as the original tensor. |\n",
        "| [`torch.stack(tensors, dim=0)`](https://pytorch.org/docs/1.9.1/generated/torch.stack.html) | Concatenates a sequence of `tensors` along a new dimension (`dim`), all `tensors` must be same size. |\n",
        "| [`torch.squeeze(input)`](https://pytorch.org/docs/stable/generated/torch.squeeze.html) | Squeezes `input` to remove all the dimenions with value `1`. |\n",
        "| [`torch.unsqueeze(input, dim)`](https://pytorch.org/docs/1.9.1/generated/torch.unsqueeze.html) | Returns `input` with a dimension value of `1` added at `dim`. |\n",
        "| [`torch.permute(input, dims)`](https://pytorch.org/docs/stable/generated/torch.permute.html) | Returns a *view* of the original `input` with its dimensions permuted (rearranged) to `dims`. |\n",
        "\n",
        "Why do any of these?\n",
        "\n",
        "Because deep learning models (neural networks) are all about manipulating tensors in some way. And because of the rules of matrix multiplication, if you've got shape mismatches, you'll run into errors. These methods help you make sure the right elements of your tensors are mixing with the right elements of other tensors.\n",
        "\n",
        "Let's try them out."
      ],
      "metadata": {
        "id": "GJqm8SPxR8F4"
      }
    },
    {
      "cell_type": "code",
      "source": [
        "# Create a tensor\n",
        "x = torch.arange(1., 8.)\n",
        "x, x.shape, x.ndim"
      ],
      "metadata": {
        "id": "TMgsZTEiQhyq",
        "outputId": "5141525a-bec7-4815-e19f-458c0bba9869",
        "colab": {
          "base_uri": "https://localhost:8080/"
        }
      },
      "execution_count": 61,
      "outputs": [
        {
          "output_type": "execute_result",
          "data": {
            "text/plain": [
              "(tensor([1., 2., 3., 4., 5., 6., 7.]), torch.Size([7]), 1)"
            ]
          },
          "metadata": {},
          "execution_count": 61
        }
      ]
    },
    {
      "cell_type": "code",
      "source": [
        "# Reshape\n",
        "x_reshaped = x.reshape(1, 7)\n",
        "x_reshaped, x_reshaped.shape, x_reshaped.ndim"
      ],
      "metadata": {
        "id": "-KzAyGxgRra4",
        "outputId": "944c4e1d-7244-4d66-d0c8-f454ada1b75d",
        "colab": {
          "base_uri": "https://localhost:8080/"
        }
      },
      "execution_count": 62,
      "outputs": [
        {
          "output_type": "execute_result",
          "data": {
            "text/plain": [
              "(tensor([[1., 2., 3., 4., 5., 6., 7.]]), torch.Size([1, 7]), 2)"
            ]
          },
          "metadata": {},
          "execution_count": 62
        }
      ]
    },
    {
      "cell_type": "code",
      "source": [
        "# View\n",
        "z = x.view(7,1)\n",
        "z"
      ],
      "metadata": {
        "id": "-DKPTxhVR0Wm",
        "outputId": "ab2d32df-9b39-4204-bd7f-d37f64b96df8",
        "colab": {
          "base_uri": "https://localhost:8080/"
        }
      },
      "execution_count": 63,
      "outputs": [
        {
          "output_type": "execute_result",
          "data": {
            "text/plain": [
              "tensor([[1.],\n",
              "        [2.],\n",
              "        [3.],\n",
              "        [4.],\n",
              "        [5.],\n",
              "        [6.],\n",
              "        [7.]])"
            ]
          },
          "metadata": {},
          "execution_count": 63
        }
      ]
    },
    {
      "cell_type": "code",
      "source": [
        "z[4,0] = 10\n",
        "z, x"
      ],
      "metadata": {
        "id": "-VPVsbdqSSJ0",
        "outputId": "9c583c26-5d56-4071-aed5-1ead8490f49f",
        "colab": {
          "base_uri": "https://localhost:8080/"
        }
      },
      "execution_count": 64,
      "outputs": [
        {
          "output_type": "execute_result",
          "data": {
            "text/plain": [
              "(tensor([[ 1.],\n",
              "         [ 2.],\n",
              "         [ 3.],\n",
              "         [ 4.],\n",
              "         [10.],\n",
              "         [ 6.],\n",
              "         [ 7.]]),\n",
              " tensor([ 1.,  2.,  3.,  4., 10.,  6.,  7.]))"
            ]
          },
          "metadata": {},
          "execution_count": 64
        }
      ]
    },
    {
      "cell_type": "markdown",
      "source": [
        "This changed both z and x since z is a view of x (shares memory)"
      ],
      "metadata": {
        "id": "rsWlWMitTW-D"
      }
    },
    {
      "cell_type": "code",
      "source": [
        "# Stack\n",
        "\n",
        "x_vstacked = torch.stack([x, x, x, x], dim=0)\n",
        "x_vstacked"
      ],
      "metadata": {
        "id": "JnQ90NYHTK8n",
        "outputId": "28cc72c5-17c4-4dad-c2df-1b0bf0fd83dd",
        "colab": {
          "base_uri": "https://localhost:8080/"
        }
      },
      "execution_count": 65,
      "outputs": [
        {
          "output_type": "execute_result",
          "data": {
            "text/plain": [
              "tensor([[ 1.,  2.,  3.,  4., 10.,  6.,  7.],\n",
              "        [ 1.,  2.,  3.,  4., 10.,  6.,  7.],\n",
              "        [ 1.,  2.,  3.,  4., 10.,  6.,  7.],\n",
              "        [ 1.,  2.,  3.,  4., 10.,  6.,  7.]])"
            ]
          },
          "metadata": {},
          "execution_count": 65
        }
      ]
    },
    {
      "cell_type": "code",
      "source": [
        "# same as vstack function\n",
        "x_vstacked = torch.vstack([x, x, x, x])\n",
        "x_vstacked"
      ],
      "metadata": {
        "id": "Zj_dDdABT102",
        "outputId": "949e5f49-e043-4319-8db1-dfdd09ed8570",
        "colab": {
          "base_uri": "https://localhost:8080/"
        }
      },
      "execution_count": 66,
      "outputs": [
        {
          "output_type": "execute_result",
          "data": {
            "text/plain": [
              "tensor([[ 1.,  2.,  3.,  4., 10.,  6.,  7.],\n",
              "        [ 1.,  2.,  3.,  4., 10.,  6.,  7.],\n",
              "        [ 1.,  2.,  3.,  4., 10.,  6.,  7.],\n",
              "        [ 1.,  2.,  3.,  4., 10.,  6.,  7.]])"
            ]
          },
          "metadata": {},
          "execution_count": 66
        }
      ]
    },
    {
      "cell_type": "code",
      "source": [
        "x_hstacked = torch.stack([x, x, x, x], dim=1)\n",
        "x_hstacked.shape"
      ],
      "metadata": {
        "id": "jXVwHW5FTg0u",
        "outputId": "554dedde-81cf-4d83-920a-791f0110e272",
        "colab": {
          "base_uri": "https://localhost:8080/"
        }
      },
      "execution_count": 67,
      "outputs": [
        {
          "output_type": "execute_result",
          "data": {
            "text/plain": [
              "torch.Size([7, 4])"
            ]
          },
          "metadata": {},
          "execution_count": 67
        }
      ]
    },
    {
      "cell_type": "code",
      "source": [
        "# Same as hstack?? - not really\n",
        "x_hstacked = torch.hstack((x, x, x, x))\n",
        "x_hstacked.shape"
      ],
      "metadata": {
        "id": "z4hE4-vGUQxo",
        "outputId": "f0961831-f8c3-41c7-8353-f5e2f525f84f",
        "colab": {
          "base_uri": "https://localhost:8080/"
        }
      },
      "execution_count": 68,
      "outputs": [
        {
          "output_type": "execute_result",
          "data": {
            "text/plain": [
              "torch.Size([28])"
            ]
          },
          "metadata": {},
          "execution_count": 68
        }
      ]
    },
    {
      "cell_type": "markdown",
      "source": [
        "* torch.stack(..., dim=1) creates a new dimension and places the input tensors along it.\n",
        "\n",
        "* torch.hstack(...) for 1D tensors, concatenates them into a single longer 1D tensor."
      ],
      "metadata": {
        "id": "TYCms5HCVV-M"
      }
    },
    {
      "cell_type": "code",
      "source": [
        "# Squeeze\n",
        "y = torch.rand(size=(8,1))\n",
        "print(f'Shape before squeeze: {y.shape}')\n",
        "y = y.squeeze()\n",
        "print(f'Shape after squeeze: {y.shape}')\n"
      ],
      "metadata": {
        "id": "Cil7BovmUmNb",
        "outputId": "11d476ea-273f-42ba-f9b1-e1ce413de4c8",
        "colab": {
          "base_uri": "https://localhost:8080/"
        }
      },
      "execution_count": 69,
      "outputs": [
        {
          "output_type": "stream",
          "name": "stdout",
          "text": [
            "Shape before squeeze: torch.Size([8, 1])\n",
            "Shape after squeeze: torch.Size([8])\n"
          ]
        }
      ]
    },
    {
      "cell_type": "code",
      "source": [
        "# Unsqueeze\n",
        "y_unsqueezed = y.unsqueeze(dim=0)\n",
        "print(f'Shape after unsqueeze: {y_unsqueezed.shape}')"
      ],
      "metadata": {
        "id": "YFQFFANEeLhd",
        "outputId": "38a58bad-b484-41c8-d371-d2b50e76bd3d",
        "colab": {
          "base_uri": "https://localhost:8080/"
        }
      },
      "execution_count": 70,
      "outputs": [
        {
          "output_type": "stream",
          "name": "stdout",
          "text": [
            "Shape after unsqueeze: torch.Size([1, 8])\n"
          ]
        }
      ]
    },
    {
      "cell_type": "code",
      "source": [
        "y_unsqueezed = y.unsqueeze(dim=1) # Different dim\n",
        "print(f'Shape after unsqueeze: {y_unsqueezed.shape}')"
      ],
      "metadata": {
        "id": "O8-9PDKpef-T",
        "outputId": "f791d5d4-b835-4480-c17c-d06e711599cd",
        "colab": {
          "base_uri": "https://localhost:8080/"
        }
      },
      "execution_count": 71,
      "outputs": [
        {
          "output_type": "stream",
          "name": "stdout",
          "text": [
            "Shape after unsqueeze: torch.Size([8, 1])\n"
          ]
        }
      ]
    },
    {
      "cell_type": "code",
      "source": [
        "# Permute - fancy word for rearrange\n",
        "x = torch.rand(size=(10, 20, 3))\n",
        "x_permuted = x.permute(2, 0, 1)\n",
        "print(f'Shape before permute: {x.shape}')\n",
        "print(f'Shape after permute: {x_permuted.shape}') # Keep in mind - x_permuted is a view of x - so changes to permuted will affect x"
      ],
      "metadata": {
        "id": "_g05T_tGekCp",
        "outputId": "aaf82e00-eec8-4834-ee1d-8b397b162dc5",
        "colab": {
          "base_uri": "https://localhost:8080/"
        }
      },
      "execution_count": 72,
      "outputs": [
        {
          "output_type": "stream",
          "name": "stdout",
          "text": [
            "Shape before permute: torch.Size([10, 20, 3])\n",
            "Shape after permute: torch.Size([3, 10, 20])\n"
          ]
        }
      ]
    },
    {
      "cell_type": "markdown",
      "source": [
        "In this case, the original tensor x has shape (10, 20, 3). By calling x.permute(2, 0, 1), you are telling PyTorch to put the dimension at index 2 (size 3) at the first position (index 0), the dimension at index 0 (size 10) at the second position (index 1), and the dimension at index 1 (size 20) at the third position (index 2). This results in a new shape of (3, 10, 20).\n",
        "\n",
        "\n",
        "\n"
      ],
      "metadata": {
        "id": "7VfcORbIgWH3"
      }
    },
    {
      "cell_type": "markdown",
      "source": [
        "### Indexing"
      ],
      "metadata": {
        "id": "A2J-fafWglvj"
      }
    },
    {
      "cell_type": "code",
      "source": [
        "# create a tensor\n",
        "x = torch.arange(1, 10).reshape(1, 3, 3)\n",
        "x, x.shape"
      ],
      "metadata": {
        "id": "ebICWPW7fSHF",
        "outputId": "e9aae6e8-80d4-47d5-d038-f8f0b836c685",
        "colab": {
          "base_uri": "https://localhost:8080/"
        }
      },
      "execution_count": 73,
      "outputs": [
        {
          "output_type": "execute_result",
          "data": {
            "text/plain": [
              "(tensor([[[1, 2, 3],\n",
              "          [4, 5, 6],\n",
              "          [7, 8, 9]]]),\n",
              " torch.Size([1, 3, 3]))"
            ]
          },
          "metadata": {},
          "execution_count": 73
        }
      ]
    },
    {
      "cell_type": "code",
      "source": [
        "x[0], x[0].shape"
      ],
      "metadata": {
        "id": "Plxe9DLIiEvE",
        "outputId": "61817bae-3724-41d3-e1ba-3946012b1c0e",
        "colab": {
          "base_uri": "https://localhost:8080/"
        }
      },
      "execution_count": 74,
      "outputs": [
        {
          "output_type": "execute_result",
          "data": {
            "text/plain": [
              "(tensor([[1, 2, 3],\n",
              "         [4, 5, 6],\n",
              "         [7, 8, 9]]),\n",
              " torch.Size([3, 3]))"
            ]
          },
          "metadata": {},
          "execution_count": 74
        }
      ]
    },
    {
      "cell_type": "code",
      "source": [
        "# Now on middle bracket (dim=1)\n",
        "x[0][0], x[0][0].shape"
      ],
      "metadata": {
        "id": "h5a-KXmwiRP4",
        "outputId": "f8acfd0f-61c7-4387-804c-a465c1b93e36",
        "colab": {
          "base_uri": "https://localhost:8080/"
        }
      },
      "execution_count": 75,
      "outputs": [
        {
          "output_type": "execute_result",
          "data": {
            "text/plain": [
              "(tensor([1, 2, 3]), torch.Size([3]))"
            ]
          },
          "metadata": {},
          "execution_count": 75
        }
      ]
    },
    {
      "cell_type": "code",
      "source": [
        "# dim=2\n",
        "x[0][0][0]"
      ],
      "metadata": {
        "id": "PoxhV5sSicVi",
        "outputId": "a9dc46b7-e8c1-4181-e389-0b34e86e6370",
        "colab": {
          "base_uri": "https://localhost:8080/"
        }
      },
      "execution_count": 76,
      "outputs": [
        {
          "output_type": "execute_result",
          "data": {
            "text/plain": [
              "tensor(1)"
            ]
          },
          "metadata": {},
          "execution_count": 76
        }
      ]
    },
    {
      "cell_type": "code",
      "source": [
        "x[0,0,0] # Same"
      ],
      "metadata": {
        "id": "awGZda7ziy6b",
        "outputId": "23dc5dee-6a38-46bf-d1eb-4c0a4a0d926a",
        "colab": {
          "base_uri": "https://localhost:8080/"
        }
      },
      "execution_count": 77,
      "outputs": [
        {
          "output_type": "execute_result",
          "data": {
            "text/plain": [
              "tensor(1)"
            ]
          },
          "metadata": {},
          "execution_count": 77
        }
      ]
    },
    {
      "cell_type": "markdown",
      "source": [],
      "metadata": {
        "id": "2tz_b7KljKwl"
      }
    },
    {
      "cell_type": "markdown",
      "source": [
        "#### Slicing"
      ],
      "metadata": {
        "id": "CQ6cFnWTjN8S"
      }
    },
    {
      "cell_type": "code",
      "source": [
        "# Get all values of 0th dimension and the 0 index of 1st dimension\n",
        "x[:, 0]"
      ],
      "metadata": {
        "id": "Vke3vfkcjHRT",
        "outputId": "79354b34-05e7-4297-be74-df407b9274ab",
        "colab": {
          "base_uri": "https://localhost:8080/"
        }
      },
      "execution_count": 78,
      "outputs": [
        {
          "output_type": "execute_result",
          "data": {
            "text/plain": [
              "tensor([[1, 2, 3]])"
            ]
          },
          "metadata": {},
          "execution_count": 78
        }
      ]
    },
    {
      "cell_type": "code",
      "source": [
        "x[:, :, 0]"
      ],
      "metadata": {
        "id": "nOGG24k1jZyW",
        "outputId": "7a20c2ed-0d96-4aaf-96cd-ee4ba6f5189a",
        "colab": {
          "base_uri": "https://localhost:8080/"
        }
      },
      "execution_count": 79,
      "outputs": [
        {
          "output_type": "execute_result",
          "data": {
            "text/plain": [
              "tensor([[1, 4, 7]])"
            ]
          },
          "metadata": {},
          "execution_count": 79
        }
      ]
    },
    {
      "cell_type": "code",
      "source": [
        "x[0,:,:]"
      ],
      "metadata": {
        "id": "zgOuu1bVjdJd",
        "outputId": "041d210f-a8f9-4026-9c2a-30755f1d966c",
        "colab": {
          "base_uri": "https://localhost:8080/"
        }
      },
      "execution_count": 80,
      "outputs": [
        {
          "output_type": "execute_result",
          "data": {
            "text/plain": [
              "tensor([[1, 2, 3],\n",
              "        [4, 5, 6],\n",
              "        [7, 8, 9]])"
            ]
          },
          "metadata": {},
          "execution_count": 80
        }
      ]
    },
    {
      "cell_type": "code",
      "source": [
        "x[:]"
      ],
      "metadata": {
        "id": "ur74s2JVjid4",
        "outputId": "e7ffb37e-0dce-4b47-909a-13bda60f0992",
        "colab": {
          "base_uri": "https://localhost:8080/"
        }
      },
      "execution_count": 81,
      "outputs": [
        {
          "output_type": "execute_result",
          "data": {
            "text/plain": [
              "tensor([[[1, 2, 3],\n",
              "         [4, 5, 6],\n",
              "         [7, 8, 9]]])"
            ]
          },
          "metadata": {},
          "execution_count": 81
        }
      ]
    },
    {
      "cell_type": "code",
      "source": [
        "x[:,0,:].squeeze()"
      ],
      "metadata": {
        "id": "6D39LdV0jjzh",
        "outputId": "4f9c5600-c702-44b5-9061-46a3d73bc76f",
        "colab": {
          "base_uri": "https://localhost:8080/"
        }
      },
      "execution_count": 82,
      "outputs": [
        {
          "output_type": "execute_result",
          "data": {
            "text/plain": [
              "tensor([1, 2, 3])"
            ]
          },
          "metadata": {},
          "execution_count": 82
        }
      ]
    },
    {
      "cell_type": "code",
      "source": [
        "x[0][:][1:]"
      ],
      "metadata": {
        "id": "nRU6GFpEjqWW",
        "outputId": "e5aeb8db-ea39-49b9-ce1f-68c5dd835ac6",
        "colab": {
          "base_uri": "https://localhost:8080/"
        }
      },
      "execution_count": 83,
      "outputs": [
        {
          "output_type": "execute_result",
          "data": {
            "text/plain": [
              "tensor([[4, 5, 6],\n",
              "        [7, 8, 9]])"
            ]
          },
          "metadata": {},
          "execution_count": 83
        }
      ]
    },
    {
      "cell_type": "markdown",
      "source": [
        "### PyTorch and NumPy"
      ],
      "metadata": {
        "id": "WIXaCrlIkXqI"
      }
    },
    {
      "cell_type": "code",
      "source": [
        "array = np.arange(1,20, dtype=np.float32)\n",
        "array"
      ],
      "metadata": {
        "id": "FwtGlqGskBr8",
        "outputId": "0560da1f-3ae1-45ad-f313-98aabd0bb81a",
        "colab": {
          "base_uri": "https://localhost:8080/"
        }
      },
      "execution_count": 84,
      "outputs": [
        {
          "output_type": "execute_result",
          "data": {
            "text/plain": [
              "array([ 1.,  2.,  3.,  4.,  5.,  6.,  7.,  8.,  9., 10., 11., 12., 13.,\n",
              "       14., 15., 16., 17., 18., 19.], dtype=float32)"
            ]
          },
          "metadata": {},
          "execution_count": 84
        }
      ]
    },
    {
      "cell_type": "code",
      "source": [
        "tensor = torch.from_numpy(array)\n",
        "tensor"
      ],
      "metadata": {
        "id": "BSt-DztpknEe",
        "outputId": "10194860-acae-4815-d4b6-786500ca5d35",
        "colab": {
          "base_uri": "https://localhost:8080/"
        }
      },
      "execution_count": 85,
      "outputs": [
        {
          "output_type": "execute_result",
          "data": {
            "text/plain": [
              "tensor([ 1.,  2.,  3.,  4.,  5.,  6.,  7.,  8.,  9., 10., 11., 12., 13., 14.,\n",
              "        15., 16., 17., 18., 19.])"
            ]
          },
          "metadata": {},
          "execution_count": 85
        }
      ]
    },
    {
      "cell_type": "code",
      "source": [
        "# Changes to numpy array doesn't affect tensor\n",
        "array = array + 2\n",
        "array, tensor"
      ],
      "metadata": {
        "id": "sZM1qtwhkywi",
        "outputId": "9919dd04-3304-4587-b6db-f21bbb513264",
        "colab": {
          "base_uri": "https://localhost:8080/"
        }
      },
      "execution_count": 86,
      "outputs": [
        {
          "output_type": "execute_result",
          "data": {
            "text/plain": [
              "(array([ 3.,  4.,  5.,  6.,  7.,  8.,  9., 10., 11., 12., 13., 14., 15.,\n",
              "        16., 17., 18., 19., 20., 21.], dtype=float32),\n",
              " tensor([ 1.,  2.,  3.,  4.,  5.,  6.,  7.,  8.,  9., 10., 11., 12., 13., 14.,\n",
              "         15., 16., 17., 18., 19.]))"
            ]
          },
          "metadata": {},
          "execution_count": 86
        }
      ]
    },
    {
      "cell_type": "code",
      "source": [
        "numpy_tensor = tensor.numpy()\n",
        "numpy_tensor"
      ],
      "metadata": {
        "id": "1ZC8iC8AlPCV",
        "outputId": "b9566da2-620c-4769-9dc4-f0362f8c374c",
        "colab": {
          "base_uri": "https://localhost:8080/"
        }
      },
      "execution_count": 87,
      "outputs": [
        {
          "output_type": "execute_result",
          "data": {
            "text/plain": [
              "array([ 1.,  2.,  3.,  4.,  5.,  6.,  7.,  8.,  9., 10., 11., 12., 13.,\n",
              "       14., 15., 16., 17., 18., 19.], dtype=float32)"
            ]
          },
          "metadata": {},
          "execution_count": 87
        }
      ]
    },
    {
      "cell_type": "markdown",
      "source": [
        "### Randomization"
      ],
      "metadata": {
        "id": "5oRP9J71-bPb"
      }
    },
    {
      "cell_type": "code",
      "source": [
        "# Setting the seed manually\n",
        "import torch\n",
        "rand_A = torch.rand(3, 4)\n",
        "rand_B = torch.rand(3, 4)\n",
        "\n",
        "print(rand_A)\n",
        "print(rand_B)\n",
        "print(rand_A == rand_B)"
      ],
      "metadata": {
        "id": "_fVcGUyHlbpu",
        "outputId": "ccd473f3-576f-475b-f3f4-6818f76b40ee",
        "colab": {
          "base_uri": "https://localhost:8080/"
        }
      },
      "execution_count": 3,
      "outputs": [
        {
          "output_type": "stream",
          "name": "stdout",
          "text": [
            "tensor([[0.6735, 0.3701, 0.7214, 0.3780],\n",
            "        [0.6992, 0.9114, 0.9924, 0.1716],\n",
            "        [0.6936, 0.3188, 0.0591, 0.4788]])\n",
            "tensor([[0.0063, 0.2648, 0.1222, 0.6034],\n",
            "        [0.8949, 0.2540, 0.1369, 0.0122],\n",
            "        [0.6043, 0.2515, 0.7232, 0.1437]])\n",
            "tensor([[False, False, False, False],\n",
            "        [False, False, False, False],\n",
            "        [False, False, False, False]])\n"
          ]
        }
      ]
    },
    {
      "cell_type": "code",
      "source": [
        "# Now we set the seed\n",
        "torch.manual_seed(0)\n",
        "rand_A = torch.rand(3, 4)\n",
        "\n",
        "torch.manual_seed(0)\n",
        "rand_B = torch.rand(3, 4)\n",
        "\n",
        "print(rand_A)\n",
        "print(rand_B)\n",
        "print(rand_A == rand_B)"
      ],
      "metadata": {
        "id": "InnagrQmmUeW",
        "outputId": "96a89267-fe3f-43ff-876e-96ccbe61fa65",
        "colab": {
          "base_uri": "https://localhost:8080/"
        }
      },
      "execution_count": 4,
      "outputs": [
        {
          "output_type": "stream",
          "name": "stdout",
          "text": [
            "tensor([[0.4963, 0.7682, 0.0885, 0.1320],\n",
            "        [0.3074, 0.6341, 0.4901, 0.8964],\n",
            "        [0.4556, 0.6323, 0.3489, 0.4017]])\n",
            "tensor([[0.4963, 0.7682, 0.0885, 0.1320],\n",
            "        [0.3074, 0.6341, 0.4901, 0.8964],\n",
            "        [0.4556, 0.6323, 0.3489, 0.4017]])\n",
            "tensor([[True, True, True, True],\n",
            "        [True, True, True, True],\n",
            "        [True, True, True, True]])\n"
          ]
        }
      ]
    },
    {
      "cell_type": "markdown",
      "source": [
        "### Running on GPUs"
      ],
      "metadata": {
        "id": "6eIWUUAA-5NY"
      }
    },
    {
      "cell_type": "code",
      "source": [
        "# check if a GPU is present\n",
        "!nvidia-smi"
      ],
      "metadata": {
        "id": "igCeP0mV-1Z5",
        "outputId": "989af4b5-3197-48d7-93f9-501b70c70f74",
        "colab": {
          "base_uri": "https://localhost:8080/"
        }
      },
      "execution_count": 5,
      "outputs": [
        {
          "output_type": "stream",
          "name": "stdout",
          "text": [
            "Fri Jun 13 01:51:40 2025       \n",
            "+-----------------------------------------------------------------------------------------+\n",
            "| NVIDIA-SMI 550.54.15              Driver Version: 550.54.15      CUDA Version: 12.4     |\n",
            "|-----------------------------------------+------------------------+----------------------+\n",
            "| GPU  Name                 Persistence-M | Bus-Id          Disp.A | Volatile Uncorr. ECC |\n",
            "| Fan  Temp   Perf          Pwr:Usage/Cap |           Memory-Usage | GPU-Util  Compute M. |\n",
            "|                                         |                        |               MIG M. |\n",
            "|=========================================+========================+======================|\n",
            "|   0  Tesla T4                       Off |   00000000:00:04.0 Off |                    0 |\n",
            "| N/A   47C    P8              9W /   70W |       0MiB /  15360MiB |      0%      Default |\n",
            "|                                         |                        |                  N/A |\n",
            "+-----------------------------------------+------------------------+----------------------+\n",
            "                                                                                         \n",
            "+-----------------------------------------------------------------------------------------+\n",
            "| Processes:                                                                              |\n",
            "|  GPU   GI   CI        PID   Type   Process name                              GPU Memory |\n",
            "|        ID   ID                                                               Usage      |\n",
            "|=========================================================================================|\n",
            "|  No running processes found                                                             |\n",
            "+-----------------------------------------------------------------------------------------+\n"
          ]
        }
      ]
    },
    {
      "cell_type": "code",
      "source": [
        "torch.cuda.is_available()"
      ],
      "metadata": {
        "id": "6KxH5aFi_Eo-",
        "outputId": "ea284335-0905-46a7-a688-e665bbc5f777",
        "colab": {
          "base_uri": "https://localhost:8080/"
        }
      },
      "execution_count": 6,
      "outputs": [
        {
          "output_type": "execute_result",
          "data": {
            "text/plain": [
              "True"
            ]
          },
          "metadata": {},
          "execution_count": 6
        }
      ]
    },
    {
      "cell_type": "code",
      "source": [
        "# Device agnostic code\n",
        "device = \"cuda\" if torch.cuda.is_available() else \"cpu\"\n",
        "device"
      ],
      "metadata": {
        "id": "w7JBKsJE_Oa5",
        "outputId": "356ae3e1-6cc8-49d7-dade-4f27d905d38f",
        "colab": {
          "base_uri": "https://localhost:8080/",
          "height": 35
        }
      },
      "execution_count": 7,
      "outputs": [
        {
          "output_type": "execute_result",
          "data": {
            "text/plain": [
              "'cuda'"
            ],
            "application/vnd.google.colaboratory.intrinsic+json": {
              "type": "string"
            }
          },
          "metadata": {},
          "execution_count": 7
        }
      ]
    },
    {
      "cell_type": "code",
      "source": [
        "torch.cuda.device_count()"
      ],
      "metadata": {
        "id": "AWQoLLCE_kZP",
        "outputId": "21409015-551e-45b1-fd3d-ff611c048117",
        "colab": {
          "base_uri": "https://localhost:8080/"
        }
      },
      "execution_count": 8,
      "outputs": [
        {
          "output_type": "execute_result",
          "data": {
            "text/plain": [
              "1"
            ]
          },
          "metadata": {},
          "execution_count": 8
        }
      ]
    },
    {
      "cell_type": "code",
      "source": [
        "# Can use this but of code to make sure it will select GPU if one is available\n",
        "if torch.cuda.is_available():\n",
        "    device = \"cuda\" # Use NVIDIA GPU (if available)\n",
        "elif torch.backends.mps.is_available():\n",
        "    device = \"mps\" # Use Apple Silicon GPU (if available)\n",
        "else:\n",
        "    device = \"cpu\" # Default to CPU if no GPU is available"
      ],
      "metadata": {
        "id": "dN507SAv_ngb"
      },
      "execution_count": 9,
      "outputs": []
    },
    {
      "cell_type": "code",
      "source": [
        "device"
      ],
      "metadata": {
        "id": "CcDaQp3NBXvH",
        "outputId": "e9b29243-fc90-4ad5-e4b2-8920fba2b017",
        "colab": {
          "base_uri": "https://localhost:8080/",
          "height": 35
        }
      },
      "execution_count": 10,
      "outputs": [
        {
          "output_type": "execute_result",
          "data": {
            "text/plain": [
              "'cuda'"
            ],
            "application/vnd.google.colaboratory.intrinsic+json": {
              "type": "string"
            }
          },
          "metadata": {},
          "execution_count": 10
        }
      ]
    },
    {
      "cell_type": "markdown",
      "source": [
        "#### Putting Tensors on GPU"
      ],
      "metadata": {
        "id": "0r06b4V8Bbk_"
      }
    },
    {
      "cell_type": "code",
      "source": [
        "tensor = torch.tensor([1, 2, 3])\n",
        "tensor, tensor.device"
      ],
      "metadata": {
        "id": "2q7BahpHBZRG",
        "outputId": "0b713248-22ad-430f-ee94-208892a2751b",
        "colab": {
          "base_uri": "https://localhost:8080/"
        }
      },
      "execution_count": 11,
      "outputs": [
        {
          "output_type": "execute_result",
          "data": {
            "text/plain": [
              "(tensor([1, 2, 3]), device(type='cpu'))"
            ]
          },
          "metadata": {},
          "execution_count": 11
        }
      ]
    },
    {
      "cell_type": "code",
      "source": [
        "tensor_on_gpu = tensor.to(device)\n",
        "tensor_on_gpu"
      ],
      "metadata": {
        "id": "_dAaG9TVBidP",
        "outputId": "efd85289-bf45-480f-f29a-7f2f3dce431a",
        "colab": {
          "base_uri": "https://localhost:8080/"
        }
      },
      "execution_count": 12,
      "outputs": [
        {
          "output_type": "execute_result",
          "data": {
            "text/plain": [
              "tensor([1, 2, 3], device='cuda:0')"
            ]
          },
          "metadata": {},
          "execution_count": 12
        }
      ]
    },
    {
      "cell_type": "code",
      "source": [
        "# IF tensor on GPU, can't convert to numpy\n",
        "# tensor_on_gpu.numpy() - Will Error"
      ],
      "metadata": {
        "id": "mI8XEKhnBobp",
        "outputId": "bea6a148-a0a8-4de2-f07e-b6e1825d281b",
        "colab": {
          "base_uri": "https://localhost:8080/",
          "height": 159
        }
      },
      "execution_count": 13,
      "outputs": [
        {
          "output_type": "error",
          "ename": "TypeError",
          "evalue": "can't convert cuda:0 device type tensor to numpy. Use Tensor.cpu() to copy the tensor to host memory first.",
          "traceback": [
            "\u001b[0;31m---------------------------------------------------------------------------\u001b[0m",
            "\u001b[0;31mTypeError\u001b[0m                                 Traceback (most recent call last)",
            "\u001b[0;32m<ipython-input-13-408904927>\u001b[0m in \u001b[0;36m<cell line: 0>\u001b[0;34m()\u001b[0m\n\u001b[1;32m      1\u001b[0m \u001b[0;31m# IF tensor on GPU, can't convert to numpy\u001b[0m\u001b[0;34m\u001b[0m\u001b[0;34m\u001b[0m\u001b[0m\n\u001b[0;32m----> 2\u001b[0;31m \u001b[0mtensor_on_gpu\u001b[0m\u001b[0;34m.\u001b[0m\u001b[0mnumpy\u001b[0m\u001b[0;34m(\u001b[0m\u001b[0;34m)\u001b[0m\u001b[0;34m\u001b[0m\u001b[0;34m\u001b[0m\u001b[0m\n\u001b[0m",
            "\u001b[0;31mTypeError\u001b[0m: can't convert cuda:0 device type tensor to numpy. Use Tensor.cpu() to copy the tensor to host memory first."
          ]
        }
      ]
    },
    {
      "cell_type": "code",
      "source": [
        "# convert back to cpu first\n",
        "tensor_on_gpu.to('cpu').numpy() # This only returns a copy"
      ],
      "metadata": {
        "id": "BcyKKUoGBwBJ",
        "outputId": "b458f13c-db19-4cdc-aa4c-89f498521dc7",
        "colab": {
          "base_uri": "https://localhost:8080/"
        }
      },
      "execution_count": 14,
      "outputs": [
        {
          "output_type": "execute_result",
          "data": {
            "text/plain": [
              "array([1, 2, 3])"
            ]
          },
          "metadata": {},
          "execution_count": 14
        }
      ]
    },
    {
      "cell_type": "code",
      "source": [],
      "metadata": {
        "id": "M-Pqx_LkB7Yn"
      },
      "execution_count": null,
      "outputs": []
    }
  ]
}