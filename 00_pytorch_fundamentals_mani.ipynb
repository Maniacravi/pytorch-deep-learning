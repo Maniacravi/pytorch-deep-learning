{
  "nbformat": 4,
  "nbformat_minor": 0,
  "metadata": {
    "colab": {
      "provenance": [],
      "toc_visible": true,
      "authorship_tag": "ABX9TyOjGneT1pxFTIgXw88757cj",
      "include_colab_link": true
    },
    "kernelspec": {
      "name": "python3",
      "display_name": "Python 3"
    },
    "language_info": {
      "name": "python"
    }
  },
  "cells": [
    {
      "cell_type": "markdown",
      "metadata": {
        "id": "view-in-github",
        "colab_type": "text"
      },
      "source": [
        "<a href=\"https://colab.research.google.com/github/Maniacravi/pytorch-deep-learning/blob/main/00_pytorch_fundamentals_mani.ipynb\" target=\"_parent\"><img src=\"https://colab.research.google.com/assets/colab-badge.svg\" alt=\"Open In Colab\"/></a>"
      ]
    },
    {
      "cell_type": "markdown",
      "source": [
        "# PyTorch Fundamentals"
      ],
      "metadata": {
        "id": "Wqlo7wdRd4kn"
      }
    },
    {
      "cell_type": "markdown",
      "source": [
        "My code along for the first section"
      ],
      "metadata": {
        "id": "EjFX3laWd3Ud"
      }
    },
    {
      "cell_type": "markdown",
      "source": [
        "## Import statements\n"
      ],
      "metadata": {
        "id": "QyiajRx-dkHa"
      }
    },
    {
      "cell_type": "code",
      "source": [
        "import torch\n",
        "import pandas as pd\n",
        "import numpy as np\n",
        "import matplotlib.pyplot as plt\n",
        "print(torch.__version__)"
      ],
      "metadata": {
        "id": "nOBhQlgndVUD",
        "outputId": "53ce2568-d5e1-4275-aaba-42891964cce0",
        "colab": {
          "base_uri": "https://localhost:8080/"
        }
      },
      "execution_count": 1,
      "outputs": [
        {
          "output_type": "stream",
          "name": "stdout",
          "text": [
            "2.6.0+cu124\n"
          ]
        }
      ]
    },
    {
      "cell_type": "markdown",
      "source": [
        "## Tensors"
      ],
      "metadata": {
        "id": "y2tT39wfdytZ"
      }
    },
    {
      "cell_type": "markdown",
      "source": [
        "### Intro"
      ],
      "metadata": {
        "id": "Hj50hJdzeyM9"
      }
    },
    {
      "cell_type": "markdown",
      "source": [
        "#### Scalars"
      ],
      "metadata": {
        "id": "HYrBEqIogK0O"
      }
    },
    {
      "cell_type": "code",
      "source": [
        "scalar = torch.tensor(9)\n",
        "scalar"
      ],
      "metadata": {
        "id": "gxizI1qQfCRV",
        "outputId": "ee164e3f-8917-4f02-96cf-b1a36dfb956e",
        "colab": {
          "base_uri": "https://localhost:8080/"
        }
      },
      "execution_count": 2,
      "outputs": [
        {
          "output_type": "execute_result",
          "data": {
            "text/plain": [
              "tensor(9)"
            ]
          },
          "metadata": {},
          "execution_count": 2
        }
      ]
    },
    {
      "cell_type": "code",
      "source": [
        "scalar.ndim"
      ],
      "metadata": {
        "id": "-4s2HtHdfJt0",
        "outputId": "b877ddbb-e4d3-40f3-f09b-38fe1ada0c61",
        "colab": {
          "base_uri": "https://localhost:8080/"
        }
      },
      "execution_count": 3,
      "outputs": [
        {
          "output_type": "execute_result",
          "data": {
            "text/plain": [
              "0"
            ]
          },
          "metadata": {},
          "execution_count": 3
        }
      ]
    },
    {
      "cell_type": "code",
      "source": [
        "# Get tensor back as Python int\n",
        "scalar.item()"
      ],
      "metadata": {
        "id": "9lQSi43Hf2VZ",
        "outputId": "b9d9a600-b21c-42d8-d935-f8cfc08d439c",
        "colab": {
          "base_uri": "https://localhost:8080/"
        }
      },
      "execution_count": 4,
      "outputs": [
        {
          "output_type": "execute_result",
          "data": {
            "text/plain": [
              "9"
            ]
          },
          "metadata": {},
          "execution_count": 4
        }
      ]
    },
    {
      "cell_type": "code",
      "source": [
        "scalar.shape"
      ],
      "metadata": {
        "id": "eeUwxbLjgsAF",
        "outputId": "375aca8f-5324-4922-f689-0a0330fdfbca",
        "colab": {
          "base_uri": "https://localhost:8080/"
        }
      },
      "execution_count": 5,
      "outputs": [
        {
          "output_type": "execute_result",
          "data": {
            "text/plain": [
              "torch.Size([])"
            ]
          },
          "metadata": {},
          "execution_count": 5
        }
      ]
    },
    {
      "cell_type": "markdown",
      "source": [
        "#### Vectors"
      ],
      "metadata": {
        "id": "Rlt11ZMXgAFL"
      }
    },
    {
      "cell_type": "code",
      "source": [
        "vector = torch.tensor([9, 9, 9])\n",
        "vector"
      ],
      "metadata": {
        "id": "hfcgWYnWgPVN",
        "outputId": "f50e416c-c73a-4b67-e57e-227822e21305",
        "colab": {
          "base_uri": "https://localhost:8080/"
        }
      },
      "execution_count": 6,
      "outputs": [
        {
          "output_type": "execute_result",
          "data": {
            "text/plain": [
              "tensor([9, 9, 9])"
            ]
          },
          "metadata": {},
          "execution_count": 6
        }
      ]
    },
    {
      "cell_type": "code",
      "source": [
        "vector.ndim"
      ],
      "metadata": {
        "id": "-dLLdmptgUdT",
        "outputId": "00d8e054-87c4-45dc-bc2f-b61280026ae8",
        "colab": {
          "base_uri": "https://localhost:8080/"
        }
      },
      "execution_count": 7,
      "outputs": [
        {
          "output_type": "execute_result",
          "data": {
            "text/plain": [
              "1"
            ]
          },
          "metadata": {},
          "execution_count": 7
        }
      ]
    },
    {
      "cell_type": "code",
      "source": [
        "vector.shape"
      ],
      "metadata": {
        "id": "ogJEhICTgZBY",
        "outputId": "bfb0c201-d8ab-4d01-950f-204251a875f8",
        "colab": {
          "base_uri": "https://localhost:8080/"
        }
      },
      "execution_count": 8,
      "outputs": [
        {
          "output_type": "execute_result",
          "data": {
            "text/plain": [
              "torch.Size([3])"
            ]
          },
          "metadata": {},
          "execution_count": 8
        }
      ]
    },
    {
      "cell_type": "markdown",
      "source": [
        "#### MATRIX"
      ],
      "metadata": {
        "id": "iAcInYBAgxTs"
      }
    },
    {
      "cell_type": "code",
      "source": [
        "MATRIX = torch.tensor([[9, 9],\n",
        "                       [10, 11]])\n",
        "MATRIX"
      ],
      "metadata": {
        "id": "FYeWcpN8gmai",
        "outputId": "0d8148f6-bf4c-4a21-a02a-429ee1211d60",
        "colab": {
          "base_uri": "https://localhost:8080/"
        }
      },
      "execution_count": 9,
      "outputs": [
        {
          "output_type": "execute_result",
          "data": {
            "text/plain": [
              "tensor([[ 9,  9],\n",
              "        [10, 11]])"
            ]
          },
          "metadata": {},
          "execution_count": 9
        }
      ]
    },
    {
      "cell_type": "code",
      "source": [
        "MATRIX.ndim"
      ],
      "metadata": {
        "id": "QPX2qKzxg_53",
        "outputId": "cc87b913-e808-4041-c643-0073a9936887",
        "colab": {
          "base_uri": "https://localhost:8080/"
        }
      },
      "execution_count": 10,
      "outputs": [
        {
          "output_type": "execute_result",
          "data": {
            "text/plain": [
              "2"
            ]
          },
          "metadata": {},
          "execution_count": 10
        }
      ]
    },
    {
      "cell_type": "code",
      "source": [
        "MATRIX.shape"
      ],
      "metadata": {
        "id": "f533td7AhC9d",
        "outputId": "c4858705-c26d-4a9a-fac0-2d1318938eb5",
        "colab": {
          "base_uri": "https://localhost:8080/"
        }
      },
      "execution_count": 11,
      "outputs": [
        {
          "output_type": "execute_result",
          "data": {
            "text/plain": [
              "torch.Size([2, 2])"
            ]
          },
          "metadata": {},
          "execution_count": 11
        }
      ]
    },
    {
      "cell_type": "code",
      "source": [
        "# slicing\n",
        "\n",
        "MATRIX[0]"
      ],
      "metadata": {
        "id": "BXFQtlJqhGIb",
        "outputId": "38c97ac2-733e-4a6d-ec20-962157de1e67",
        "colab": {
          "base_uri": "https://localhost:8080/"
        }
      },
      "execution_count": 12,
      "outputs": [
        {
          "output_type": "execute_result",
          "data": {
            "text/plain": [
              "tensor([9, 9])"
            ]
          },
          "metadata": {},
          "execution_count": 12
        }
      ]
    },
    {
      "cell_type": "code",
      "source": [
        "MATRIX[1, 0]"
      ],
      "metadata": {
        "id": "iALVl0AqhQSn",
        "outputId": "a2f70561-454e-4ce3-960c-1fae8192751b",
        "colab": {
          "base_uri": "https://localhost:8080/"
        }
      },
      "execution_count": 13,
      "outputs": [
        {
          "output_type": "execute_result",
          "data": {
            "text/plain": [
              "tensor(10)"
            ]
          },
          "metadata": {},
          "execution_count": 13
        }
      ]
    },
    {
      "cell_type": "markdown",
      "source": [
        "#### TENSOR"
      ],
      "metadata": {
        "id": "JQ3LL5UKh8_T"
      }
    },
    {
      "cell_type": "code",
      "source": [
        "TENSOR = torch.tensor([[[1, 2, 3],\n",
        "                        [4, 5, 6],\n",
        "                        [7, 8, 9]]])\n",
        "TENSOR"
      ],
      "metadata": {
        "id": "qejCL3Qshaeq",
        "outputId": "e05257f0-683c-47ca-ec69-ec6175991d4f",
        "colab": {
          "base_uri": "https://localhost:8080/"
        }
      },
      "execution_count": 14,
      "outputs": [
        {
          "output_type": "execute_result",
          "data": {
            "text/plain": [
              "tensor([[[1, 2, 3],\n",
              "         [4, 5, 6],\n",
              "         [7, 8, 9]]])"
            ]
          },
          "metadata": {},
          "execution_count": 14
        }
      ]
    },
    {
      "cell_type": "code",
      "source": [
        "TENSOR.ndim"
      ],
      "metadata": {
        "id": "L8MKWBv9iEz3",
        "outputId": "77e5826b-edaa-4166-eb18-f0dbe5dc3ac1",
        "colab": {
          "base_uri": "https://localhost:8080/"
        }
      },
      "execution_count": 15,
      "outputs": [
        {
          "output_type": "execute_result",
          "data": {
            "text/plain": [
              "3"
            ]
          },
          "metadata": {},
          "execution_count": 15
        }
      ]
    },
    {
      "cell_type": "code",
      "source": [
        "TENSOR.shape"
      ],
      "metadata": {
        "id": "cyXTZ7D5iNKi",
        "outputId": "527c64e7-9962-430e-ae40-319889ad4c75",
        "colab": {
          "base_uri": "https://localhost:8080/"
        }
      },
      "execution_count": 16,
      "outputs": [
        {
          "output_type": "execute_result",
          "data": {
            "text/plain": [
              "torch.Size([1, 3, 3])"
            ]
          },
          "metadata": {},
          "execution_count": 16
        }
      ]
    },
    {
      "cell_type": "code",
      "source": [
        "TENSOR[0]"
      ],
      "metadata": {
        "id": "vXk1k5PoiOaB",
        "outputId": "6af99642-c812-4c58-eff5-735b479c08c6",
        "colab": {
          "base_uri": "https://localhost:8080/"
        }
      },
      "execution_count": 17,
      "outputs": [
        {
          "output_type": "execute_result",
          "data": {
            "text/plain": [
              "tensor([[1, 2, 3],\n",
              "        [4, 5, 6],\n",
              "        [7, 8, 9]])"
            ]
          },
          "metadata": {},
          "execution_count": 17
        }
      ]
    },
    {
      "cell_type": "code",
      "source": [],
      "metadata": {
        "id": "9F2XK58Ai0j4"
      },
      "execution_count": 17,
      "outputs": []
    },
    {
      "cell_type": "markdown",
      "source": [
        "### Creating Tensors"
      ],
      "metadata": {
        "id": "h3zANG6wjkW7"
      }
    },
    {
      "cell_type": "markdown",
      "source": [
        "#### Random Tensors"
      ],
      "metadata": {
        "id": "HRnnoaTqjoPW"
      }
    },
    {
      "cell_type": "markdown",
      "source": [
        "Creating random tensors because they are the most usual way to create tensors in code"
      ],
      "metadata": {
        "id": "6eihPSzkkK0O"
      }
    },
    {
      "cell_type": "code",
      "source": [
        "# Create a random tensor\n",
        "\n",
        "random_tensor = torch.rand(3, 4)\n",
        "random_tensor\n"
      ],
      "metadata": {
        "id": "l600AFE6kTeB",
        "outputId": "eba06d01-a8e7-4371-8fdd-8bc3a326e32a",
        "colab": {
          "base_uri": "https://localhost:8080/"
        }
      },
      "execution_count": 27,
      "outputs": [
        {
          "output_type": "execute_result",
          "data": {
            "text/plain": [
              "tensor([[0.5634, 0.0523, 0.0011, 0.1825],\n",
              "        [0.2674, 0.8673, 0.2341, 0.0161],\n",
              "        [0.0299, 0.1540, 0.9526, 0.9091]])"
            ]
          },
          "metadata": {},
          "execution_count": 27
        }
      ]
    },
    {
      "cell_type": "code",
      "source": [
        "random_tensor.shape"
      ],
      "metadata": {
        "id": "wQDoilLHkh_C",
        "outputId": "1a7610c9-9652-488c-b56c-296f06f0e803",
        "colab": {
          "base_uri": "https://localhost:8080/"
        }
      },
      "execution_count": 19,
      "outputs": [
        {
          "output_type": "execute_result",
          "data": {
            "text/plain": [
              "torch.Size([3, 4, 6])"
            ]
          },
          "metadata": {},
          "execution_count": 19
        }
      ]
    },
    {
      "cell_type": "code",
      "source": [
        "random_tensor.ndim"
      ],
      "metadata": {
        "id": "_VuoqhrIkqS_",
        "outputId": "73459959-d9e7-4a33-dd44-fe381a6d9e0f",
        "colab": {
          "base_uri": "https://localhost:8080/"
        }
      },
      "execution_count": 20,
      "outputs": [
        {
          "output_type": "execute_result",
          "data": {
            "text/plain": [
              "3"
            ]
          },
          "metadata": {},
          "execution_count": 20
        }
      ]
    },
    {
      "cell_type": "code",
      "source": [
        "# Create a random tensor with similar shape to an image tensor\n",
        "random_image_size_tensor = torch.rand(size=(3, 224, 224))\n",
        "random_image_size_tensor, random_image_size_tensor.ndim, random_image_size_tensor.shape"
      ],
      "metadata": {
        "id": "AtYaLoHmkuI8",
        "outputId": "82763367-d013-4361-90df-d85f0cc766e3",
        "colab": {
          "base_uri": "https://localhost:8080/"
        }
      },
      "execution_count": 21,
      "outputs": [
        {
          "output_type": "execute_result",
          "data": {
            "text/plain": [
              "(tensor([[[0.6763, 0.8986, 0.0291,  ..., 0.3638, 0.4245, 0.2210],\n",
              "          [0.4569, 0.9883, 0.9402,  ..., 0.3334, 0.0104, 0.4459],\n",
              "          [0.8517, 0.6790, 0.8334,  ..., 0.4194, 0.8088, 0.4164],\n",
              "          ...,\n",
              "          [0.5148, 0.9991, 0.8305,  ..., 0.1391, 0.7130, 0.7386],\n",
              "          [0.8243, 0.9806, 0.4165,  ..., 0.8762, 0.3138, 0.4268],\n",
              "          [0.0014, 0.4376, 0.7164,  ..., 0.8895, 0.8005, 0.6523]],\n",
              " \n",
              "         [[0.8994, 0.2043, 0.3196,  ..., 0.9814, 0.1752, 0.1710],\n",
              "          [0.7753, 0.1107, 0.0546,  ..., 0.6809, 0.6535, 0.7321],\n",
              "          [0.4655, 0.9326, 0.4491,  ..., 0.8731, 0.6571, 0.5260],\n",
              "          ...,\n",
              "          [0.1811, 0.0299, 0.0948,  ..., 0.2943, 0.6694, 0.5973],\n",
              "          [0.2277, 0.2890, 0.6889,  ..., 0.1274, 0.9975, 0.5521],\n",
              "          [0.3556, 0.0566, 0.2336,  ..., 0.3565, 0.2408, 0.5647]],\n",
              " \n",
              "         [[0.7334, 0.2408, 0.6974,  ..., 0.6584, 0.2214, 0.2447],\n",
              "          [0.0364, 0.3451, 0.2567,  ..., 0.2909, 0.0730, 0.0357],\n",
              "          [0.1354, 0.3560, 0.4792,  ..., 0.6684, 0.0369, 0.4678],\n",
              "          ...,\n",
              "          [0.5484, 0.5002, 0.3143,  ..., 0.5736, 0.3652, 0.1725],\n",
              "          [0.8302, 0.8712, 0.1564,  ..., 0.6352, 0.5794, 0.2347],\n",
              "          [0.6915, 0.9898, 0.0023,  ..., 0.1683, 0.3366, 0.3278]]]),\n",
              " 3,\n",
              " torch.Size([3, 224, 224]))"
            ]
          },
          "metadata": {},
          "execution_count": 21
        }
      ]
    },
    {
      "cell_type": "code",
      "source": [
        "# Create a random tensor again\n",
        "random_tensor_2 = torch.rand(size=(3, 1920, 1080))\n",
        "random_tensor_2.shape"
      ],
      "metadata": {
        "id": "v9rAa4G5lNx8",
        "colab": {
          "base_uri": "https://localhost:8080/"
        },
        "outputId": "07f2cafb-60eb-4c84-f5bc-cd71742c1267"
      },
      "execution_count": 24,
      "outputs": [
        {
          "output_type": "execute_result",
          "data": {
            "text/plain": [
              "torch.Size([3, 1920, 1080])"
            ]
          },
          "metadata": {},
          "execution_count": 24
        }
      ]
    },
    {
      "cell_type": "markdown",
      "source": [
        "#### Zeros and Ones"
      ],
      "metadata": {
        "id": "n0C0HUUW87gV"
      }
    },
    {
      "cell_type": "code",
      "source": [
        "# Create a tensor of all zeros\n",
        "zeros = torch.zeros(size=(3, 4))\n",
        "zeros"
      ],
      "metadata": {
        "colab": {
          "base_uri": "https://localhost:8080/"
        },
        "id": "qMxwWSmE8u6W",
        "outputId": "0e6587fb-08fb-4cc8-d017-1d754b996349"
      },
      "execution_count": 25,
      "outputs": [
        {
          "output_type": "execute_result",
          "data": {
            "text/plain": [
              "tensor([[0., 0., 0., 0.],\n",
              "        [0., 0., 0., 0.],\n",
              "        [0., 0., 0., 0.]])"
            ]
          },
          "metadata": {},
          "execution_count": 25
        }
      ]
    },
    {
      "cell_type": "code",
      "source": [
        "# All ones\n",
        "ones = torch.ones(size=(3, 4))\n",
        "ones"
      ],
      "metadata": {
        "colab": {
          "base_uri": "https://localhost:8080/"
        },
        "id": "mIPBEep99GXZ",
        "outputId": "cae5e888-4bec-43c0-f4ec-08eb4bbe6bd7"
      },
      "execution_count": 32,
      "outputs": [
        {
          "output_type": "execute_result",
          "data": {
            "text/plain": [
              "tensor([[1., 1., 1., 1.],\n",
              "        [1., 1., 1., 1.],\n",
              "        [1., 1., 1., 1.]])"
            ]
          },
          "metadata": {},
          "execution_count": 32
        }
      ]
    },
    {
      "cell_type": "code",
      "source": [
        "ones.dtype # Explore the datatype of the tensor"
      ],
      "metadata": {
        "colab": {
          "base_uri": "https://localhost:8080/"
        },
        "id": "sbHdPjAU9Jjo",
        "outputId": "7eae6596-abab-426a-ea76-fd7861d44814"
      },
      "execution_count": 33,
      "outputs": [
        {
          "output_type": "execute_result",
          "data": {
            "text/plain": [
              "torch.float32"
            ]
          },
          "metadata": {},
          "execution_count": 33
        }
      ]
    },
    {
      "cell_type": "markdown",
      "source": [
        "#### Creating a Range of tensors and tensors-like"
      ],
      "metadata": {
        "id": "hS9W4ChU9vNq"
      }
    },
    {
      "cell_type": "code",
      "source": [
        "# torch.range\n",
        "torch.range(0,10) # Deprecated"
      ],
      "metadata": {
        "colab": {
          "base_uri": "https://localhost:8080/"
        },
        "id": "7at3C1bh9hzd",
        "outputId": "467cd9be-fa60-46ed-f665-234d3a355b2c"
      },
      "execution_count": 35,
      "outputs": [
        {
          "output_type": "stream",
          "name": "stderr",
          "text": [
            "<ipython-input-35-462832172>:2: UserWarning: torch.range is deprecated and will be removed in a future release because its behavior is inconsistent with Python's range builtin. Instead, use torch.arange, which produces values in [start, end).\n",
            "  torch.range(0,10)\n"
          ]
        },
        {
          "output_type": "execute_result",
          "data": {
            "text/plain": [
              "tensor([ 0.,  1.,  2.,  3.,  4.,  5.,  6.,  7.,  8.,  9., 10.])"
            ]
          },
          "metadata": {},
          "execution_count": 35
        }
      ]
    },
    {
      "cell_type": "code",
      "source": [
        "one_to_ten = torch.arange(1, 11)\n",
        "one_to_ten"
      ],
      "metadata": {
        "colab": {
          "base_uri": "https://localhost:8080/"
        },
        "id": "napR2wmi93ES",
        "outputId": "7ac8e2ad-e30f-4d0c-96a4-aa20072ff60f"
      },
      "execution_count": 37,
      "outputs": [
        {
          "output_type": "execute_result",
          "data": {
            "text/plain": [
              "tensor([ 1,  2,  3,  4,  5,  6,  7,  8,  9, 10])"
            ]
          },
          "metadata": {},
          "execution_count": 37
        }
      ]
    },
    {
      "cell_type": "code",
      "source": [
        "# also can use step\n",
        "torch.arange(start=0, end=1000, step=77)"
      ],
      "metadata": {
        "colab": {
          "base_uri": "https://localhost:8080/"
        },
        "id": "hGKGYpke-Jse",
        "outputId": "823b7fe0-b248-4f59-f880-441691dbae42"
      },
      "execution_count": 38,
      "outputs": [
        {
          "output_type": "execute_result",
          "data": {
            "text/plain": [
              "tensor([  0,  77, 154, 231, 308, 385, 462, 539, 616, 693, 770, 847, 924])"
            ]
          },
          "metadata": {},
          "execution_count": 38
        }
      ]
    },
    {
      "cell_type": "code",
      "source": [
        "# Create tensors like\n",
        "ten_zeros = torch.zeros_like(input = one_to_ten) # Returns a tensor filled with the scalar value 0, with the same size as input\n",
        "ten_zeros"
      ],
      "metadata": {
        "colab": {
          "base_uri": "https://localhost:8080/"
        },
        "id": "3bxQIhpl-iCo",
        "outputId": "dcf603ea-8c8f-46f5-c38b-9c0ce10bcd6f"
      },
      "execution_count": 40,
      "outputs": [
        {
          "output_type": "execute_result",
          "data": {
            "text/plain": [
              "tensor([0, 0, 0, 0, 0, 0, 0, 0, 0, 0])"
            ]
          },
          "metadata": {},
          "execution_count": 40
        }
      ]
    },
    {
      "cell_type": "code",
      "source": [],
      "metadata": {
        "id": "Hm8lfNE3-ubE"
      },
      "execution_count": null,
      "outputs": []
    },
    {
      "cell_type": "markdown",
      "source": [
        "### Tensor datatypes"
      ],
      "metadata": {
        "id": "K03u1_7A_Xjh"
      }
    },
    {
      "cell_type": "code",
      "source": [
        "# Float_32 tensor\n",
        "float_32_tensor = torch.tensor([3.0, 6.0, 9.0],\n",
        "                               dtype=None) # What datatype is the tensor\n",
        ""
      ],
      "metadata": {
        "id": "0s6fK6hb_aOG"
      },
      "execution_count": 41,
      "outputs": []
    },
    {
      "cell_type": "code",
      "source": [
        "float_32_tensor.dtype"
      ],
      "metadata": {
        "colab": {
          "base_uri": "https://localhost:8080/"
        },
        "id": "4-NBZNQN_wHo",
        "outputId": "a034ada5-bb82-4b08-ce63-a69e1e505942"
      },
      "execution_count": 42,
      "outputs": [
        {
          "output_type": "execute_result",
          "data": {
            "text/plain": [
              "torch.float32"
            ]
          },
          "metadata": {},
          "execution_count": 42
        }
      ]
    },
    {
      "cell_type": "markdown",
      "source": [
        "Even when dtype is specified as None - still produces a float32 tensor"
      ],
      "metadata": {
        "id": "lezpbSqN_z6r"
      }
    },
    {
      "cell_type": "code",
      "source": [
        "float_32_tensor = torch.tensor([3.0, 6.0, 9.0],\n",
        "                               dtype=None, # What datatype is the tensor\n",
        "                               device=None, # What device is your tensor on ('cpu', 'gpu' etc)\n",
        "                               requires_grad=False)\n",
        "float_32_tensor"
      ],
      "metadata": {
        "colab": {
          "base_uri": "https://localhost:8080/"
        },
        "id": "7XejTncS_x2n",
        "outputId": "7d25981a-9ee8-4b22-9188-ab1ad3f1ce31"
      },
      "execution_count": 43,
      "outputs": [
        {
          "output_type": "execute_result",
          "data": {
            "text/plain": [
              "tensor([3., 6., 9.])"
            ]
          },
          "metadata": {},
          "execution_count": 43
        }
      ]
    },
    {
      "cell_type": "markdown",
      "source": [
        "** Note ** : Learn about tensor datatypes and their differences. May run into errors with this often"
      ],
      "metadata": {
        "id": "gJtKuK4iAwbv"
      }
    },
    {
      "cell_type": "code",
      "source": [
        "float_16_tensor = float_32_tensor.type(torch.float16) # Crearting a float16 tensor from the float32 tensor\n",
        "float_16_tensor"
      ],
      "metadata": {
        "colab": {
          "base_uri": "https://localhost:8080/"
        },
        "id": "MYlfJcvOAACC",
        "outputId": "787ca42e-8aea-4fdc-a55c-c53cb3d7ff61"
      },
      "execution_count": 44,
      "outputs": [
        {
          "output_type": "execute_result",
          "data": {
            "text/plain": [
              "tensor([3., 6., 9.], dtype=torch.float16)"
            ]
          },
          "metadata": {},
          "execution_count": 44
        }
      ]
    },
    {
      "cell_type": "code",
      "source": [
        "float_16_tensor * float_32_tensor"
      ],
      "metadata": {
        "colab": {
          "base_uri": "https://localhost:8080/"
        },
        "id": "v9DIZ4jMBnLp",
        "outputId": "7b4ec5d4-3f04-4eca-8150-cb4a47167ab5"
      },
      "execution_count": 45,
      "outputs": [
        {
          "output_type": "execute_result",
          "data": {
            "text/plain": [
              "tensor([ 9., 36., 81.])"
            ]
          },
          "metadata": {},
          "execution_count": 45
        }
      ]
    },
    {
      "cell_type": "markdown",
      "source": [
        "This works surprisignly but beware of mixing multiple types of tensors. Sometimes will raise errors"
      ],
      "metadata": {
        "id": "9rJbDGGrB_Oc"
      }
    },
    {
      "cell_type": "code",
      "source": [
        "int_32_tensor = float_32_tensor.type(dtype = torch.int32)\n",
        "int_32_tensor"
      ],
      "metadata": {
        "colab": {
          "base_uri": "https://localhost:8080/"
        },
        "id": "TYV5TBO7B5rW",
        "outputId": "5ec46e84-5fcf-41c3-fba8-b19361139605"
      },
      "execution_count": 47,
      "outputs": [
        {
          "output_type": "execute_result",
          "data": {
            "text/plain": [
              "tensor([3, 6, 9], dtype=torch.int32)"
            ]
          },
          "metadata": {},
          "execution_count": 47
        }
      ]
    },
    {
      "cell_type": "code",
      "source": [
        "int_32_tensor * float_32_tensor"
      ],
      "metadata": {
        "colab": {
          "base_uri": "https://localhost:8080/"
        },
        "id": "5dnJqtOMCbg6",
        "outputId": "a9415bc4-0cc1-495d-f479-a33fdf4ee2a7"
      },
      "execution_count": 48,
      "outputs": [
        {
          "output_type": "execute_result",
          "data": {
            "text/plain": [
              "tensor([ 9., 36., 81.])"
            ]
          },
          "metadata": {},
          "execution_count": 48
        }
      ]
    },
    {
      "cell_type": "markdown",
      "source": [
        "Still works"
      ],
      "metadata": {
        "id": "RpnhwdK6Cr3E"
      }
    },
    {
      "cell_type": "markdown",
      "source": [
        "#### Getting info from Tensors"
      ],
      "metadata": {
        "id": "zqwrXPIfDGEw"
      }
    },
    {
      "cell_type": "code",
      "source": [
        "# Get dtype\n",
        "int_32_tensor.dtype"
      ],
      "metadata": {
        "colab": {
          "base_uri": "https://localhost:8080/"
        },
        "id": "vh9-_QkiCjr3",
        "outputId": "b684ccca-bd53-45e1-f60a-309917bd43a3"
      },
      "execution_count": 49,
      "outputs": [
        {
          "output_type": "execute_result",
          "data": {
            "text/plain": [
              "torch.int32"
            ]
          },
          "metadata": {},
          "execution_count": 49
        }
      ]
    },
    {
      "cell_type": "code",
      "source": [
        "# Get shape\n",
        "float_32_tensor.shape"
      ],
      "metadata": {
        "colab": {
          "base_uri": "https://localhost:8080/"
        },
        "id": "-oiYzjR_DNXL",
        "outputId": "392098c8-1556-49fe-db29-f99492461d6d"
      },
      "execution_count": 50,
      "outputs": [
        {
          "output_type": "execute_result",
          "data": {
            "text/plain": [
              "torch.Size([3])"
            ]
          },
          "metadata": {},
          "execution_count": 50
        }
      ]
    },
    {
      "cell_type": "code",
      "source": [
        "# Get device\n",
        "float_16_tensor.device"
      ],
      "metadata": {
        "colab": {
          "base_uri": "https://localhost:8080/"
        },
        "id": "s8mbteP-DPrB",
        "outputId": "961b46fb-15f9-44a5-c5c7-86a2b3675c24"
      },
      "execution_count": 51,
      "outputs": [
        {
          "output_type": "execute_result",
          "data": {
            "text/plain": [
              "device(type='cpu')"
            ]
          },
          "metadata": {},
          "execution_count": 51
        }
      ]
    },
    {
      "cell_type": "code",
      "source": [
        "# Get ndim\n",
        "int_32_tensor.ndim"
      ],
      "metadata": {
        "colab": {
          "base_uri": "https://localhost:8080/"
        },
        "id": "eDu8jM7WDSl3",
        "outputId": "2bf256bf-3e6d-4be3-bdf4-94f85e7e5f10"
      },
      "execution_count": 52,
      "outputs": [
        {
          "output_type": "execute_result",
          "data": {
            "text/plain": [
              "1"
            ]
          },
          "metadata": {},
          "execution_count": 52
        }
      ]
    },
    {
      "cell_type": "markdown",
      "source": [
        "#### Manipulating Tensors (tensor operations)"
      ],
      "metadata": {
        "id": "kZ-UGnBaD2TG"
      }
    },
    {
      "cell_type": "markdown",
      "source": [
        "Includes:\n",
        "* Addition\n",
        "* Subtraction\n",
        "* Multiplication (element-wise)\n",
        "* Division\n",
        "* Mat Mult"
      ],
      "metadata": {
        "id": "yePcw1O9EGgw"
      }
    },
    {
      "cell_type": "code",
      "source": [
        "# Addition\n",
        "tensor = torch.tensor([1, 2, 3])\n",
        "tensor + 10\n"
      ],
      "metadata": {
        "colab": {
          "base_uri": "https://localhost:8080/"
        },
        "id": "AmEo9eElDahc",
        "outputId": "49699fb0-e7bb-43b8-ec86-be7d3531276b"
      },
      "execution_count": 53,
      "outputs": [
        {
          "output_type": "execute_result",
          "data": {
            "text/plain": [
              "tensor([11, 12, 13])"
            ]
          },
          "metadata": {},
          "execution_count": 53
        }
      ]
    },
    {
      "cell_type": "code",
      "source": [
        "# Add two tensors\n",
        "int_32_tensor + float_32_tensor"
      ],
      "metadata": {
        "colab": {
          "base_uri": "https://localhost:8080/"
        },
        "id": "pSkM2Ox0ET26",
        "outputId": "3d63cb00-0f42-4925-92ec-c54c0fb38299"
      },
      "execution_count": 54,
      "outputs": [
        {
          "output_type": "execute_result",
          "data": {
            "text/plain": [
              "tensor([ 6., 12., 18.])"
            ]
          },
          "metadata": {},
          "execution_count": 54
        }
      ]
    },
    {
      "cell_type": "code",
      "source": [
        "# Multiply tensor by 10\n",
        "tensor * 10"
      ],
      "metadata": {
        "colab": {
          "base_uri": "https://localhost:8080/"
        },
        "id": "PX719xp4EYQX",
        "outputId": "06cedd06-27ce-4b5e-8cca-3cde94ff6363"
      },
      "execution_count": 55,
      "outputs": [
        {
          "output_type": "execute_result",
          "data": {
            "text/plain": [
              "tensor([10, 20, 30])"
            ]
          },
          "metadata": {},
          "execution_count": 55
        }
      ]
    },
    {
      "cell_type": "code",
      "source": [
        "# Subtract by 10\n",
        "tensor - 10"
      ],
      "metadata": {
        "colab": {
          "base_uri": "https://localhost:8080/"
        },
        "id": "ahfCBWIMEiYy",
        "outputId": "fb42373c-e223-4f7d-f7df-615411e19d40"
      },
      "execution_count": 56,
      "outputs": [
        {
          "output_type": "execute_result",
          "data": {
            "text/plain": [
              "tensor([-9, -8, -7])"
            ]
          },
          "metadata": {},
          "execution_count": 56
        }
      ]
    },
    {
      "cell_type": "code",
      "source": [
        "# Torch inbuilt functions\n",
        "torch.mul(tensor, 10), torch.add(tensor, 10), torch.sub(tensor, 10)"
      ],
      "metadata": {
        "colab": {
          "base_uri": "https://localhost:8080/"
        },
        "id": "7Lr5KOEREsk9",
        "outputId": "2ceefb57-4af6-4ef2-a15b-d7ba8e9829bc"
      },
      "execution_count": 59,
      "outputs": [
        {
          "output_type": "execute_result",
          "data": {
            "text/plain": [
              "(tensor([10, 20, 30]), tensor([11, 12, 13]), tensor([-9, -8, -7]))"
            ]
          },
          "metadata": {},
          "execution_count": 59
        }
      ]
    },
    {
      "cell_type": "markdown",
      "source": [
        "#### Matrix multiplication"
      ],
      "metadata": {
        "id": "wIYEO7k2Nbu5"
      }
    },
    {
      "cell_type": "code",
      "source": [
        "# Mat mult\n",
        "torch.matmul(float_32_tensor, tensor.type(torch.float32))"
      ],
      "metadata": {
        "colab": {
          "base_uri": "https://localhost:8080/"
        },
        "id": "e8lmFjWSEz9r",
        "outputId": "2d8286a4-f368-4061-ae0a-c5cea7621763"
      },
      "execution_count": 64,
      "outputs": [
        {
          "output_type": "execute_result",
          "data": {
            "text/plain": [
              "tensor(42.)"
            ]
          },
          "metadata": {},
          "execution_count": 64
        }
      ]
    },
    {
      "cell_type": "code",
      "source": [
        "# Another one\n",
        "torch.matmul(torch.rand(size=(4,4)), torch.rand(size=(4,1)))"
      ],
      "metadata": {
        "colab": {
          "base_uri": "https://localhost:8080/"
        },
        "id": "3irYu7NmFE2J",
        "outputId": "d53632ac-2c56-41fd-c71d-06236e8baf50"
      },
      "execution_count": 68,
      "outputs": [
        {
          "output_type": "execute_result",
          "data": {
            "text/plain": [
              "tensor([[0.9462],\n",
              "        [1.0132],\n",
              "        [1.3153],\n",
              "        [0.6183]])"
            ]
          },
          "metadata": {},
          "execution_count": 68
        }
      ]
    },
    {
      "cell_type": "code",
      "source": [
        "# Do the matmul by forloop and see how long the time difference is\n",
        "%%time\n",
        "value = 0\n",
        "for i in range(len(tensor)):\n",
        "  value += tensor[i] * tensor[i]\n",
        "value\n"
      ],
      "metadata": {
        "colab": {
          "base_uri": "https://localhost:8080/"
        },
        "id": "3K7Ege1OGKK9",
        "outputId": "d87be614-ce2e-48e7-9e8f-98ecc6ac4207"
      },
      "execution_count": 71,
      "outputs": [
        {
          "output_type": "stream",
          "name": "stdout",
          "text": [
            "CPU times: user 856 µs, sys: 1 ms, total: 1.86 ms\n",
            "Wall time: 1.57 ms\n"
          ]
        },
        {
          "output_type": "execute_result",
          "data": {
            "text/plain": [
              "tensor(14)"
            ]
          },
          "metadata": {},
          "execution_count": 71
        }
      ]
    },
    {
      "cell_type": "code",
      "source": [
        "# same using matmul\n",
        "%%time\n",
        "torch.matmul(tensor, tensor) # Vectorized version - therefore much faster\n"
      ],
      "metadata": {
        "colab": {
          "base_uri": "https://localhost:8080/"
        },
        "id": "F7uLkKnLLaam",
        "outputId": "c76672c7-d231-4a1e-a952-f49cfb097ee9"
      },
      "execution_count": 72,
      "outputs": [
        {
          "output_type": "stream",
          "name": "stdout",
          "text": [
            "CPU times: user 537 µs, sys: 0 ns, total: 537 µs\n",
            "Wall time: 381 µs\n"
          ]
        },
        {
          "output_type": "execute_result",
          "data": {
            "text/plain": [
              "tensor(14)"
            ]
          },
          "metadata": {},
          "execution_count": 72
        }
      ]
    },
    {
      "cell_type": "code",
      "source": [
        "# One of the common errors is a size mismacth error\n",
        "\n",
        "tensor_A = torch.rand(size=(5,4))\n",
        "torch.mm(tensor_A, tensor_A) # torch.mm is an alias for torch.matmul"
      ],
      "metadata": {
        "colab": {
          "base_uri": "https://localhost:8080/",
          "height": 176
        },
        "id": "IPgl0x22LqY3",
        "outputId": "ec216ce0-d7ce-4461-81c7-3dd27f180b7b"
      },
      "execution_count": 73,
      "outputs": [
        {
          "output_type": "error",
          "ename": "RuntimeError",
          "evalue": "mat1 and mat2 shapes cannot be multiplied (5x4 and 5x4)",
          "traceback": [
            "\u001b[0;31m---------------------------------------------------------------------------\u001b[0m",
            "\u001b[0;31mRuntimeError\u001b[0m                              Traceback (most recent call last)",
            "\u001b[0;32m<ipython-input-73-653518259>\u001b[0m in \u001b[0;36m<cell line: 0>\u001b[0;34m()\u001b[0m\n\u001b[1;32m      2\u001b[0m \u001b[0;34m\u001b[0m\u001b[0m\n\u001b[1;32m      3\u001b[0m \u001b[0mtensor_A\u001b[0m \u001b[0;34m=\u001b[0m \u001b[0mtorch\u001b[0m\u001b[0;34m.\u001b[0m\u001b[0mrand\u001b[0m\u001b[0;34m(\u001b[0m\u001b[0msize\u001b[0m\u001b[0;34m=\u001b[0m\u001b[0;34m(\u001b[0m\u001b[0;36m5\u001b[0m\u001b[0;34m,\u001b[0m\u001b[0;36m4\u001b[0m\u001b[0;34m)\u001b[0m\u001b[0;34m)\u001b[0m\u001b[0;34m\u001b[0m\u001b[0;34m\u001b[0m\u001b[0m\n\u001b[0;32m----> 4\u001b[0;31m \u001b[0mtorch\u001b[0m\u001b[0;34m.\u001b[0m\u001b[0mmm\u001b[0m\u001b[0;34m(\u001b[0m\u001b[0mtensor_A\u001b[0m\u001b[0;34m,\u001b[0m \u001b[0mtensor_A\u001b[0m\u001b[0;34m)\u001b[0m \u001b[0;31m# torch.mm is an alias for torch.matmul\u001b[0m\u001b[0;34m\u001b[0m\u001b[0;34m\u001b[0m\u001b[0m\n\u001b[0m",
            "\u001b[0;31mRuntimeError\u001b[0m: mat1 and mat2 shapes cannot be multiplied (5x4 and 5x4)"
          ]
        }
      ]
    },
    {
      "cell_type": "code",
      "source": [
        "# Transpose - we need to transpose the matrix for this to work\n",
        "torch.mm(tensor_A, tensor_A.T)"
      ],
      "metadata": {
        "id": "bwIXOb_ANwwS",
        "outputId": "b805b690-21d8-4976-969d-2e967e7314b7",
        "colab": {
          "base_uri": "https://localhost:8080/"
        }
      },
      "execution_count": 74,
      "outputs": [
        {
          "output_type": "execute_result",
          "data": {
            "text/plain": [
              "tensor([[0.5776, 0.9577, 0.8314, 1.1441, 0.8169],\n",
              "        [0.9577, 1.7332, 1.3044, 1.8969, 1.3723],\n",
              "        [0.8314, 1.3044, 1.5490, 1.7922, 1.2438],\n",
              "        [1.1441, 1.8969, 1.7922, 2.3343, 1.6562],\n",
              "        [0.8169, 1.3723, 1.2438, 1.6562, 1.1825]])"
            ]
          },
          "metadata": {},
          "execution_count": 74
        }
      ]
    },
    {
      "cell_type": "code",
      "source": [
        "tensor_B = torch.rand(size=(5, 4))\n",
        "tensor_B"
      ],
      "metadata": {
        "id": "x-aSxDl5N7Gg",
        "outputId": "432c6d29-40f9-4918-f9ec-857fa601ad8b",
        "colab": {
          "base_uri": "https://localhost:8080/"
        }
      },
      "execution_count": 76,
      "outputs": [
        {
          "output_type": "execute_result",
          "data": {
            "text/plain": [
              "tensor([[0.1893, 0.9947, 0.0561, 0.2517],\n",
              "        [0.4527, 0.4505, 0.8271, 0.5013],\n",
              "        [0.6903, 0.6950, 0.2834, 0.5624],\n",
              "        [0.2428, 0.1631, 0.5228, 0.7988],\n",
              "        [0.4157, 0.8759, 0.8528, 0.4749]])"
            ]
          },
          "metadata": {},
          "execution_count": 76
        }
      ]
    },
    {
      "cell_type": "code",
      "source": [
        "print(f\"Original shapes: tensor_A = {tensor_A.shape}, tensor_B = {tensor_B.shape}\\n\")\n",
        "print(f\"New shapes: tensor_A = {tensor_A.shape} (same as above), tensor_B.T = {tensor_B.T.shape}\\n\")\n",
        "print(f\"Multiplying: {tensor_A.shape} * {tensor_B.T.shape} <- inner dimensions match\\n\")\n",
        "print(\"Output:\\n\")\n",
        "output = torch.matmul(tensor_A, tensor_B.T)\n",
        "print(output)\n",
        "print(f\"\\nOutput shape: {output.shape}\")"
      ],
      "metadata": {
        "id": "LpYGmU_jOHy4",
        "outputId": "2821d645-eee4-4f27-c6a8-b31c604155fe",
        "colab": {
          "base_uri": "https://localhost:8080/"
        }
      },
      "execution_count": 77,
      "outputs": [
        {
          "output_type": "stream",
          "name": "stdout",
          "text": [
            "Original shapes: tensor_A = torch.Size([5, 4]), tensor_B = torch.Size([5, 4])\n",
            "\n",
            "New shapes: tensor_A = torch.Size([5, 4]) (same as above), tensor_B.T = torch.Size([4, 5])\n",
            "\n",
            "Multiplying: torch.Size([5, 4]) * torch.Size([4, 5]) <- inner dimensions match\n",
            "\n",
            "Output:\n",
            "\n",
            "tensor([[0.4587, 0.7956, 0.8279, 0.6919, 0.8745],\n",
            "        [0.5520, 1.3379, 1.3177, 1.0910, 1.3759],\n",
            "        [1.0370, 1.3779, 1.3339, 0.9972, 1.7030],\n",
            "        [1.0192, 1.6956, 1.6819, 1.3700, 1.9225],\n",
            "        [0.6548, 1.2057, 1.1665, 0.9945, 1.3331]])\n",
            "\n",
            "Output shape: torch.Size([5, 5])\n"
          ]
        }
      ]
    },
    {
      "cell_type": "markdown",
      "source": [
        "#### Aggregation (min, max, mean, sum)"
      ],
      "metadata": {
        "id": "ogPzSmLwPmZv"
      }
    },
    {
      "cell_type": "code",
      "source": [
        "# Create a tensor\n",
        "x = torch.arange(-50, 64, step=0.1)\n",
        "x.shape"
      ],
      "metadata": {
        "id": "_wT2D0x9OMg3",
        "outputId": "e786e873-3aab-4605-c249-170b3e0454fc",
        "colab": {
          "base_uri": "https://localhost:8080/"
        }
      },
      "execution_count": 80,
      "outputs": [
        {
          "output_type": "execute_result",
          "data": {
            "text/plain": [
              "torch.Size([1140])"
            ]
          },
          "metadata": {},
          "execution_count": 80
        }
      ]
    },
    {
      "cell_type": "code",
      "source": [
        "# min\n",
        "torch.min(x), x.min() # Same"
      ],
      "metadata": {
        "id": "kS1fVI1jP7JI",
        "outputId": "65adbf82-d212-4379-bb0e-9c0f5c4baff1",
        "colab": {
          "base_uri": "https://localhost:8080/"
        }
      },
      "execution_count": 82,
      "outputs": [
        {
          "output_type": "execute_result",
          "data": {
            "text/plain": [
              "(tensor(-50.), tensor(-50.))"
            ]
          },
          "metadata": {},
          "execution_count": 82
        }
      ]
    },
    {
      "cell_type": "code",
      "source": [
        "# max\n",
        "x.max()"
      ],
      "metadata": {
        "id": "p_EN4ZSjQCn4",
        "outputId": "a43e4714-6882-4c97-d5ac-146f6ca91900",
        "colab": {
          "base_uri": "https://localhost:8080/"
        }
      },
      "execution_count": 83,
      "outputs": [
        {
          "output_type": "execute_result",
          "data": {
            "text/plain": [
              "tensor(63.9000)"
            ]
          },
          "metadata": {},
          "execution_count": 83
        }
      ]
    },
    {
      "cell_type": "code",
      "source": [
        "# mean\n",
        "x.mean()"
      ],
      "metadata": {
        "id": "jBqVzSRIQKYl",
        "outputId": "3bb53f05-437a-4468-a97c-86592cd03c26",
        "colab": {
          "base_uri": "https://localhost:8080/"
        }
      },
      "execution_count": 84,
      "outputs": [
        {
          "output_type": "execute_result",
          "data": {
            "text/plain": [
              "tensor(6.9500)"
            ]
          },
          "metadata": {},
          "execution_count": 84
        }
      ]
    },
    {
      "cell_type": "code",
      "source": [
        "# median\n",
        "x.median()"
      ],
      "metadata": {
        "id": "IYOS_fcAQO2Q",
        "outputId": "75e975b2-677f-44b4-e051-3bbb14764d73",
        "colab": {
          "base_uri": "https://localhost:8080/"
        }
      },
      "execution_count": 86,
      "outputs": [
        {
          "output_type": "execute_result",
          "data": {
            "text/plain": [
              "tensor(6.9000)"
            ]
          },
          "metadata": {},
          "execution_count": 86
        }
      ]
    },
    {
      "cell_type": "code",
      "source": [
        "# sum\n",
        "torch.sum(x)"
      ],
      "metadata": {
        "id": "nX48PphUQUMG",
        "outputId": "b91c8dec-01eb-4ab5-e359-89c89dfb502e",
        "colab": {
          "base_uri": "https://localhost:8080/"
        }
      },
      "execution_count": 87,
      "outputs": [
        {
          "output_type": "execute_result",
          "data": {
            "text/plain": [
              "tensor(7923.)"
            ]
          },
          "metadata": {},
          "execution_count": 87
        }
      ]
    },
    {
      "cell_type": "code",
      "source": [
        "# argmax and argmin\n",
        "print(f'argmax: {x.argmax()} | x[argmax]: {x[x.argmax()]}')\n",
        "print(f'argmin: {x.argmin()} | x[argmin]: {x[x.argmin()]}')"
      ],
      "metadata": {
        "id": "B1ZiI8M-Qayi",
        "outputId": "af439630-4149-4f35-a311-469c8a9556dd",
        "colab": {
          "base_uri": "https://localhost:8080/"
        }
      },
      "execution_count": 89,
      "outputs": [
        {
          "output_type": "stream",
          "name": "stdout",
          "text": [
            "argmax: 1139 | x[argmax]: 63.900001525878906\n",
            "argmin: 0 | x[argmin]: -50.0\n"
          ]
        }
      ]
    },
    {
      "cell_type": "markdown",
      "source": [
        "#### Reshaping, stacking, squeezing and unsqueezing"
      ],
      "metadata": {
        "id": "yWJpttaMROXT"
      }
    },
    {
      "cell_type": "markdown",
      "source": [
        "Often times you'll want to reshape or change the dimensions of your tensors without actually changing the values inside them.\n",
        "\n",
        "To do so, some popular methods are:\n",
        "\n",
        "| Method | One-line description |\n",
        "| ----- | ----- |\n",
        "| [`torch.reshape(input, shape)`](https://pytorch.org/docs/stable/generated/torch.reshape.html#torch.reshape) | Reshapes `input` to `shape` (if compatible), can also use `torch.Tensor.reshape()`. |\n",
        "| [`Tensor.view(shape)`](https://pytorch.org/docs/stable/generated/torch.Tensor.view.html) | Returns a view of the original tensor in a different `shape` but shares the same data as the original tensor. |\n",
        "| [`torch.stack(tensors, dim=0)`](https://pytorch.org/docs/1.9.1/generated/torch.stack.html) | Concatenates a sequence of `tensors` along a new dimension (`dim`), all `tensors` must be same size. |\n",
        "| [`torch.squeeze(input)`](https://pytorch.org/docs/stable/generated/torch.squeeze.html) | Squeezes `input` to remove all the dimenions with value `1`. |\n",
        "| [`torch.unsqueeze(input, dim)`](https://pytorch.org/docs/1.9.1/generated/torch.unsqueeze.html) | Returns `input` with a dimension value of `1` added at `dim`. |\n",
        "| [`torch.permute(input, dims)`](https://pytorch.org/docs/stable/generated/torch.permute.html) | Returns a *view* of the original `input` with its dimensions permuted (rearranged) to `dims`. |\n",
        "\n",
        "Why do any of these?\n",
        "\n",
        "Because deep learning models (neural networks) are all about manipulating tensors in some way. And because of the rules of matrix multiplication, if you've got shape mismatches, you'll run into errors. These methods help you make sure the right elements of your tensors are mixing with the right elements of other tensors.\n",
        "\n",
        "Let's try them out."
      ],
      "metadata": {
        "id": "GJqm8SPxR8F4"
      }
    },
    {
      "cell_type": "code",
      "source": [
        "# Create a tensor\n",
        "x = torch.arange(1., 8.)\n",
        "x, x.shape, x.ndim"
      ],
      "metadata": {
        "id": "TMgsZTEiQhyq",
        "outputId": "b94e6af4-9cb9-437d-aaca-ef196ee90c78",
        "colab": {
          "base_uri": "https://localhost:8080/"
        }
      },
      "execution_count": 92,
      "outputs": [
        {
          "output_type": "execute_result",
          "data": {
            "text/plain": [
              "(tensor([1., 2., 3., 4., 5., 6., 7.]), torch.Size([7]), 1)"
            ]
          },
          "metadata": {},
          "execution_count": 92
        }
      ]
    },
    {
      "cell_type": "code",
      "source": [
        "# Reshape\n",
        "x_reshaped = x.reshape(1, 7)\n",
        "x_reshaped, x_reshaped.shape, x_reshaped.ndim"
      ],
      "metadata": {
        "id": "-KzAyGxgRra4",
        "outputId": "babe0be2-32f2-47fa-93bb-3ad2c5198c6a",
        "colab": {
          "base_uri": "https://localhost:8080/"
        }
      },
      "execution_count": 93,
      "outputs": [
        {
          "output_type": "execute_result",
          "data": {
            "text/plain": [
              "(tensor([[1., 2., 3., 4., 5., 6., 7.]]), torch.Size([1, 7]), 2)"
            ]
          },
          "metadata": {},
          "execution_count": 93
        }
      ]
    },
    {
      "cell_type": "code",
      "source": [
        "# View\n",
        "z = x.view(7,1)\n",
        "z"
      ],
      "metadata": {
        "id": "-DKPTxhVR0Wm",
        "outputId": "c9275e07-1b3f-4ba9-f143-d17ae7d68648",
        "colab": {
          "base_uri": "https://localhost:8080/"
        }
      },
      "execution_count": 100,
      "outputs": [
        {
          "output_type": "execute_result",
          "data": {
            "text/plain": [
              "tensor([[1.],\n",
              "        [2.],\n",
              "        [3.],\n",
              "        [4.],\n",
              "        [5.],\n",
              "        [6.],\n",
              "        [7.]])"
            ]
          },
          "metadata": {},
          "execution_count": 100
        }
      ]
    },
    {
      "cell_type": "code",
      "source": [
        "z[4,0] = 10\n",
        "z, x"
      ],
      "metadata": {
        "id": "-VPVsbdqSSJ0",
        "outputId": "5f558876-a4cc-4312-abbb-dc5572a0424e",
        "colab": {
          "base_uri": "https://localhost:8080/"
        }
      },
      "execution_count": 105,
      "outputs": [
        {
          "output_type": "execute_result",
          "data": {
            "text/plain": [
              "(tensor([[ 1.],\n",
              "         [ 2.],\n",
              "         [ 3.],\n",
              "         [ 4.],\n",
              "         [10.],\n",
              "         [ 6.],\n",
              "         [ 7.]]),\n",
              " tensor([ 1.,  2.,  3.,  4., 10.,  6.,  7.]))"
            ]
          },
          "metadata": {},
          "execution_count": 105
        }
      ]
    },
    {
      "cell_type": "markdown",
      "source": [
        "This changed both z and x since z is a view of x (shares memory)"
      ],
      "metadata": {
        "id": "rsWlWMitTW-D"
      }
    },
    {
      "cell_type": "code",
      "source": [
        "# Stack\n",
        "\n",
        "x_vstacked = torch.stack([x, x, x, x], dim=0)\n",
        "x_vstacked"
      ],
      "metadata": {
        "id": "JnQ90NYHTK8n",
        "outputId": "adddae0d-bb36-4889-c639-f43e4f6eb9cb",
        "colab": {
          "base_uri": "https://localhost:8080/"
        }
      },
      "execution_count": 107,
      "outputs": [
        {
          "output_type": "execute_result",
          "data": {
            "text/plain": [
              "tensor([[ 1.,  2.,  3.,  4., 10.,  6.,  7.],\n",
              "        [ 1.,  2.,  3.,  4., 10.,  6.,  7.],\n",
              "        [ 1.,  2.,  3.,  4., 10.,  6.,  7.],\n",
              "        [ 1.,  2.,  3.,  4., 10.,  6.,  7.]])"
            ]
          },
          "metadata": {},
          "execution_count": 107
        }
      ]
    },
    {
      "cell_type": "code",
      "source": [
        "# same as vstack function\n",
        "x_vstacked = torch.vstack([x, x, x, x])\n",
        "x_vstacked"
      ],
      "metadata": {
        "id": "Zj_dDdABT102",
        "outputId": "0d0beb50-2fa2-4dd3-8a2c-7809e96718bc",
        "colab": {
          "base_uri": "https://localhost:8080/"
        }
      },
      "execution_count": 109,
      "outputs": [
        {
          "output_type": "execute_result",
          "data": {
            "text/plain": [
              "tensor([[ 1.,  2.,  3.,  4., 10.,  6.,  7.],\n",
              "        [ 1.,  2.,  3.,  4., 10.,  6.,  7.],\n",
              "        [ 1.,  2.,  3.,  4., 10.,  6.,  7.],\n",
              "        [ 1.,  2.,  3.,  4., 10.,  6.,  7.]])"
            ]
          },
          "metadata": {},
          "execution_count": 109
        }
      ]
    },
    {
      "cell_type": "code",
      "source": [
        "x_hstacked = torch.stack([x, x, x, x], dim=1)\n",
        "x_hstacked.shape"
      ],
      "metadata": {
        "id": "jXVwHW5FTg0u",
        "outputId": "763cc403-7079-48e5-dbb8-180bd0a256b7",
        "colab": {
          "base_uri": "https://localhost:8080/"
        }
      },
      "execution_count": 121,
      "outputs": [
        {
          "output_type": "execute_result",
          "data": {
            "text/plain": [
              "torch.Size([7, 4])"
            ]
          },
          "metadata": {},
          "execution_count": 121
        }
      ]
    },
    {
      "cell_type": "code",
      "source": [
        "# Same as hstack?? - not really\n",
        "x_hstacked = torch.hstack((x, x, x, x))\n",
        "x_hstacked.shape"
      ],
      "metadata": {
        "id": "z4hE4-vGUQxo",
        "outputId": "88f61ceb-32f2-40c7-8be9-d88291fae310",
        "colab": {
          "base_uri": "https://localhost:8080/"
        }
      },
      "execution_count": 119,
      "outputs": [
        {
          "output_type": "execute_result",
          "data": {
            "text/plain": [
              "torch.Size([28])"
            ]
          },
          "metadata": {},
          "execution_count": 119
        }
      ]
    },
    {
      "cell_type": "markdown",
      "source": [
        "* torch.stack(..., dim=1) creates a new dimension and places the input tensors along it.\n",
        "\n",
        "* torch.hstack(...) for 1D tensors, concatenates them into a single longer 1D tensor."
      ],
      "metadata": {
        "id": "TYCms5HCVV-M"
      }
    },
    {
      "cell_type": "code",
      "source": [
        "# Squeeze\n",
        "y = torch.rand(size=(8,1))\n",
        "print(f'Shape before squeeze: {y.shape}')\n",
        "y = y.squeeze()\n",
        "print(f'Shape after squeeze: {y.shape}')\n"
      ],
      "metadata": {
        "id": "Cil7BovmUmNb",
        "outputId": "d4c3179f-38c6-4909-ec05-e0e7224f3450",
        "colab": {
          "base_uri": "https://localhost:8080/"
        }
      },
      "execution_count": 125,
      "outputs": [
        {
          "output_type": "stream",
          "name": "stdout",
          "text": [
            "Shape before squeeze: torch.Size([8, 1])\n",
            "Shape after squeeze: torch.Size([8])\n"
          ]
        }
      ]
    },
    {
      "cell_type": "code",
      "source": [
        "# Unsqueeze\n",
        "y_unsqueezed = y.unsqueeze(dim=0)\n",
        "print(f'Shape after unsqueeze: {y_unsqueezed.shape}')"
      ],
      "metadata": {
        "id": "YFQFFANEeLhd",
        "outputId": "11707e0c-47f9-4f76-df80-b0bfdac0ef66",
        "colab": {
          "base_uri": "https://localhost:8080/"
        }
      },
      "execution_count": 126,
      "outputs": [
        {
          "output_type": "stream",
          "name": "stdout",
          "text": [
            "Shape after unsqueeze: torch.Size([1, 8])\n"
          ]
        }
      ]
    },
    {
      "cell_type": "code",
      "source": [
        "y_unsqueezed = y.unsqueeze(dim=1) # Different dim\n",
        "print(f'Shape after unsqueeze: {y_unsqueezed.shape}')"
      ],
      "metadata": {
        "id": "O8-9PDKpef-T",
        "outputId": "29f83273-4583-4fb7-b1bb-c2bb542e30c9",
        "colab": {
          "base_uri": "https://localhost:8080/"
        }
      },
      "execution_count": 127,
      "outputs": [
        {
          "output_type": "stream",
          "name": "stdout",
          "text": [
            "Shape after unsqueeze: torch.Size([8, 1])\n"
          ]
        }
      ]
    },
    {
      "cell_type": "code",
      "source": [
        "# Permute - fancy word for rearrange\n",
        "x = torch.rand(size=(10, 20, 3))\n",
        "x_permuted = x.permute(2, 0, 1)\n",
        "print(f'Shape before permute: {x.shape}')\n",
        "print(f'Shape after permute: {x_permuted.shape}') # Keep in mind - x_permuted is a view of x - so changes to permuted will affect x"
      ],
      "metadata": {
        "id": "_g05T_tGekCp",
        "outputId": "1a05dcca-0e94-4332-96e5-11c6d8cdc10d",
        "colab": {
          "base_uri": "https://localhost:8080/"
        }
      },
      "execution_count": 134,
      "outputs": [
        {
          "output_type": "stream",
          "name": "stdout",
          "text": [
            "Shape before permute: torch.Size([10, 20, 3])\n",
            "Shape after permute: torch.Size([3, 10, 20])\n"
          ]
        }
      ]
    },
    {
      "cell_type": "markdown",
      "source": [
        "In this case, the original tensor x has shape (10, 20, 3). By calling x.permute(2, 0, 1), you are telling PyTorch to put the dimension at index 2 (size 3) at the first position (index 0), the dimension at index 0 (size 10) at the second position (index 1), and the dimension at index 1 (size 20) at the third position (index 2). This results in a new shape of (3, 10, 20).\n",
        "\n",
        "\n",
        "\n"
      ],
      "metadata": {
        "id": "7VfcORbIgWH3"
      }
    },
    {
      "cell_type": "markdown",
      "source": [
        "### Indexing"
      ],
      "metadata": {
        "id": "A2J-fafWglvj"
      }
    },
    {
      "cell_type": "code",
      "source": [
        "# create a tensor\n",
        "x = torch.arange(1, 10).reshape(1, 3, 3)\n",
        "x, x.shape"
      ],
      "metadata": {
        "id": "ebICWPW7fSHF",
        "outputId": "98181adc-7f4f-41a1-aeb4-c0273a5dd227",
        "colab": {
          "base_uri": "https://localhost:8080/"
        }
      },
      "execution_count": 136,
      "outputs": [
        {
          "output_type": "execute_result",
          "data": {
            "text/plain": [
              "(tensor([[[1, 2, 3],\n",
              "          [4, 5, 6],\n",
              "          [7, 8, 9]]]),\n",
              " torch.Size([1, 3, 3]))"
            ]
          },
          "metadata": {},
          "execution_count": 136
        }
      ]
    },
    {
      "cell_type": "code",
      "source": [
        "x[0], x[0].shape"
      ],
      "metadata": {
        "id": "Plxe9DLIiEvE",
        "outputId": "d82d6675-85a1-44f8-866a-b7ce6e7e7b98",
        "colab": {
          "base_uri": "https://localhost:8080/"
        }
      },
      "execution_count": 138,
      "outputs": [
        {
          "output_type": "execute_result",
          "data": {
            "text/plain": [
              "(tensor([[1, 2, 3],\n",
              "         [4, 5, 6],\n",
              "         [7, 8, 9]]),\n",
              " torch.Size([3, 3]))"
            ]
          },
          "metadata": {},
          "execution_count": 138
        }
      ]
    },
    {
      "cell_type": "code",
      "source": [
        "# Now on middle bracket (dim=1)\n",
        "x[0][0], x[0][0].shape"
      ],
      "metadata": {
        "id": "h5a-KXmwiRP4",
        "outputId": "4f968d0c-2cf8-4c49-d00e-d8d8eb4a39f0",
        "colab": {
          "base_uri": "https://localhost:8080/"
        }
      },
      "execution_count": 139,
      "outputs": [
        {
          "output_type": "execute_result",
          "data": {
            "text/plain": [
              "(tensor([1, 2, 3]), torch.Size([3]))"
            ]
          },
          "metadata": {},
          "execution_count": 139
        }
      ]
    },
    {
      "cell_type": "code",
      "source": [
        "# dim=2\n",
        "x[0][0][0]"
      ],
      "metadata": {
        "id": "PoxhV5sSicVi",
        "outputId": "defb1106-d793-4e63-d4b1-6de6cdb641dc",
        "colab": {
          "base_uri": "https://localhost:8080/"
        }
      },
      "execution_count": 140,
      "outputs": [
        {
          "output_type": "execute_result",
          "data": {
            "text/plain": [
              "tensor(1)"
            ]
          },
          "metadata": {},
          "execution_count": 140
        }
      ]
    },
    {
      "cell_type": "code",
      "source": [
        "x[0,0,0] # Same"
      ],
      "metadata": {
        "id": "awGZda7ziy6b",
        "outputId": "af52f0f8-9eea-44ea-95ed-697886a6818a",
        "colab": {
          "base_uri": "https://localhost:8080/"
        }
      },
      "execution_count": 142,
      "outputs": [
        {
          "output_type": "execute_result",
          "data": {
            "text/plain": [
              "tensor(1)"
            ]
          },
          "metadata": {},
          "execution_count": 142
        }
      ]
    },
    {
      "cell_type": "markdown",
      "source": [],
      "metadata": {
        "id": "2tz_b7KljKwl"
      }
    },
    {
      "cell_type": "markdown",
      "source": [
        "#### Slicing"
      ],
      "metadata": {
        "id": "CQ6cFnWTjN8S"
      }
    },
    {
      "cell_type": "code",
      "source": [
        "# Get all values of 0th dimension and the 0 index of 1st dimension\n",
        "x[:, 0]"
      ],
      "metadata": {
        "id": "Vke3vfkcjHRT",
        "outputId": "ad8134be-152b-4c42-c09a-5d6696514934",
        "colab": {
          "base_uri": "https://localhost:8080/"
        }
      },
      "execution_count": 144,
      "outputs": [
        {
          "output_type": "execute_result",
          "data": {
            "text/plain": [
              "tensor([[1, 2, 3]])"
            ]
          },
          "metadata": {},
          "execution_count": 144
        }
      ]
    },
    {
      "cell_type": "code",
      "source": [
        "x[:, :, 0]"
      ],
      "metadata": {
        "id": "nOGG24k1jZyW",
        "outputId": "dd8c7ce4-b935-4076-804f-76ed2fb32b01",
        "colab": {
          "base_uri": "https://localhost:8080/"
        }
      },
      "execution_count": 145,
      "outputs": [
        {
          "output_type": "execute_result",
          "data": {
            "text/plain": [
              "tensor([[1, 4, 7]])"
            ]
          },
          "metadata": {},
          "execution_count": 145
        }
      ]
    },
    {
      "cell_type": "code",
      "source": [
        "x[0,:,:]"
      ],
      "metadata": {
        "id": "zgOuu1bVjdJd",
        "outputId": "803bbd21-3103-4d43-c08c-8018af7ce0ff",
        "colab": {
          "base_uri": "https://localhost:8080/"
        }
      },
      "execution_count": 146,
      "outputs": [
        {
          "output_type": "execute_result",
          "data": {
            "text/plain": [
              "tensor([[1, 2, 3],\n",
              "        [4, 5, 6],\n",
              "        [7, 8, 9]])"
            ]
          },
          "metadata": {},
          "execution_count": 146
        }
      ]
    },
    {
      "cell_type": "code",
      "source": [
        "x[:]"
      ],
      "metadata": {
        "id": "ur74s2JVjid4",
        "outputId": "b0b08209-77e8-4a98-c73a-93375798c34b",
        "colab": {
          "base_uri": "https://localhost:8080/"
        }
      },
      "execution_count": 147,
      "outputs": [
        {
          "output_type": "execute_result",
          "data": {
            "text/plain": [
              "tensor([[[1, 2, 3],\n",
              "         [4, 5, 6],\n",
              "         [7, 8, 9]]])"
            ]
          },
          "metadata": {},
          "execution_count": 147
        }
      ]
    },
    {
      "cell_type": "code",
      "source": [
        "x[:,0,:].squeeze()"
      ],
      "metadata": {
        "id": "6D39LdV0jjzh",
        "outputId": "39234899-07e1-45eb-d5ec-f24910ffa266",
        "colab": {
          "base_uri": "https://localhost:8080/"
        }
      },
      "execution_count": 149,
      "outputs": [
        {
          "output_type": "execute_result",
          "data": {
            "text/plain": [
              "tensor([1, 2, 3])"
            ]
          },
          "metadata": {},
          "execution_count": 149
        }
      ]
    },
    {
      "cell_type": "code",
      "source": [
        "x[0][:][1:]"
      ],
      "metadata": {
        "id": "nRU6GFpEjqWW",
        "outputId": "c22b8bb3-6331-48bf-c571-7b992fdd9832",
        "colab": {
          "base_uri": "https://localhost:8080/"
        }
      },
      "execution_count": 154,
      "outputs": [
        {
          "output_type": "execute_result",
          "data": {
            "text/plain": [
              "tensor([[4, 5, 6],\n",
              "        [7, 8, 9]])"
            ]
          },
          "metadata": {},
          "execution_count": 154
        }
      ]
    },
    {
      "cell_type": "markdown",
      "source": [
        "### PyTorch and NumPy"
      ],
      "metadata": {
        "id": "WIXaCrlIkXqI"
      }
    },
    {
      "cell_type": "code",
      "source": [
        "array = np.arange(1,20, dtype=np.float32)\n",
        "array"
      ],
      "metadata": {
        "id": "FwtGlqGskBr8",
        "outputId": "b29154f1-a0a8-462a-a5c9-f45f7f713dc3",
        "colab": {
          "base_uri": "https://localhost:8080/"
        }
      },
      "execution_count": 156,
      "outputs": [
        {
          "output_type": "execute_result",
          "data": {
            "text/plain": [
              "array([ 1.,  2.,  3.,  4.,  5.,  6.,  7.,  8.,  9., 10., 11., 12., 13.,\n",
              "       14., 15., 16., 17., 18., 19.], dtype=float32)"
            ]
          },
          "metadata": {},
          "execution_count": 156
        }
      ]
    },
    {
      "cell_type": "code",
      "source": [
        "tensor = torch.from_numpy(array)\n",
        "tensor"
      ],
      "metadata": {
        "id": "BSt-DztpknEe",
        "outputId": "6c614f2e-1588-426a-b557-809347412165",
        "colab": {
          "base_uri": "https://localhost:8080/"
        }
      },
      "execution_count": 161,
      "outputs": [
        {
          "output_type": "execute_result",
          "data": {
            "text/plain": [
              "tensor([ 1.,  2.,  3.,  4.,  5.,  6.,  7.,  8.,  9., 10., 11., 12., 13., 14.,\n",
              "        15., 16., 17., 18., 19.])"
            ]
          },
          "metadata": {},
          "execution_count": 161
        }
      ]
    },
    {
      "cell_type": "code",
      "source": [
        "# Changes to numpy array doesn't affect tensor\n",
        "array = array + 2\n",
        "array, tensor"
      ],
      "metadata": {
        "id": "sZM1qtwhkywi",
        "outputId": "01d2436a-b1f4-4e6d-ab65-278e415f4e59",
        "colab": {
          "base_uri": "https://localhost:8080/"
        }
      },
      "execution_count": 163,
      "outputs": [
        {
          "output_type": "execute_result",
          "data": {
            "text/plain": [
              "(array([ 5.,  6.,  7.,  8.,  9., 10., 11., 12., 13., 14., 15., 16., 17.,\n",
              "        18., 19., 20., 21., 22., 23.], dtype=float32),\n",
              " tensor([ 1.,  2.,  3.,  4.,  5.,  6.,  7.,  8.,  9., 10., 11., 12., 13., 14.,\n",
              "         15., 16., 17., 18., 19.]))"
            ]
          },
          "metadata": {},
          "execution_count": 163
        }
      ]
    },
    {
      "cell_type": "code",
      "source": [
        "numpy_tensor = tensor.numpy()\n",
        "numpy_tensor"
      ],
      "metadata": {
        "id": "1ZC8iC8AlPCV",
        "outputId": "326d4f08-e84d-40f1-ec4c-4f186c3a19b4",
        "colab": {
          "base_uri": "https://localhost:8080/"
        }
      },
      "execution_count": 164,
      "outputs": [
        {
          "output_type": "execute_result",
          "data": {
            "text/plain": [
              "array([ 1.,  2.,  3.,  4.,  5.,  6.,  7.,  8.,  9., 10., 11., 12., 13.,\n",
              "       14., 15., 16., 17., 18., 19.], dtype=float32)"
            ]
          },
          "metadata": {},
          "execution_count": 164
        }
      ]
    },
    {
      "cell_type": "code",
      "source": [
        "!nvidia-smi"
      ],
      "metadata": {
        "id": "_fVcGUyHlbpu",
        "outputId": "fca030fd-6eb0-4563-eb28-17ede1bd6185",
        "colab": {
          "base_uri": "https://localhost:8080/"
        }
      },
      "execution_count": 165,
      "outputs": [
        {
          "output_type": "stream",
          "name": "stdout",
          "text": [
            "/bin/bash: line 1: nvidia-smi: command not found\n"
          ]
        }
      ]
    },
    {
      "cell_type": "code",
      "source": [],
      "metadata": {
        "id": "InnagrQmmUeW"
      },
      "execution_count": null,
      "outputs": []
    }
  ]
}