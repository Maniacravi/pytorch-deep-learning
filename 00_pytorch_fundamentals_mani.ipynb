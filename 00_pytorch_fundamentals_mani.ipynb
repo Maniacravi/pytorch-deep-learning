{
  "nbformat": 4,
  "nbformat_minor": 0,
  "metadata": {
    "colab": {
      "provenance": [],
      "authorship_tag": "ABX9TyMQ4micIfDYDFpY/c9P/Mfq",
      "include_colab_link": true
    },
    "kernelspec": {
      "name": "python3",
      "display_name": "Python 3"
    },
    "language_info": {
      "name": "python"
    }
  },
  "cells": [
    {
      "cell_type": "markdown",
      "metadata": {
        "id": "view-in-github",
        "colab_type": "text"
      },
      "source": [
        "<a href=\"https://colab.research.google.com/github/Maniacravi/pytorch-deep-learning/blob/main/00_pytorch_fundamentals_mani.ipynb\" target=\"_parent\"><img src=\"https://colab.research.google.com/assets/colab-badge.svg\" alt=\"Open In Colab\"/></a>"
      ]
    },
    {
      "cell_type": "markdown",
      "source": [
        "# PyTorch Fundamentals"
      ],
      "metadata": {
        "id": "Wqlo7wdRd4kn"
      }
    },
    {
      "cell_type": "markdown",
      "source": [
        "My code along for the first section"
      ],
      "metadata": {
        "id": "EjFX3laWd3Ud"
      }
    },
    {
      "cell_type": "markdown",
      "source": [
        "## Import statements\n"
      ],
      "metadata": {
        "id": "QyiajRx-dkHa"
      }
    },
    {
      "cell_type": "code",
      "source": [
        "import torch\n",
        "import pandas as pd\n",
        "import numpy as np\n",
        "import matplotlib.pyplot as plt\n",
        "print(torch.__version__)"
      ],
      "metadata": {
        "id": "nOBhQlgndVUD",
        "outputId": "f33b0ab4-decb-4d8a-c1f4-50c51dbd70bb",
        "colab": {
          "base_uri": "https://localhost:8080/"
        }
      },
      "execution_count": 3,
      "outputs": [
        {
          "output_type": "stream",
          "name": "stdout",
          "text": [
            "2.6.0+cu124\n"
          ]
        }
      ]
    },
    {
      "cell_type": "markdown",
      "source": [
        "## Tensors"
      ],
      "metadata": {
        "id": "y2tT39wfdytZ"
      }
    },
    {
      "cell_type": "markdown",
      "source": [
        "### Intro"
      ],
      "metadata": {
        "id": "Hj50hJdzeyM9"
      }
    },
    {
      "cell_type": "markdown",
      "source": [
        "#### Scalars"
      ],
      "metadata": {
        "id": "HYrBEqIogK0O"
      }
    },
    {
      "cell_type": "code",
      "source": [
        "scalar = torch.tensor(9)\n",
        "scalar"
      ],
      "metadata": {
        "id": "gxizI1qQfCRV",
        "outputId": "25a8a4a8-8b56-4ac9-bd1c-7407b5f0508a",
        "colab": {
          "base_uri": "https://localhost:8080/"
        }
      },
      "execution_count": 15,
      "outputs": [
        {
          "output_type": "execute_result",
          "data": {
            "text/plain": [
              "tensor(9)"
            ]
          },
          "metadata": {},
          "execution_count": 15
        }
      ]
    },
    {
      "cell_type": "code",
      "source": [
        "scalar.ndim"
      ],
      "metadata": {
        "id": "-4s2HtHdfJt0",
        "outputId": "aa2f8c67-badc-4210-c76f-da3abf03cf7b",
        "colab": {
          "base_uri": "https://localhost:8080/"
        }
      },
      "execution_count": 13,
      "outputs": [
        {
          "output_type": "execute_result",
          "data": {
            "text/plain": [
              "0"
            ]
          },
          "metadata": {},
          "execution_count": 13
        }
      ]
    },
    {
      "cell_type": "code",
      "source": [
        "# Get tensor back as Python int\n",
        "scalar.item()"
      ],
      "metadata": {
        "id": "9lQSi43Hf2VZ",
        "outputId": "43d9de79-f1e3-41b7-d46a-ed1f5d2b305d",
        "colab": {
          "base_uri": "https://localhost:8080/"
        }
      },
      "execution_count": 25,
      "outputs": [
        {
          "output_type": "execute_result",
          "data": {
            "text/plain": [
              "9"
            ]
          },
          "metadata": {},
          "execution_count": 25
        }
      ]
    },
    {
      "cell_type": "code",
      "source": [
        "scalar.shape"
      ],
      "metadata": {
        "id": "eeUwxbLjgsAF",
        "outputId": "9babab9b-4734-4ec9-b39f-e3decf5f5009",
        "colab": {
          "base_uri": "https://localhost:8080/"
        }
      },
      "execution_count": 26,
      "outputs": [
        {
          "output_type": "execute_result",
          "data": {
            "text/plain": [
              "torch.Size([])"
            ]
          },
          "metadata": {},
          "execution_count": 26
        }
      ]
    },
    {
      "cell_type": "markdown",
      "source": [
        "#### Vectors"
      ],
      "metadata": {
        "id": "Rlt11ZMXgAFL"
      }
    },
    {
      "cell_type": "code",
      "source": [
        "vector = torch.tensor([9, 9, 9])\n",
        "vector"
      ],
      "metadata": {
        "id": "hfcgWYnWgPVN",
        "outputId": "87b64bf1-a96d-46f2-c91d-41b9e0f574fd",
        "colab": {
          "base_uri": "https://localhost:8080/"
        }
      },
      "execution_count": 30,
      "outputs": [
        {
          "output_type": "execute_result",
          "data": {
            "text/plain": [
              "tensor([9, 9, 9])"
            ]
          },
          "metadata": {},
          "execution_count": 30
        }
      ]
    },
    {
      "cell_type": "code",
      "source": [
        "vector.ndim"
      ],
      "metadata": {
        "id": "-dLLdmptgUdT",
        "outputId": "4bc4e86e-a5f6-4eab-c695-3c47e1c9ac0e",
        "colab": {
          "base_uri": "https://localhost:8080/"
        }
      },
      "execution_count": 31,
      "outputs": [
        {
          "output_type": "execute_result",
          "data": {
            "text/plain": [
              "1"
            ]
          },
          "metadata": {},
          "execution_count": 31
        }
      ]
    },
    {
      "cell_type": "code",
      "source": [
        "vector.shape"
      ],
      "metadata": {
        "id": "ogJEhICTgZBY",
        "outputId": "04a80478-829d-48af-d417-90ac9501d74f",
        "colab": {
          "base_uri": "https://localhost:8080/"
        }
      },
      "execution_count": 32,
      "outputs": [
        {
          "output_type": "execute_result",
          "data": {
            "text/plain": [
              "torch.Size([3])"
            ]
          },
          "metadata": {},
          "execution_count": 32
        }
      ]
    },
    {
      "cell_type": "markdown",
      "source": [
        "#### MATRIX"
      ],
      "metadata": {
        "id": "iAcInYBAgxTs"
      }
    },
    {
      "cell_type": "code",
      "source": [
        "MATRIX = torch.tensor([[9, 9],\n",
        "                       [10, 11]])\n",
        "MATRIX"
      ],
      "metadata": {
        "id": "FYeWcpN8gmai",
        "outputId": "818b8bc1-3bc2-47b8-9b84-3696b83d21d4",
        "colab": {
          "base_uri": "https://localhost:8080/"
        }
      },
      "execution_count": 34,
      "outputs": [
        {
          "output_type": "execute_result",
          "data": {
            "text/plain": [
              "tensor([[ 9,  9],\n",
              "        [10, 11]])"
            ]
          },
          "metadata": {},
          "execution_count": 34
        }
      ]
    },
    {
      "cell_type": "code",
      "source": [
        "MATRIX.ndim"
      ],
      "metadata": {
        "id": "QPX2qKzxg_53",
        "outputId": "1d198f6a-4d26-4c2b-e99e-987184e0e1c1",
        "colab": {
          "base_uri": "https://localhost:8080/"
        }
      },
      "execution_count": 28,
      "outputs": [
        {
          "output_type": "execute_result",
          "data": {
            "text/plain": [
              "2"
            ]
          },
          "metadata": {},
          "execution_count": 28
        }
      ]
    },
    {
      "cell_type": "code",
      "source": [
        "MATRIX.shape"
      ],
      "metadata": {
        "id": "f533td7AhC9d",
        "outputId": "f0f9b70c-c757-47c4-f836-49f89d826a39",
        "colab": {
          "base_uri": "https://localhost:8080/"
        }
      },
      "execution_count": 29,
      "outputs": [
        {
          "output_type": "execute_result",
          "data": {
            "text/plain": [
              "torch.Size([2, 2])"
            ]
          },
          "metadata": {},
          "execution_count": 29
        }
      ]
    },
    {
      "cell_type": "code",
      "source": [
        "# slicing\n",
        "\n",
        "MATRIX[0]"
      ],
      "metadata": {
        "id": "BXFQtlJqhGIb",
        "outputId": "c09e5f68-18b7-41b4-d1f6-919e0d46e1bc",
        "colab": {
          "base_uri": "https://localhost:8080/"
        }
      },
      "execution_count": 35,
      "outputs": [
        {
          "output_type": "execute_result",
          "data": {
            "text/plain": [
              "tensor([9, 9])"
            ]
          },
          "metadata": {},
          "execution_count": 35
        }
      ]
    },
    {
      "cell_type": "code",
      "source": [
        "MATRIX[1, 0]"
      ],
      "metadata": {
        "id": "iALVl0AqhQSn",
        "outputId": "8a877edc-5611-4d02-90d8-75f0fdf1b74f",
        "colab": {
          "base_uri": "https://localhost:8080/"
        }
      },
      "execution_count": 39,
      "outputs": [
        {
          "output_type": "execute_result",
          "data": {
            "text/plain": [
              "tensor(10)"
            ]
          },
          "metadata": {},
          "execution_count": 39
        }
      ]
    },
    {
      "cell_type": "markdown",
      "source": [
        "#### TENSOR"
      ],
      "metadata": {
        "id": "JQ3LL5UKh8_T"
      }
    },
    {
      "cell_type": "code",
      "source": [
        "TENSOR = torch.tensor([[[1, 2, 3],\n",
        "                        [4, 5, 6],\n",
        "                        [7, 8, 9]]])\n",
        "TENSOR"
      ],
      "metadata": {
        "id": "qejCL3Qshaeq",
        "outputId": "0a1ab609-cdb9-4fa2-a346-9cd23638b1ef",
        "colab": {
          "base_uri": "https://localhost:8080/"
        }
      },
      "execution_count": 54,
      "outputs": [
        {
          "output_type": "execute_result",
          "data": {
            "text/plain": [
              "tensor([[[1, 2, 3],\n",
              "         [4, 5, 6],\n",
              "         [7, 8, 9]]])"
            ]
          },
          "metadata": {},
          "execution_count": 54
        }
      ]
    },
    {
      "cell_type": "code",
      "source": [
        "TENSOR.ndim"
      ],
      "metadata": {
        "id": "L8MKWBv9iEz3",
        "outputId": "b0496645-f790-4c8d-b6e9-77323102a0d8",
        "colab": {
          "base_uri": "https://localhost:8080/"
        }
      },
      "execution_count": 55,
      "outputs": [
        {
          "output_type": "execute_result",
          "data": {
            "text/plain": [
              "3"
            ]
          },
          "metadata": {},
          "execution_count": 55
        }
      ]
    },
    {
      "cell_type": "code",
      "source": [
        "TENSOR.shape"
      ],
      "metadata": {
        "id": "cyXTZ7D5iNKi",
        "outputId": "4036d42d-600b-4993-e2ee-39bc984b4538",
        "colab": {
          "base_uri": "https://localhost:8080/"
        }
      },
      "execution_count": 56,
      "outputs": [
        {
          "output_type": "execute_result",
          "data": {
            "text/plain": [
              "torch.Size([1, 3, 3])"
            ]
          },
          "metadata": {},
          "execution_count": 56
        }
      ]
    },
    {
      "cell_type": "code",
      "source": [
        "TENSOR[0]"
      ],
      "metadata": {
        "id": "vXk1k5PoiOaB",
        "outputId": "88b75196-e225-4d74-e79d-4afbd32858f9",
        "colab": {
          "base_uri": "https://localhost:8080/"
        }
      },
      "execution_count": 53,
      "outputs": [
        {
          "output_type": "execute_result",
          "data": {
            "text/plain": [
              "tensor([[1, 2, 3],\n",
              "        [4, 5, 6],\n",
              "        [7, 8, 9]])"
            ]
          },
          "metadata": {},
          "execution_count": 53
        }
      ]
    },
    {
      "cell_type": "code",
      "source": [],
      "metadata": {
        "id": "9F2XK58Ai0j4"
      },
      "execution_count": null,
      "outputs": []
    },
    {
      "cell_type": "markdown",
      "source": [
        "### Creating Tensors"
      ],
      "metadata": {
        "id": "h3zANG6wjkW7"
      }
    },
    {
      "cell_type": "markdown",
      "source": [
        "#### Random Tensors"
      ],
      "metadata": {
        "id": "HRnnoaTqjoPW"
      }
    },
    {
      "cell_type": "markdown",
      "source": [
        "Creating random tensors because they are the most usual way to create tensors in code"
      ],
      "metadata": {
        "id": "6eihPSzkkK0O"
      }
    },
    {
      "cell_type": "code",
      "source": [
        "# Create a random tensor\n",
        "\n",
        "random_tensor = torch.rand(3, 4, 6)\n",
        "random_tensor\n"
      ],
      "metadata": {
        "id": "l600AFE6kTeB",
        "outputId": "fc5c51d2-604e-4893-a9c8-f31bd870a1d9",
        "colab": {
          "base_uri": "https://localhost:8080/"
        }
      },
      "execution_count": 60,
      "outputs": [
        {
          "output_type": "execute_result",
          "data": {
            "text/plain": [
              "tensor([[[2.8774e-01, 1.6719e-01, 2.1923e-01, 4.5158e-01, 1.5019e-01,\n",
              "          1.3369e-01],\n",
              "         [7.6795e-01, 4.8574e-02, 9.6945e-01, 6.0431e-01, 9.8641e-01,\n",
              "          1.4909e-01],\n",
              "         [8.8706e-02, 3.9097e-01, 9.0002e-01, 8.7881e-01, 4.3701e-01,\n",
              "          3.5007e-01],\n",
              "         [7.1766e-01, 9.6372e-01, 3.6624e-01, 7.7079e-01, 8.2822e-01,\n",
              "          4.6814e-02]],\n",
              "\n",
              "        [[5.2748e-01, 4.4555e-01, 9.1015e-01, 9.5338e-01, 4.7744e-01,\n",
              "          4.1752e-01],\n",
              "         [9.8843e-01, 3.2321e-01, 9.8473e-01, 5.0751e-01, 8.1749e-01,\n",
              "          9.2989e-01],\n",
              "         [7.1118e-01, 1.7821e-01, 2.0323e-01, 1.1992e-04, 4.5049e-01,\n",
              "          1.9435e-01],\n",
              "         [7.7049e-01, 2.8943e-01, 6.7728e-01, 8.7415e-01, 4.1273e-01,\n",
              "          5.1393e-01]],\n",
              "\n",
              "        [[4.4091e-01, 1.1703e-01, 9.7336e-01, 8.1648e-01, 8.2113e-01,\n",
              "          1.1825e-01],\n",
              "         [5.9717e-01, 1.1994e-01, 9.4069e-02, 8.2299e-01, 4.5935e-01,\n",
              "          8.5222e-01],\n",
              "         [4.0503e-01, 7.7352e-01, 9.9674e-01, 3.9497e-01, 4.3318e-01,\n",
              "          7.2714e-01],\n",
              "         [8.2384e-02, 1.1892e-02, 9.1391e-01, 7.8031e-01, 4.6868e-01,\n",
              "          3.4371e-01]]])"
            ]
          },
          "metadata": {},
          "execution_count": 60
        }
      ]
    },
    {
      "cell_type": "code",
      "source": [
        "random_tensor.shape"
      ],
      "metadata": {
        "id": "wQDoilLHkh_C",
        "outputId": "e3f8ce4a-4c83-42b8-d62b-56514485e0f3",
        "colab": {
          "base_uri": "https://localhost:8080/"
        }
      },
      "execution_count": 61,
      "outputs": [
        {
          "output_type": "execute_result",
          "data": {
            "text/plain": [
              "torch.Size([3, 4, 6])"
            ]
          },
          "metadata": {},
          "execution_count": 61
        }
      ]
    },
    {
      "cell_type": "code",
      "source": [
        "random_tensor.ndim"
      ],
      "metadata": {
        "id": "_VuoqhrIkqS_",
        "outputId": "46fb8500-2a4a-4853-e8d2-b45e4642d766",
        "colab": {
          "base_uri": "https://localhost:8080/"
        }
      },
      "execution_count": 62,
      "outputs": [
        {
          "output_type": "execute_result",
          "data": {
            "text/plain": [
              "3"
            ]
          },
          "metadata": {},
          "execution_count": 62
        }
      ]
    },
    {
      "cell_type": "code",
      "source": [
        "# Create a random tensor with similar shape to an image tensor\n",
        "random_image_size_tensor = torch.rand(size=(3, 224, 224))\n",
        "random_image_size_tensor, random_image_size_tensor.ndim, random_image_size_tensor.shape"
      ],
      "metadata": {
        "id": "AtYaLoHmkuI8",
        "outputId": "9912a611-723e-4ca4-fe0a-47aa8b564495",
        "colab": {
          "base_uri": "https://localhost:8080/"
        }
      },
      "execution_count": 63,
      "outputs": [
        {
          "output_type": "execute_result",
          "data": {
            "text/plain": [
              "(tensor([[[0.2755, 0.7464, 0.5414,  ..., 0.7973, 0.3066, 0.1936],\n",
              "          [0.6242, 0.4711, 0.3111,  ..., 0.9536, 0.1857, 0.6061],\n",
              "          [0.3341, 0.4377, 0.6689,  ..., 0.3231, 0.1986, 0.0646],\n",
              "          ...,\n",
              "          [0.1357, 0.8462, 0.4808,  ..., 0.0619, 0.9814, 0.3210],\n",
              "          [0.5182, 0.6066, 0.4034,  ..., 0.6569, 0.9959, 0.4799],\n",
              "          [0.8263, 0.9385, 0.3616,  ..., 0.0369, 0.0376, 0.0655]],\n",
              " \n",
              "         [[0.4190, 0.1445, 0.5795,  ..., 0.5002, 0.5488, 0.8467],\n",
              "          [0.0213, 0.1895, 0.0267,  ..., 0.5300, 0.2134, 0.4193],\n",
              "          [0.4403, 0.6729, 0.2818,  ..., 0.4198, 0.3754, 0.5531],\n",
              "          ...,\n",
              "          [0.4972, 0.0307, 0.9024,  ..., 0.8657, 0.9107, 0.9825],\n",
              "          [0.0391, 0.7426, 0.7751,  ..., 0.8796, 0.2993, 0.4701],\n",
              "          [0.7257, 0.6989, 0.9155,  ..., 0.4227, 0.0537, 0.9670]],\n",
              " \n",
              "         [[0.5035, 0.4648, 0.3462,  ..., 0.5413, 0.7633, 0.1079],\n",
              "          [0.8394, 0.2025, 0.9726,  ..., 0.3550, 0.1064, 0.0557],\n",
              "          [0.5802, 0.1700, 0.5836,  ..., 0.0515, 0.2369, 0.6569],\n",
              "          ...,\n",
              "          [0.5616, 0.5432, 0.3941,  ..., 0.9971, 0.9346, 0.9818],\n",
              "          [0.4942, 0.8783, 0.9716,  ..., 0.4540, 0.7403, 0.4392],\n",
              "          [0.9693, 0.7974, 0.0263,  ..., 0.7679, 0.0518, 0.4640]]]),\n",
              " 3,\n",
              " torch.Size([3, 224, 224]))"
            ]
          },
          "metadata": {},
          "execution_count": 63
        }
      ]
    },
    {
      "cell_type": "code",
      "source": [],
      "metadata": {
        "id": "v9rAa4G5lNx8"
      },
      "execution_count": null,
      "outputs": []
    }
  ]
}