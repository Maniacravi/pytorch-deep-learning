{
  "nbformat": 4,
  "nbformat_minor": 0,
  "metadata": {
    "colab": {
      "provenance": [],
      "authorship_tag": "ABX9TyOvtbhrktV7O0rscJ24xAIE",
      "include_colab_link": true
    },
    "kernelspec": {
      "name": "python3",
      "display_name": "Python 3"
    },
    "language_info": {
      "name": "python"
    }
  },
  "cells": [
    {
      "cell_type": "markdown",
      "metadata": {
        "id": "view-in-github",
        "colab_type": "text"
      },
      "source": [
        "<a href=\"https://colab.research.google.com/github/Maniacravi/pytorch-deep-learning/blob/main/00_pytorch_fundamentals_mani.ipynb\" target=\"_parent\"><img src=\"https://colab.research.google.com/assets/colab-badge.svg\" alt=\"Open In Colab\"/></a>"
      ]
    },
    {
      "cell_type": "markdown",
      "source": [
        "# PyTorch Fundamentals"
      ],
      "metadata": {
        "id": "Wqlo7wdRd4kn"
      }
    },
    {
      "cell_type": "markdown",
      "source": [
        "My code along for the first section"
      ],
      "metadata": {
        "id": "EjFX3laWd3Ud"
      }
    },
    {
      "cell_type": "markdown",
      "source": [
        "## Import statements\n"
      ],
      "metadata": {
        "id": "QyiajRx-dkHa"
      }
    },
    {
      "cell_type": "code",
      "source": [
        "import torch\n",
        "import pandas as pd\n",
        "import numpy as np\n",
        "import matplotlib.pyplot as plt\n",
        "print(torch.__version__)"
      ],
      "metadata": {
        "id": "nOBhQlgndVUD",
        "outputId": "53ce2568-d5e1-4275-aaba-42891964cce0",
        "colab": {
          "base_uri": "https://localhost:8080/"
        }
      },
      "execution_count": 1,
      "outputs": [
        {
          "output_type": "stream",
          "name": "stdout",
          "text": [
            "2.6.0+cu124\n"
          ]
        }
      ]
    },
    {
      "cell_type": "markdown",
      "source": [
        "## Tensors"
      ],
      "metadata": {
        "id": "y2tT39wfdytZ"
      }
    },
    {
      "cell_type": "markdown",
      "source": [
        "### Intro"
      ],
      "metadata": {
        "id": "Hj50hJdzeyM9"
      }
    },
    {
      "cell_type": "markdown",
      "source": [
        "#### Scalars"
      ],
      "metadata": {
        "id": "HYrBEqIogK0O"
      }
    },
    {
      "cell_type": "code",
      "source": [
        "scalar = torch.tensor(9)\n",
        "scalar"
      ],
      "metadata": {
        "id": "gxizI1qQfCRV",
        "outputId": "ee164e3f-8917-4f02-96cf-b1a36dfb956e",
        "colab": {
          "base_uri": "https://localhost:8080/"
        }
      },
      "execution_count": 2,
      "outputs": [
        {
          "output_type": "execute_result",
          "data": {
            "text/plain": [
              "tensor(9)"
            ]
          },
          "metadata": {},
          "execution_count": 2
        }
      ]
    },
    {
      "cell_type": "code",
      "source": [
        "scalar.ndim"
      ],
      "metadata": {
        "id": "-4s2HtHdfJt0",
        "outputId": "b877ddbb-e4d3-40f3-f09b-38fe1ada0c61",
        "colab": {
          "base_uri": "https://localhost:8080/"
        }
      },
      "execution_count": 3,
      "outputs": [
        {
          "output_type": "execute_result",
          "data": {
            "text/plain": [
              "0"
            ]
          },
          "metadata": {},
          "execution_count": 3
        }
      ]
    },
    {
      "cell_type": "code",
      "source": [
        "# Get tensor back as Python int\n",
        "scalar.item()"
      ],
      "metadata": {
        "id": "9lQSi43Hf2VZ",
        "outputId": "b9d9a600-b21c-42d8-d935-f8cfc08d439c",
        "colab": {
          "base_uri": "https://localhost:8080/"
        }
      },
      "execution_count": 4,
      "outputs": [
        {
          "output_type": "execute_result",
          "data": {
            "text/plain": [
              "9"
            ]
          },
          "metadata": {},
          "execution_count": 4
        }
      ]
    },
    {
      "cell_type": "code",
      "source": [
        "scalar.shape"
      ],
      "metadata": {
        "id": "eeUwxbLjgsAF",
        "outputId": "375aca8f-5324-4922-f689-0a0330fdfbca",
        "colab": {
          "base_uri": "https://localhost:8080/"
        }
      },
      "execution_count": 5,
      "outputs": [
        {
          "output_type": "execute_result",
          "data": {
            "text/plain": [
              "torch.Size([])"
            ]
          },
          "metadata": {},
          "execution_count": 5
        }
      ]
    },
    {
      "cell_type": "markdown",
      "source": [
        "#### Vectors"
      ],
      "metadata": {
        "id": "Rlt11ZMXgAFL"
      }
    },
    {
      "cell_type": "code",
      "source": [
        "vector = torch.tensor([9, 9, 9])\n",
        "vector"
      ],
      "metadata": {
        "id": "hfcgWYnWgPVN",
        "outputId": "f50e416c-c73a-4b67-e57e-227822e21305",
        "colab": {
          "base_uri": "https://localhost:8080/"
        }
      },
      "execution_count": 6,
      "outputs": [
        {
          "output_type": "execute_result",
          "data": {
            "text/plain": [
              "tensor([9, 9, 9])"
            ]
          },
          "metadata": {},
          "execution_count": 6
        }
      ]
    },
    {
      "cell_type": "code",
      "source": [
        "vector.ndim"
      ],
      "metadata": {
        "id": "-dLLdmptgUdT",
        "outputId": "00d8e054-87c4-45dc-bc2f-b61280026ae8",
        "colab": {
          "base_uri": "https://localhost:8080/"
        }
      },
      "execution_count": 7,
      "outputs": [
        {
          "output_type": "execute_result",
          "data": {
            "text/plain": [
              "1"
            ]
          },
          "metadata": {},
          "execution_count": 7
        }
      ]
    },
    {
      "cell_type": "code",
      "source": [
        "vector.shape"
      ],
      "metadata": {
        "id": "ogJEhICTgZBY",
        "outputId": "bfb0c201-d8ab-4d01-950f-204251a875f8",
        "colab": {
          "base_uri": "https://localhost:8080/"
        }
      },
      "execution_count": 8,
      "outputs": [
        {
          "output_type": "execute_result",
          "data": {
            "text/plain": [
              "torch.Size([3])"
            ]
          },
          "metadata": {},
          "execution_count": 8
        }
      ]
    },
    {
      "cell_type": "markdown",
      "source": [
        "#### MATRIX"
      ],
      "metadata": {
        "id": "iAcInYBAgxTs"
      }
    },
    {
      "cell_type": "code",
      "source": [
        "MATRIX = torch.tensor([[9, 9],\n",
        "                       [10, 11]])\n",
        "MATRIX"
      ],
      "metadata": {
        "id": "FYeWcpN8gmai",
        "outputId": "0d8148f6-bf4c-4a21-a02a-429ee1211d60",
        "colab": {
          "base_uri": "https://localhost:8080/"
        }
      },
      "execution_count": 9,
      "outputs": [
        {
          "output_type": "execute_result",
          "data": {
            "text/plain": [
              "tensor([[ 9,  9],\n",
              "        [10, 11]])"
            ]
          },
          "metadata": {},
          "execution_count": 9
        }
      ]
    },
    {
      "cell_type": "code",
      "source": [
        "MATRIX.ndim"
      ],
      "metadata": {
        "id": "QPX2qKzxg_53",
        "outputId": "cc87b913-e808-4041-c643-0073a9936887",
        "colab": {
          "base_uri": "https://localhost:8080/"
        }
      },
      "execution_count": 10,
      "outputs": [
        {
          "output_type": "execute_result",
          "data": {
            "text/plain": [
              "2"
            ]
          },
          "metadata": {},
          "execution_count": 10
        }
      ]
    },
    {
      "cell_type": "code",
      "source": [
        "MATRIX.shape"
      ],
      "metadata": {
        "id": "f533td7AhC9d",
        "outputId": "c4858705-c26d-4a9a-fac0-2d1318938eb5",
        "colab": {
          "base_uri": "https://localhost:8080/"
        }
      },
      "execution_count": 11,
      "outputs": [
        {
          "output_type": "execute_result",
          "data": {
            "text/plain": [
              "torch.Size([2, 2])"
            ]
          },
          "metadata": {},
          "execution_count": 11
        }
      ]
    },
    {
      "cell_type": "code",
      "source": [
        "# slicing\n",
        "\n",
        "MATRIX[0]"
      ],
      "metadata": {
        "id": "BXFQtlJqhGIb",
        "outputId": "38c97ac2-733e-4a6d-ec20-962157de1e67",
        "colab": {
          "base_uri": "https://localhost:8080/"
        }
      },
      "execution_count": 12,
      "outputs": [
        {
          "output_type": "execute_result",
          "data": {
            "text/plain": [
              "tensor([9, 9])"
            ]
          },
          "metadata": {},
          "execution_count": 12
        }
      ]
    },
    {
      "cell_type": "code",
      "source": [
        "MATRIX[1, 0]"
      ],
      "metadata": {
        "id": "iALVl0AqhQSn",
        "outputId": "a2f70561-454e-4ce3-960c-1fae8192751b",
        "colab": {
          "base_uri": "https://localhost:8080/"
        }
      },
      "execution_count": 13,
      "outputs": [
        {
          "output_type": "execute_result",
          "data": {
            "text/plain": [
              "tensor(10)"
            ]
          },
          "metadata": {},
          "execution_count": 13
        }
      ]
    },
    {
      "cell_type": "markdown",
      "source": [
        "#### TENSOR"
      ],
      "metadata": {
        "id": "JQ3LL5UKh8_T"
      }
    },
    {
      "cell_type": "code",
      "source": [
        "TENSOR = torch.tensor([[[1, 2, 3],\n",
        "                        [4, 5, 6],\n",
        "                        [7, 8, 9]]])\n",
        "TENSOR"
      ],
      "metadata": {
        "id": "qejCL3Qshaeq",
        "outputId": "e05257f0-683c-47ca-ec69-ec6175991d4f",
        "colab": {
          "base_uri": "https://localhost:8080/"
        }
      },
      "execution_count": 14,
      "outputs": [
        {
          "output_type": "execute_result",
          "data": {
            "text/plain": [
              "tensor([[[1, 2, 3],\n",
              "         [4, 5, 6],\n",
              "         [7, 8, 9]]])"
            ]
          },
          "metadata": {},
          "execution_count": 14
        }
      ]
    },
    {
      "cell_type": "code",
      "source": [
        "TENSOR.ndim"
      ],
      "metadata": {
        "id": "L8MKWBv9iEz3",
        "outputId": "77e5826b-edaa-4166-eb18-f0dbe5dc3ac1",
        "colab": {
          "base_uri": "https://localhost:8080/"
        }
      },
      "execution_count": 15,
      "outputs": [
        {
          "output_type": "execute_result",
          "data": {
            "text/plain": [
              "3"
            ]
          },
          "metadata": {},
          "execution_count": 15
        }
      ]
    },
    {
      "cell_type": "code",
      "source": [
        "TENSOR.shape"
      ],
      "metadata": {
        "id": "cyXTZ7D5iNKi",
        "outputId": "527c64e7-9962-430e-ae40-319889ad4c75",
        "colab": {
          "base_uri": "https://localhost:8080/"
        }
      },
      "execution_count": 16,
      "outputs": [
        {
          "output_type": "execute_result",
          "data": {
            "text/plain": [
              "torch.Size([1, 3, 3])"
            ]
          },
          "metadata": {},
          "execution_count": 16
        }
      ]
    },
    {
      "cell_type": "code",
      "source": [
        "TENSOR[0]"
      ],
      "metadata": {
        "id": "vXk1k5PoiOaB",
        "outputId": "6af99642-c812-4c58-eff5-735b479c08c6",
        "colab": {
          "base_uri": "https://localhost:8080/"
        }
      },
      "execution_count": 17,
      "outputs": [
        {
          "output_type": "execute_result",
          "data": {
            "text/plain": [
              "tensor([[1, 2, 3],\n",
              "        [4, 5, 6],\n",
              "        [7, 8, 9]])"
            ]
          },
          "metadata": {},
          "execution_count": 17
        }
      ]
    },
    {
      "cell_type": "code",
      "source": [],
      "metadata": {
        "id": "9F2XK58Ai0j4"
      },
      "execution_count": 17,
      "outputs": []
    },
    {
      "cell_type": "markdown",
      "source": [
        "### Creating Tensors"
      ],
      "metadata": {
        "id": "h3zANG6wjkW7"
      }
    },
    {
      "cell_type": "markdown",
      "source": [
        "#### Random Tensors"
      ],
      "metadata": {
        "id": "HRnnoaTqjoPW"
      }
    },
    {
      "cell_type": "markdown",
      "source": [
        "Creating random tensors because they are the most usual way to create tensors in code"
      ],
      "metadata": {
        "id": "6eihPSzkkK0O"
      }
    },
    {
      "cell_type": "code",
      "source": [
        "# Create a random tensor\n",
        "\n",
        "random_tensor = torch.rand(3, 4)\n",
        "random_tensor\n"
      ],
      "metadata": {
        "id": "l600AFE6kTeB",
        "outputId": "eba06d01-a8e7-4371-8fdd-8bc3a326e32a",
        "colab": {
          "base_uri": "https://localhost:8080/"
        }
      },
      "execution_count": 27,
      "outputs": [
        {
          "output_type": "execute_result",
          "data": {
            "text/plain": [
              "tensor([[0.5634, 0.0523, 0.0011, 0.1825],\n",
              "        [0.2674, 0.8673, 0.2341, 0.0161],\n",
              "        [0.0299, 0.1540, 0.9526, 0.9091]])"
            ]
          },
          "metadata": {},
          "execution_count": 27
        }
      ]
    },
    {
      "cell_type": "code",
      "source": [
        "random_tensor.shape"
      ],
      "metadata": {
        "id": "wQDoilLHkh_C",
        "outputId": "1a7610c9-9652-488c-b56c-296f06f0e803",
        "colab": {
          "base_uri": "https://localhost:8080/"
        }
      },
      "execution_count": 19,
      "outputs": [
        {
          "output_type": "execute_result",
          "data": {
            "text/plain": [
              "torch.Size([3, 4, 6])"
            ]
          },
          "metadata": {},
          "execution_count": 19
        }
      ]
    },
    {
      "cell_type": "code",
      "source": [
        "random_tensor.ndim"
      ],
      "metadata": {
        "id": "_VuoqhrIkqS_",
        "outputId": "73459959-d9e7-4a33-dd44-fe381a6d9e0f",
        "colab": {
          "base_uri": "https://localhost:8080/"
        }
      },
      "execution_count": 20,
      "outputs": [
        {
          "output_type": "execute_result",
          "data": {
            "text/plain": [
              "3"
            ]
          },
          "metadata": {},
          "execution_count": 20
        }
      ]
    },
    {
      "cell_type": "code",
      "source": [
        "# Create a random tensor with similar shape to an image tensor\n",
        "random_image_size_tensor = torch.rand(size=(3, 224, 224))\n",
        "random_image_size_tensor, random_image_size_tensor.ndim, random_image_size_tensor.shape"
      ],
      "metadata": {
        "id": "AtYaLoHmkuI8",
        "outputId": "82763367-d013-4361-90df-d85f0cc766e3",
        "colab": {
          "base_uri": "https://localhost:8080/"
        }
      },
      "execution_count": 21,
      "outputs": [
        {
          "output_type": "execute_result",
          "data": {
            "text/plain": [
              "(tensor([[[0.6763, 0.8986, 0.0291,  ..., 0.3638, 0.4245, 0.2210],\n",
              "          [0.4569, 0.9883, 0.9402,  ..., 0.3334, 0.0104, 0.4459],\n",
              "          [0.8517, 0.6790, 0.8334,  ..., 0.4194, 0.8088, 0.4164],\n",
              "          ...,\n",
              "          [0.5148, 0.9991, 0.8305,  ..., 0.1391, 0.7130, 0.7386],\n",
              "          [0.8243, 0.9806, 0.4165,  ..., 0.8762, 0.3138, 0.4268],\n",
              "          [0.0014, 0.4376, 0.7164,  ..., 0.8895, 0.8005, 0.6523]],\n",
              " \n",
              "         [[0.8994, 0.2043, 0.3196,  ..., 0.9814, 0.1752, 0.1710],\n",
              "          [0.7753, 0.1107, 0.0546,  ..., 0.6809, 0.6535, 0.7321],\n",
              "          [0.4655, 0.9326, 0.4491,  ..., 0.8731, 0.6571, 0.5260],\n",
              "          ...,\n",
              "          [0.1811, 0.0299, 0.0948,  ..., 0.2943, 0.6694, 0.5973],\n",
              "          [0.2277, 0.2890, 0.6889,  ..., 0.1274, 0.9975, 0.5521],\n",
              "          [0.3556, 0.0566, 0.2336,  ..., 0.3565, 0.2408, 0.5647]],\n",
              " \n",
              "         [[0.7334, 0.2408, 0.6974,  ..., 0.6584, 0.2214, 0.2447],\n",
              "          [0.0364, 0.3451, 0.2567,  ..., 0.2909, 0.0730, 0.0357],\n",
              "          [0.1354, 0.3560, 0.4792,  ..., 0.6684, 0.0369, 0.4678],\n",
              "          ...,\n",
              "          [0.5484, 0.5002, 0.3143,  ..., 0.5736, 0.3652, 0.1725],\n",
              "          [0.8302, 0.8712, 0.1564,  ..., 0.6352, 0.5794, 0.2347],\n",
              "          [0.6915, 0.9898, 0.0023,  ..., 0.1683, 0.3366, 0.3278]]]),\n",
              " 3,\n",
              " torch.Size([3, 224, 224]))"
            ]
          },
          "metadata": {},
          "execution_count": 21
        }
      ]
    },
    {
      "cell_type": "code",
      "source": [
        "# Create a random tensor again\n",
        "random_tensor_2 = torch.rand(size=(3, 1920, 1080))\n",
        "random_tensor_2.shape"
      ],
      "metadata": {
        "id": "v9rAa4G5lNx8",
        "outputId": "07f2cafb-60eb-4c84-f5bc-cd71742c1267",
        "colab": {
          "base_uri": "https://localhost:8080/"
        }
      },
      "execution_count": 24,
      "outputs": [
        {
          "output_type": "execute_result",
          "data": {
            "text/plain": [
              "torch.Size([3, 1920, 1080])"
            ]
          },
          "metadata": {},
          "execution_count": 24
        }
      ]
    },
    {
      "cell_type": "markdown",
      "source": [
        "#### Zeros and Ones"
      ],
      "metadata": {
        "id": "n0C0HUUW87gV"
      }
    },
    {
      "cell_type": "code",
      "source": [
        "# Create a tensor of all zeros\n",
        "zeros = torch.zeros(size=(3, 4))\n",
        "zeros"
      ],
      "metadata": {
        "id": "qMxwWSmE8u6W",
        "outputId": "0e6587fb-08fb-4cc8-d017-1d754b996349",
        "colab": {
          "base_uri": "https://localhost:8080/"
        }
      },
      "execution_count": 25,
      "outputs": [
        {
          "output_type": "execute_result",
          "data": {
            "text/plain": [
              "tensor([[0., 0., 0., 0.],\n",
              "        [0., 0., 0., 0.],\n",
              "        [0., 0., 0., 0.]])"
            ]
          },
          "metadata": {},
          "execution_count": 25
        }
      ]
    },
    {
      "cell_type": "code",
      "source": [
        "# All ones\n",
        "ones = torch.ones(size=(3, 4))\n",
        "ones"
      ],
      "metadata": {
        "id": "mIPBEep99GXZ",
        "outputId": "cae5e888-4bec-43c0-f4ec-08eb4bbe6bd7",
        "colab": {
          "base_uri": "https://localhost:8080/"
        }
      },
      "execution_count": 32,
      "outputs": [
        {
          "output_type": "execute_result",
          "data": {
            "text/plain": [
              "tensor([[1., 1., 1., 1.],\n",
              "        [1., 1., 1., 1.],\n",
              "        [1., 1., 1., 1.]])"
            ]
          },
          "metadata": {},
          "execution_count": 32
        }
      ]
    },
    {
      "cell_type": "code",
      "source": [
        "ones.dtype # Explore the datatype of the tensor"
      ],
      "metadata": {
        "id": "sbHdPjAU9Jjo",
        "outputId": "7eae6596-abab-426a-ea76-fd7861d44814",
        "colab": {
          "base_uri": "https://localhost:8080/"
        }
      },
      "execution_count": 33,
      "outputs": [
        {
          "output_type": "execute_result",
          "data": {
            "text/plain": [
              "torch.float32"
            ]
          },
          "metadata": {},
          "execution_count": 33
        }
      ]
    },
    {
      "cell_type": "markdown",
      "source": [
        "#### Creating a Range of tensors and tensors-like"
      ],
      "metadata": {
        "id": "hS9W4ChU9vNq"
      }
    },
    {
      "cell_type": "code",
      "source": [
        "# torch.range\n",
        "torch.range(0,10) # Deprecated"
      ],
      "metadata": {
        "id": "7at3C1bh9hzd",
        "outputId": "467cd9be-fa60-46ed-f665-234d3a355b2c",
        "colab": {
          "base_uri": "https://localhost:8080/"
        }
      },
      "execution_count": 35,
      "outputs": [
        {
          "output_type": "stream",
          "name": "stderr",
          "text": [
            "<ipython-input-35-462832172>:2: UserWarning: torch.range is deprecated and will be removed in a future release because its behavior is inconsistent with Python's range builtin. Instead, use torch.arange, which produces values in [start, end).\n",
            "  torch.range(0,10)\n"
          ]
        },
        {
          "output_type": "execute_result",
          "data": {
            "text/plain": [
              "tensor([ 0.,  1.,  2.,  3.,  4.,  5.,  6.,  7.,  8.,  9., 10.])"
            ]
          },
          "metadata": {},
          "execution_count": 35
        }
      ]
    },
    {
      "cell_type": "code",
      "source": [
        "one_to_ten = torch.arange(1, 11)\n",
        "one_to_ten"
      ],
      "metadata": {
        "id": "napR2wmi93ES",
        "outputId": "7ac8e2ad-e30f-4d0c-96a4-aa20072ff60f",
        "colab": {
          "base_uri": "https://localhost:8080/"
        }
      },
      "execution_count": 37,
      "outputs": [
        {
          "output_type": "execute_result",
          "data": {
            "text/plain": [
              "tensor([ 1,  2,  3,  4,  5,  6,  7,  8,  9, 10])"
            ]
          },
          "metadata": {},
          "execution_count": 37
        }
      ]
    },
    {
      "cell_type": "code",
      "source": [
        "# also can use step\n",
        "torch.arange(start=0, end=1000, step=77)"
      ],
      "metadata": {
        "id": "hGKGYpke-Jse",
        "outputId": "823b7fe0-b248-4f59-f880-441691dbae42",
        "colab": {
          "base_uri": "https://localhost:8080/"
        }
      },
      "execution_count": 38,
      "outputs": [
        {
          "output_type": "execute_result",
          "data": {
            "text/plain": [
              "tensor([  0,  77, 154, 231, 308, 385, 462, 539, 616, 693, 770, 847, 924])"
            ]
          },
          "metadata": {},
          "execution_count": 38
        }
      ]
    },
    {
      "cell_type": "code",
      "source": [
        "# Create tensors like\n",
        "ten_zeros = torch.zeros_like(input = one_to_ten) # Returns a tensor filled with the scalar value 0, with the same size as input\n",
        "ten_zeros"
      ],
      "metadata": {
        "id": "3bxQIhpl-iCo",
        "outputId": "dcf603ea-8c8f-46f5-c38b-9c0ce10bcd6f",
        "colab": {
          "base_uri": "https://localhost:8080/"
        }
      },
      "execution_count": 40,
      "outputs": [
        {
          "output_type": "execute_result",
          "data": {
            "text/plain": [
              "tensor([0, 0, 0, 0, 0, 0, 0, 0, 0, 0])"
            ]
          },
          "metadata": {},
          "execution_count": 40
        }
      ]
    },
    {
      "cell_type": "code",
      "source": [],
      "metadata": {
        "id": "Hm8lfNE3-ubE"
      },
      "execution_count": null,
      "outputs": []
    },
    {
      "cell_type": "markdown",
      "source": [
        "### Tensor datatypes"
      ],
      "metadata": {
        "id": "K03u1_7A_Xjh"
      }
    },
    {
      "cell_type": "code",
      "source": [
        "# Float_32 tensor\n",
        "float_32_tensor = torch.tensor([3.0, 6.0, 9.0],\n",
        "                               dtype=None) # What datatype is the tensor\n",
        ""
      ],
      "metadata": {
        "id": "0s6fK6hb_aOG"
      },
      "execution_count": 41,
      "outputs": []
    },
    {
      "cell_type": "code",
      "source": [
        "float_32_tensor.dtype"
      ],
      "metadata": {
        "id": "4-NBZNQN_wHo",
        "outputId": "a034ada5-bb82-4b08-ce63-a69e1e505942",
        "colab": {
          "base_uri": "https://localhost:8080/"
        }
      },
      "execution_count": 42,
      "outputs": [
        {
          "output_type": "execute_result",
          "data": {
            "text/plain": [
              "torch.float32"
            ]
          },
          "metadata": {},
          "execution_count": 42
        }
      ]
    },
    {
      "cell_type": "markdown",
      "source": [
        "Even when dtype is specified as None - still produces a float32 tensor"
      ],
      "metadata": {
        "id": "lezpbSqN_z6r"
      }
    },
    {
      "cell_type": "code",
      "source": [
        "float_32_tensor = torch.tensor([3.0, 6.0, 9.0],\n",
        "                               dtype=None, # What datatype is the tensor\n",
        "                               device=None, # What device is your tensor on ('cpu', 'gpu' etc)\n",
        "                               requires_grad=False)\n",
        "float_32_tensor"
      ],
      "metadata": {
        "id": "7XejTncS_x2n",
        "outputId": "7d25981a-9ee8-4b22-9188-ab1ad3f1ce31",
        "colab": {
          "base_uri": "https://localhost:8080/"
        }
      },
      "execution_count": 43,
      "outputs": [
        {
          "output_type": "execute_result",
          "data": {
            "text/plain": [
              "tensor([3., 6., 9.])"
            ]
          },
          "metadata": {},
          "execution_count": 43
        }
      ]
    },
    {
      "cell_type": "markdown",
      "source": [
        "** Note ** : Learn about tensor datatypes and their differences. May run into errors with this often"
      ],
      "metadata": {
        "id": "gJtKuK4iAwbv"
      }
    },
    {
      "cell_type": "code",
      "source": [
        "float_16_tensor = float_32_tensor.type(torch.float16) # Crearting a float16 tensor from the float32 tensor\n",
        "float_16_tensor"
      ],
      "metadata": {
        "id": "MYlfJcvOAACC",
        "outputId": "787ca42e-8aea-4fdc-a55c-c53cb3d7ff61",
        "colab": {
          "base_uri": "https://localhost:8080/"
        }
      },
      "execution_count": 44,
      "outputs": [
        {
          "output_type": "execute_result",
          "data": {
            "text/plain": [
              "tensor([3., 6., 9.], dtype=torch.float16)"
            ]
          },
          "metadata": {},
          "execution_count": 44
        }
      ]
    },
    {
      "cell_type": "code",
      "source": [
        "float_16_tensor * float_32_tensor"
      ],
      "metadata": {
        "id": "v9DIZ4jMBnLp",
        "outputId": "7b4ec5d4-3f04-4eca-8150-cb4a47167ab5",
        "colab": {
          "base_uri": "https://localhost:8080/"
        }
      },
      "execution_count": 45,
      "outputs": [
        {
          "output_type": "execute_result",
          "data": {
            "text/plain": [
              "tensor([ 9., 36., 81.])"
            ]
          },
          "metadata": {},
          "execution_count": 45
        }
      ]
    },
    {
      "cell_type": "markdown",
      "source": [
        "This works surprisignly but beware of mixing multiple types of tensors. Sometimes will raise errors"
      ],
      "metadata": {
        "id": "9rJbDGGrB_Oc"
      }
    },
    {
      "cell_type": "code",
      "source": [
        "int_32_tensor = float_32_tensor.type(dtype = torch.int32)\n",
        "int_32_tensor"
      ],
      "metadata": {
        "id": "TYV5TBO7B5rW",
        "outputId": "5ec46e84-5fcf-41c3-fba8-b19361139605",
        "colab": {
          "base_uri": "https://localhost:8080/"
        }
      },
      "execution_count": 47,
      "outputs": [
        {
          "output_type": "execute_result",
          "data": {
            "text/plain": [
              "tensor([3, 6, 9], dtype=torch.int32)"
            ]
          },
          "metadata": {},
          "execution_count": 47
        }
      ]
    },
    {
      "cell_type": "code",
      "source": [
        "int_32_tensor * float_32_tensor"
      ],
      "metadata": {
        "id": "5dnJqtOMCbg6",
        "outputId": "a9415bc4-0cc1-495d-f479-a33fdf4ee2a7",
        "colab": {
          "base_uri": "https://localhost:8080/"
        }
      },
      "execution_count": 48,
      "outputs": [
        {
          "output_type": "execute_result",
          "data": {
            "text/plain": [
              "tensor([ 9., 36., 81.])"
            ]
          },
          "metadata": {},
          "execution_count": 48
        }
      ]
    },
    {
      "cell_type": "markdown",
      "source": [
        "Still works"
      ],
      "metadata": {
        "id": "RpnhwdK6Cr3E"
      }
    },
    {
      "cell_type": "markdown",
      "source": [
        "#### Getting info from Tensors"
      ],
      "metadata": {
        "id": "zqwrXPIfDGEw"
      }
    },
    {
      "cell_type": "code",
      "source": [
        "# Get dtype\n",
        "int_32_tensor.dtype"
      ],
      "metadata": {
        "id": "vh9-_QkiCjr3",
        "outputId": "b684ccca-bd53-45e1-f60a-309917bd43a3",
        "colab": {
          "base_uri": "https://localhost:8080/"
        }
      },
      "execution_count": 49,
      "outputs": [
        {
          "output_type": "execute_result",
          "data": {
            "text/plain": [
              "torch.int32"
            ]
          },
          "metadata": {},
          "execution_count": 49
        }
      ]
    },
    {
      "cell_type": "code",
      "source": [
        "# Get shape\n",
        "float_32_tensor.shape"
      ],
      "metadata": {
        "id": "-oiYzjR_DNXL",
        "outputId": "392098c8-1556-49fe-db29-f99492461d6d",
        "colab": {
          "base_uri": "https://localhost:8080/"
        }
      },
      "execution_count": 50,
      "outputs": [
        {
          "output_type": "execute_result",
          "data": {
            "text/plain": [
              "torch.Size([3])"
            ]
          },
          "metadata": {},
          "execution_count": 50
        }
      ]
    },
    {
      "cell_type": "code",
      "source": [
        "# Get device\n",
        "float_16_tensor.device"
      ],
      "metadata": {
        "id": "s8mbteP-DPrB",
        "outputId": "961b46fb-15f9-44a5-c5c7-86a2b3675c24",
        "colab": {
          "base_uri": "https://localhost:8080/"
        }
      },
      "execution_count": 51,
      "outputs": [
        {
          "output_type": "execute_result",
          "data": {
            "text/plain": [
              "device(type='cpu')"
            ]
          },
          "metadata": {},
          "execution_count": 51
        }
      ]
    },
    {
      "cell_type": "code",
      "source": [
        "# Get ndim\n",
        "int_32_tensor.ndim"
      ],
      "metadata": {
        "id": "eDu8jM7WDSl3",
        "outputId": "2bf256bf-3e6d-4be3-bdf4-94f85e7e5f10",
        "colab": {
          "base_uri": "https://localhost:8080/"
        }
      },
      "execution_count": 52,
      "outputs": [
        {
          "output_type": "execute_result",
          "data": {
            "text/plain": [
              "1"
            ]
          },
          "metadata": {},
          "execution_count": 52
        }
      ]
    },
    {
      "cell_type": "markdown",
      "source": [
        "#### Manipulating Tensors (tensor operations)"
      ],
      "metadata": {
        "id": "kZ-UGnBaD2TG"
      }
    },
    {
      "cell_type": "markdown",
      "source": [
        "Includes:\n",
        "* Addition\n",
        "* Subtraction\n",
        "* Multiplication (element-wise)\n",
        "* Division\n",
        "* Mat Mult"
      ],
      "metadata": {
        "id": "yePcw1O9EGgw"
      }
    },
    {
      "cell_type": "code",
      "source": [
        "# Addition\n",
        "tensor = torch.tensor([1, 2, 3])\n",
        "tensor + 10\n"
      ],
      "metadata": {
        "id": "AmEo9eElDahc",
        "outputId": "49699fb0-e7bb-43b8-ec86-be7d3531276b",
        "colab": {
          "base_uri": "https://localhost:8080/"
        }
      },
      "execution_count": 53,
      "outputs": [
        {
          "output_type": "execute_result",
          "data": {
            "text/plain": [
              "tensor([11, 12, 13])"
            ]
          },
          "metadata": {},
          "execution_count": 53
        }
      ]
    },
    {
      "cell_type": "code",
      "source": [
        "# Add two tensors\n",
        "int_32_tensor + float_32_tensor"
      ],
      "metadata": {
        "id": "pSkM2Ox0ET26",
        "outputId": "3d63cb00-0f42-4925-92ec-c54c0fb38299",
        "colab": {
          "base_uri": "https://localhost:8080/"
        }
      },
      "execution_count": 54,
      "outputs": [
        {
          "output_type": "execute_result",
          "data": {
            "text/plain": [
              "tensor([ 6., 12., 18.])"
            ]
          },
          "metadata": {},
          "execution_count": 54
        }
      ]
    },
    {
      "cell_type": "code",
      "source": [
        "# Multiply tensor by 10\n",
        "tensor * 10"
      ],
      "metadata": {
        "id": "PX719xp4EYQX",
        "outputId": "06cedd06-27ce-4b5e-8cca-3cde94ff6363",
        "colab": {
          "base_uri": "https://localhost:8080/"
        }
      },
      "execution_count": 55,
      "outputs": [
        {
          "output_type": "execute_result",
          "data": {
            "text/plain": [
              "tensor([10, 20, 30])"
            ]
          },
          "metadata": {},
          "execution_count": 55
        }
      ]
    },
    {
      "cell_type": "code",
      "source": [
        "# Subtract by 10\n",
        "tensor - 10"
      ],
      "metadata": {
        "id": "ahfCBWIMEiYy",
        "outputId": "fb42373c-e223-4f7d-f7df-615411e19d40",
        "colab": {
          "base_uri": "https://localhost:8080/"
        }
      },
      "execution_count": 56,
      "outputs": [
        {
          "output_type": "execute_result",
          "data": {
            "text/plain": [
              "tensor([-9, -8, -7])"
            ]
          },
          "metadata": {},
          "execution_count": 56
        }
      ]
    },
    {
      "cell_type": "code",
      "source": [
        "# Torch inbuilt functions\n",
        "torch.mul(tensor, 10), torch.add(tensor, 10), torch.sub(tensor, 10)"
      ],
      "metadata": {
        "id": "7Lr5KOEREsk9",
        "outputId": "2ceefb57-4af6-4ef2-a15b-d7ba8e9829bc",
        "colab": {
          "base_uri": "https://localhost:8080/"
        }
      },
      "execution_count": 59,
      "outputs": [
        {
          "output_type": "execute_result",
          "data": {
            "text/plain": [
              "(tensor([10, 20, 30]), tensor([11, 12, 13]), tensor([-9, -8, -7]))"
            ]
          },
          "metadata": {},
          "execution_count": 59
        }
      ]
    },
    {
      "cell_type": "code",
      "source": [
        "# Mat mult\n",
        "torch.matmul(float_32_tensor, tensor.type(torch.float32))"
      ],
      "metadata": {
        "id": "e8lmFjWSEz9r",
        "outputId": "2d8286a4-f368-4061-ae0a-c5cea7621763",
        "colab": {
          "base_uri": "https://localhost:8080/"
        }
      },
      "execution_count": 64,
      "outputs": [
        {
          "output_type": "execute_result",
          "data": {
            "text/plain": [
              "tensor(42.)"
            ]
          },
          "metadata": {},
          "execution_count": 64
        }
      ]
    },
    {
      "cell_type": "code",
      "source": [
        "# Another one\n",
        "torch.matmul(torch.rand(size=(4,4)), torch.rand(size=(4,1)))"
      ],
      "metadata": {
        "id": "3irYu7NmFE2J",
        "outputId": "d53632ac-2c56-41fd-c71d-06236e8baf50",
        "colab": {
          "base_uri": "https://localhost:8080/"
        }
      },
      "execution_count": 68,
      "outputs": [
        {
          "output_type": "execute_result",
          "data": {
            "text/plain": [
              "tensor([[0.9462],\n",
              "        [1.0132],\n",
              "        [1.3153],\n",
              "        [0.6183]])"
            ]
          },
          "metadata": {},
          "execution_count": 68
        }
      ]
    },
    {
      "cell_type": "code",
      "source": [
        "# Do the matmul by forloop and see how long the time difference is\n",
        "%%time\n",
        "value = 0\n",
        "for i in range(len(tensor)):\n",
        "  value += tensor[i] * tensor[i]\n",
        "value\n"
      ],
      "metadata": {
        "id": "3K7Ege1OGKK9",
        "outputId": "d87be614-ce2e-48e7-9e8f-98ecc6ac4207",
        "colab": {
          "base_uri": "https://localhost:8080/"
        }
      },
      "execution_count": 71,
      "outputs": [
        {
          "output_type": "stream",
          "name": "stdout",
          "text": [
            "CPU times: user 856 µs, sys: 1 ms, total: 1.86 ms\n",
            "Wall time: 1.57 ms\n"
          ]
        },
        {
          "output_type": "execute_result",
          "data": {
            "text/plain": [
              "tensor(14)"
            ]
          },
          "metadata": {},
          "execution_count": 71
        }
      ]
    },
    {
      "cell_type": "code",
      "source": [
        "# same using matmul\n",
        "%%time\n",
        "torch.matmul(tensor, tensor) # Vectorized version - therefore much faster\n"
      ],
      "metadata": {
        "id": "F7uLkKnLLaam",
        "outputId": "c76672c7-d231-4a1e-a952-f49cfb097ee9",
        "colab": {
          "base_uri": "https://localhost:8080/"
        }
      },
      "execution_count": 72,
      "outputs": [
        {
          "output_type": "stream",
          "name": "stdout",
          "text": [
            "CPU times: user 537 µs, sys: 0 ns, total: 537 µs\n",
            "Wall time: 381 µs\n"
          ]
        },
        {
          "output_type": "execute_result",
          "data": {
            "text/plain": [
              "tensor(14)"
            ]
          },
          "metadata": {},
          "execution_count": 72
        }
      ]
    },
    {
      "cell_type": "code",
      "source": [],
      "metadata": {
        "id": "IPgl0x22LqY3"
      },
      "execution_count": null,
      "outputs": []
    }
  ]
}